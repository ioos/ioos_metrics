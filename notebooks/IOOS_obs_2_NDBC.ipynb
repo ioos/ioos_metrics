{
  "nbformat": 4,
  "nbformat_minor": 0,
  "metadata": {
    "colab": {
      "provenance": [],
      "authorship_tag": "ABX9TyNQkRgytKjZq0LkuZmjwDnO",
      "include_colab_link": true
    },
    "kernelspec": {
      "name": "python3",
      "display_name": "Python 3"
    },
    "language_info": {
      "name": "python"
    }
  },
  "cells": [
    {
      "cell_type": "markdown",
      "metadata": {
        "id": "view-in-github",
        "colab_type": "text"
      },
      "source": [
        "<a href=\"https://colab.research.google.com/github/MathewBiddle/ioos_metrics/blob/yearly_ra_gts/notebooks/IOOS_obs_2_NDBC.ipynb\" target=\"_parent\"><img src=\"https://colab.research.google.com/assets/colab-badge.svg\" alt=\"Open In Colab\"/></a>"
      ]
    },
    {
      "cell_type": "code",
      "source": [
        "!pip install erddapy"
      ],
      "metadata": {
        "colab": {
          "base_uri": "https://localhost:8080/"
        },
        "id": "TsqgKMtJ5rkP",
        "outputId": "0f9355ba-32b3-4998-b500-61c6feb600ad"
      },
      "execution_count": 1,
      "outputs": [
        {
          "output_type": "stream",
          "name": "stdout",
          "text": [
            "Collecting erddapy\n",
            "  Downloading erddapy-2.2.4-py3-none-any.whl.metadata (6.7 kB)\n",
            "Requirement already satisfied: httpx>=0.25.0 in /usr/local/lib/python3.11/dist-packages (from erddapy) (0.28.1)\n",
            "Requirement already satisfied: pandas<3,>=0.25.2 in /usr/local/lib/python3.11/dist-packages (from erddapy) (2.2.2)\n",
            "Requirement already satisfied: pytz in /usr/local/lib/python3.11/dist-packages (from erddapy) (2025.2)\n",
            "Requirement already satisfied: anyio in /usr/local/lib/python3.11/dist-packages (from httpx>=0.25.0->erddapy) (4.9.0)\n",
            "Requirement already satisfied: certifi in /usr/local/lib/python3.11/dist-packages (from httpx>=0.25.0->erddapy) (2025.1.31)\n",
            "Requirement already satisfied: httpcore==1.* in /usr/local/lib/python3.11/dist-packages (from httpx>=0.25.0->erddapy) (1.0.8)\n",
            "Requirement already satisfied: idna in /usr/local/lib/python3.11/dist-packages (from httpx>=0.25.0->erddapy) (3.10)\n",
            "Requirement already satisfied: h11<0.15,>=0.13 in /usr/local/lib/python3.11/dist-packages (from httpcore==1.*->httpx>=0.25.0->erddapy) (0.14.0)\n",
            "Requirement already satisfied: numpy>=1.23.2 in /usr/local/lib/python3.11/dist-packages (from pandas<3,>=0.25.2->erddapy) (2.0.2)\n",
            "Requirement already satisfied: python-dateutil>=2.8.2 in /usr/local/lib/python3.11/dist-packages (from pandas<3,>=0.25.2->erddapy) (2.8.2)\n",
            "Requirement already satisfied: tzdata>=2022.7 in /usr/local/lib/python3.11/dist-packages (from pandas<3,>=0.25.2->erddapy) (2025.2)\n",
            "Requirement already satisfied: six>=1.5 in /usr/local/lib/python3.11/dist-packages (from python-dateutil>=2.8.2->pandas<3,>=0.25.2->erddapy) (1.17.0)\n",
            "Requirement already satisfied: sniffio>=1.1 in /usr/local/lib/python3.11/dist-packages (from anyio->httpx>=0.25.0->erddapy) (1.3.1)\n",
            "Requirement already satisfied: typing_extensions>=4.5 in /usr/local/lib/python3.11/dist-packages (from anyio->httpx>=0.25.0->erddapy) (4.13.2)\n",
            "Downloading erddapy-2.2.4-py3-none-any.whl (24 kB)\n",
            "Installing collected packages: erddapy\n",
            "Successfully installed erddapy-2.2.4\n"
          ]
        }
      ]
    },
    {
      "cell_type": "code",
      "source": [
        "import pandas as pd\n",
        "from erddapy import ERDDAP"
      ],
      "metadata": {
        "id": "3afSRocv5ywD"
      },
      "execution_count": 2,
      "outputs": []
    },
    {
      "cell_type": "markdown",
      "source": [
        "# Function to grab the data."
      ],
      "metadata": {
        "id": "Nl3phwQ0-9CY"
      }
    },
    {
      "cell_type": "code",
      "source": [
        "def get_ndbc_full_stats():\n",
        "    e = ERDDAP(\n",
        "        server=\"https://erddap.ioos.us/erddap\",\n",
        "        protocol=\"tabledap\",\n",
        "    )\n",
        "    e.response = \"csv\"\n",
        "    dsets = {\"IOOS\": \"gts_regional_statistics\",\n",
        "             \"NDBC\": \"gts_ndbc_statistics\",\n",
        "             \"non-NDBC\": \"gts_non_ndbc_statistics\"}\n",
        "    df_out = pd.DataFrame()\n",
        "    for key, value in dsets.items():\n",
        "        e.dataset_id = value\n",
        "        df = e.to_pandas(\n",
        "            index_col=\"time (UTC)\",\n",
        "            parse_dates=True\n",
        "        )\n",
        "        df[\"source\"] = key\n",
        "        df_out = pd.concat([df_out,df])\n",
        "    return df_out"
      ],
      "metadata": {
        "id": "jdZ21kc15nnB"
      },
      "execution_count": 3,
      "outputs": []
    },
    {
      "cell_type": "markdown",
      "source": [
        "# Go get the data and return the dataframe"
      ],
      "metadata": {
        "id": "_nJORFlv-_5D"
      }
    },
    {
      "cell_type": "code",
      "source": [
        "df = get_ndbc_full_stats()\n",
        "\n",
        "df"
      ],
      "metadata": {
        "colab": {
          "base_uri": "https://localhost:8080/",
          "height": 455
        },
        "id": "zHHsvGRi6Srv",
        "outputId": "ab2ff1a2-98f3-4f5e-b94f-f4dc0082ea82"
      },
      "execution_count": 4,
      "outputs": [
        {
          "output_type": "execute_result",
          "data": {
            "text/plain": [
              "                           Year  Month locationID region  \\\n",
              "time (UTC)                                                 \n",
              "2018-01-01 00:00:00+00:00  2018      1      46108   AOOS   \n",
              "2018-01-01 00:00:00+00:00  2018      1      AJXA2   AOOS   \n",
              "2018-01-01 00:00:00+00:00  2018      1      CDXA2   AOOS   \n",
              "2018-01-01 00:00:00+00:00  2018      1      ERXA2   AOOS   \n",
              "2018-01-01 00:00:00+00:00  2018      1      GIXA2   AOOS   \n",
              "...                         ...    ...        ...    ...   \n",
              "2025-03-01 00:00:00+00:00  2025      3      OCSM2    NaN   \n",
              "2025-03-01 00:00:00+00:00  2025      3      44097    NaN   \n",
              "2025-03-01 00:00:00+00:00  2025      3      FRFN7    NaN   \n",
              "2025-03-01 00:00:00+00:00  2025      3      44100    NaN   \n",
              "2025-03-01 00:00:00+00:00  2025      3      32012    NaN   \n",
              "\n",
              "                                                        sponsor   met  wave  \\\n",
              "time (UTC)                                                                    \n",
              "2018-01-01 00:00:00+00:00         ALASKA OCEAN OBSERVING SYSTEM     0  2592   \n",
              "2018-01-01 00:00:00+00:00             MARINE EXCHANGE OF ALASKA  8796     0   \n",
              "2018-01-01 00:00:00+00:00             MARINE EXCHANGE OF ALASKA  4782     0   \n",
              "2018-01-01 00:00:00+00:00             MARINE EXCHANGE OF ALASKA  5634     0   \n",
              "2018-01-01 00:00:00+00:00             MARINE EXCHANGE OF ALASKA  8798     0   \n",
              "...                                                         ...   ...   ...   \n",
              "2025-03-01 00:00:00+00:00          U.S. ARMY CORPS OF ENGINEERS     0     0   \n",
              "2025-03-01 00:00:00+00:00          U.S. ARMY CORPS OF ENGINEERS     0  2976   \n",
              "2025-03-01 00:00:00+00:00          U.S. ARMY CORPS OF ENGINEERS     0     0   \n",
              "2025-03-01 00:00:00+00:00          U.S. ARMY CORPS OF ENGINEERS     0  2976   \n",
              "2025-03-01 00:00:00+00:00  WOODS HOLE OCEANOGRAPHIC INSTITUTION     0     0   \n",
              "\n",
              "                             source  \n",
              "time (UTC)                           \n",
              "2018-01-01 00:00:00+00:00      IOOS  \n",
              "2018-01-01 00:00:00+00:00      IOOS  \n",
              "2018-01-01 00:00:00+00:00      IOOS  \n",
              "2018-01-01 00:00:00+00:00      IOOS  \n",
              "2018-01-01 00:00:00+00:00      IOOS  \n",
              "...                             ...  \n",
              "2025-03-01 00:00:00+00:00  non-NDBC  \n",
              "2025-03-01 00:00:00+00:00  non-NDBC  \n",
              "2025-03-01 00:00:00+00:00  non-NDBC  \n",
              "2025-03-01 00:00:00+00:00  non-NDBC  \n",
              "2025-03-01 00:00:00+00:00  non-NDBC  \n",
              "\n",
              "[74309 rows x 8 columns]"
            ],
            "text/html": [
              "\n",
              "  <div id=\"df-43c1997b-6f9d-4d41-932f-0cc781cf8692\" class=\"colab-df-container\">\n",
              "    <div>\n",
              "<style scoped>\n",
              "    .dataframe tbody tr th:only-of-type {\n",
              "        vertical-align: middle;\n",
              "    }\n",
              "\n",
              "    .dataframe tbody tr th {\n",
              "        vertical-align: top;\n",
              "    }\n",
              "\n",
              "    .dataframe thead th {\n",
              "        text-align: right;\n",
              "    }\n",
              "</style>\n",
              "<table border=\"1\" class=\"dataframe\">\n",
              "  <thead>\n",
              "    <tr style=\"text-align: right;\">\n",
              "      <th></th>\n",
              "      <th>Year</th>\n",
              "      <th>Month</th>\n",
              "      <th>locationID</th>\n",
              "      <th>region</th>\n",
              "      <th>sponsor</th>\n",
              "      <th>met</th>\n",
              "      <th>wave</th>\n",
              "      <th>source</th>\n",
              "    </tr>\n",
              "    <tr>\n",
              "      <th>time (UTC)</th>\n",
              "      <th></th>\n",
              "      <th></th>\n",
              "      <th></th>\n",
              "      <th></th>\n",
              "      <th></th>\n",
              "      <th></th>\n",
              "      <th></th>\n",
              "      <th></th>\n",
              "    </tr>\n",
              "  </thead>\n",
              "  <tbody>\n",
              "    <tr>\n",
              "      <th>2018-01-01 00:00:00+00:00</th>\n",
              "      <td>2018</td>\n",
              "      <td>1</td>\n",
              "      <td>46108</td>\n",
              "      <td>AOOS</td>\n",
              "      <td>ALASKA OCEAN OBSERVING SYSTEM</td>\n",
              "      <td>0</td>\n",
              "      <td>2592</td>\n",
              "      <td>IOOS</td>\n",
              "    </tr>\n",
              "    <tr>\n",
              "      <th>2018-01-01 00:00:00+00:00</th>\n",
              "      <td>2018</td>\n",
              "      <td>1</td>\n",
              "      <td>AJXA2</td>\n",
              "      <td>AOOS</td>\n",
              "      <td>MARINE EXCHANGE OF ALASKA</td>\n",
              "      <td>8796</td>\n",
              "      <td>0</td>\n",
              "      <td>IOOS</td>\n",
              "    </tr>\n",
              "    <tr>\n",
              "      <th>2018-01-01 00:00:00+00:00</th>\n",
              "      <td>2018</td>\n",
              "      <td>1</td>\n",
              "      <td>CDXA2</td>\n",
              "      <td>AOOS</td>\n",
              "      <td>MARINE EXCHANGE OF ALASKA</td>\n",
              "      <td>4782</td>\n",
              "      <td>0</td>\n",
              "      <td>IOOS</td>\n",
              "    </tr>\n",
              "    <tr>\n",
              "      <th>2018-01-01 00:00:00+00:00</th>\n",
              "      <td>2018</td>\n",
              "      <td>1</td>\n",
              "      <td>ERXA2</td>\n",
              "      <td>AOOS</td>\n",
              "      <td>MARINE EXCHANGE OF ALASKA</td>\n",
              "      <td>5634</td>\n",
              "      <td>0</td>\n",
              "      <td>IOOS</td>\n",
              "    </tr>\n",
              "    <tr>\n",
              "      <th>2018-01-01 00:00:00+00:00</th>\n",
              "      <td>2018</td>\n",
              "      <td>1</td>\n",
              "      <td>GIXA2</td>\n",
              "      <td>AOOS</td>\n",
              "      <td>MARINE EXCHANGE OF ALASKA</td>\n",
              "      <td>8798</td>\n",
              "      <td>0</td>\n",
              "      <td>IOOS</td>\n",
              "    </tr>\n",
              "    <tr>\n",
              "      <th>...</th>\n",
              "      <td>...</td>\n",
              "      <td>...</td>\n",
              "      <td>...</td>\n",
              "      <td>...</td>\n",
              "      <td>...</td>\n",
              "      <td>...</td>\n",
              "      <td>...</td>\n",
              "      <td>...</td>\n",
              "    </tr>\n",
              "    <tr>\n",
              "      <th>2025-03-01 00:00:00+00:00</th>\n",
              "      <td>2025</td>\n",
              "      <td>3</td>\n",
              "      <td>OCSM2</td>\n",
              "      <td>NaN</td>\n",
              "      <td>U.S. ARMY CORPS OF ENGINEERS</td>\n",
              "      <td>0</td>\n",
              "      <td>0</td>\n",
              "      <td>non-NDBC</td>\n",
              "    </tr>\n",
              "    <tr>\n",
              "      <th>2025-03-01 00:00:00+00:00</th>\n",
              "      <td>2025</td>\n",
              "      <td>3</td>\n",
              "      <td>44097</td>\n",
              "      <td>NaN</td>\n",
              "      <td>U.S. ARMY CORPS OF ENGINEERS</td>\n",
              "      <td>0</td>\n",
              "      <td>2976</td>\n",
              "      <td>non-NDBC</td>\n",
              "    </tr>\n",
              "    <tr>\n",
              "      <th>2025-03-01 00:00:00+00:00</th>\n",
              "      <td>2025</td>\n",
              "      <td>3</td>\n",
              "      <td>FRFN7</td>\n",
              "      <td>NaN</td>\n",
              "      <td>U.S. ARMY CORPS OF ENGINEERS</td>\n",
              "      <td>0</td>\n",
              "      <td>0</td>\n",
              "      <td>non-NDBC</td>\n",
              "    </tr>\n",
              "    <tr>\n",
              "      <th>2025-03-01 00:00:00+00:00</th>\n",
              "      <td>2025</td>\n",
              "      <td>3</td>\n",
              "      <td>44100</td>\n",
              "      <td>NaN</td>\n",
              "      <td>U.S. ARMY CORPS OF ENGINEERS</td>\n",
              "      <td>0</td>\n",
              "      <td>2976</td>\n",
              "      <td>non-NDBC</td>\n",
              "    </tr>\n",
              "    <tr>\n",
              "      <th>2025-03-01 00:00:00+00:00</th>\n",
              "      <td>2025</td>\n",
              "      <td>3</td>\n",
              "      <td>32012</td>\n",
              "      <td>NaN</td>\n",
              "      <td>WOODS HOLE OCEANOGRAPHIC INSTITUTION</td>\n",
              "      <td>0</td>\n",
              "      <td>0</td>\n",
              "      <td>non-NDBC</td>\n",
              "    </tr>\n",
              "  </tbody>\n",
              "</table>\n",
              "<p>74309 rows × 8 columns</p>\n",
              "</div>\n",
              "    <div class=\"colab-df-buttons\">\n",
              "\n",
              "  <div class=\"colab-df-container\">\n",
              "    <button class=\"colab-df-convert\" onclick=\"convertToInteractive('df-43c1997b-6f9d-4d41-932f-0cc781cf8692')\"\n",
              "            title=\"Convert this dataframe to an interactive table.\"\n",
              "            style=\"display:none;\">\n",
              "\n",
              "  <svg xmlns=\"http://www.w3.org/2000/svg\" height=\"24px\" viewBox=\"0 -960 960 960\">\n",
              "    <path d=\"M120-120v-720h720v720H120Zm60-500h600v-160H180v160Zm220 220h160v-160H400v160Zm0 220h160v-160H400v160ZM180-400h160v-160H180v160Zm440 0h160v-160H620v160ZM180-180h160v-160H180v160Zm440 0h160v-160H620v160Z\"/>\n",
              "  </svg>\n",
              "    </button>\n",
              "\n",
              "  <style>\n",
              "    .colab-df-container {\n",
              "      display:flex;\n",
              "      gap: 12px;\n",
              "    }\n",
              "\n",
              "    .colab-df-convert {\n",
              "      background-color: #E8F0FE;\n",
              "      border: none;\n",
              "      border-radius: 50%;\n",
              "      cursor: pointer;\n",
              "      display: none;\n",
              "      fill: #1967D2;\n",
              "      height: 32px;\n",
              "      padding: 0 0 0 0;\n",
              "      width: 32px;\n",
              "    }\n",
              "\n",
              "    .colab-df-convert:hover {\n",
              "      background-color: #E2EBFA;\n",
              "      box-shadow: 0px 1px 2px rgba(60, 64, 67, 0.3), 0px 1px 3px 1px rgba(60, 64, 67, 0.15);\n",
              "      fill: #174EA6;\n",
              "    }\n",
              "\n",
              "    .colab-df-buttons div {\n",
              "      margin-bottom: 4px;\n",
              "    }\n",
              "\n",
              "    [theme=dark] .colab-df-convert {\n",
              "      background-color: #3B4455;\n",
              "      fill: #D2E3FC;\n",
              "    }\n",
              "\n",
              "    [theme=dark] .colab-df-convert:hover {\n",
              "      background-color: #434B5C;\n",
              "      box-shadow: 0px 1px 3px 1px rgba(0, 0, 0, 0.15);\n",
              "      filter: drop-shadow(0px 1px 2px rgba(0, 0, 0, 0.3));\n",
              "      fill: #FFFFFF;\n",
              "    }\n",
              "  </style>\n",
              "\n",
              "    <script>\n",
              "      const buttonEl =\n",
              "        document.querySelector('#df-43c1997b-6f9d-4d41-932f-0cc781cf8692 button.colab-df-convert');\n",
              "      buttonEl.style.display =\n",
              "        google.colab.kernel.accessAllowed ? 'block' : 'none';\n",
              "\n",
              "      async function convertToInteractive(key) {\n",
              "        const element = document.querySelector('#df-43c1997b-6f9d-4d41-932f-0cc781cf8692');\n",
              "        const dataTable =\n",
              "          await google.colab.kernel.invokeFunction('convertToInteractive',\n",
              "                                                    [key], {});\n",
              "        if (!dataTable) return;\n",
              "\n",
              "        const docLinkHtml = 'Like what you see? Visit the ' +\n",
              "          '<a target=\"_blank\" href=https://colab.research.google.com/notebooks/data_table.ipynb>data table notebook</a>'\n",
              "          + ' to learn more about interactive tables.';\n",
              "        element.innerHTML = '';\n",
              "        dataTable['output_type'] = 'display_data';\n",
              "        await google.colab.output.renderOutput(dataTable, element);\n",
              "        const docLink = document.createElement('div');\n",
              "        docLink.innerHTML = docLinkHtml;\n",
              "        element.appendChild(docLink);\n",
              "      }\n",
              "    </script>\n",
              "  </div>\n",
              "\n",
              "\n",
              "<div id=\"df-a8bd2c2d-b6c7-49d3-88b0-8ab1d87d517f\">\n",
              "  <button class=\"colab-df-quickchart\" onclick=\"quickchart('df-a8bd2c2d-b6c7-49d3-88b0-8ab1d87d517f')\"\n",
              "            title=\"Suggest charts\"\n",
              "            style=\"display:none;\">\n",
              "\n",
              "<svg xmlns=\"http://www.w3.org/2000/svg\" height=\"24px\"viewBox=\"0 0 24 24\"\n",
              "     width=\"24px\">\n",
              "    <g>\n",
              "        <path d=\"M19 3H5c-1.1 0-2 .9-2 2v14c0 1.1.9 2 2 2h14c1.1 0 2-.9 2-2V5c0-1.1-.9-2-2-2zM9 17H7v-7h2v7zm4 0h-2V7h2v10zm4 0h-2v-4h2v4z\"/>\n",
              "    </g>\n",
              "</svg>\n",
              "  </button>\n",
              "\n",
              "<style>\n",
              "  .colab-df-quickchart {\n",
              "      --bg-color: #E8F0FE;\n",
              "      --fill-color: #1967D2;\n",
              "      --hover-bg-color: #E2EBFA;\n",
              "      --hover-fill-color: #174EA6;\n",
              "      --disabled-fill-color: #AAA;\n",
              "      --disabled-bg-color: #DDD;\n",
              "  }\n",
              "\n",
              "  [theme=dark] .colab-df-quickchart {\n",
              "      --bg-color: #3B4455;\n",
              "      --fill-color: #D2E3FC;\n",
              "      --hover-bg-color: #434B5C;\n",
              "      --hover-fill-color: #FFFFFF;\n",
              "      --disabled-bg-color: #3B4455;\n",
              "      --disabled-fill-color: #666;\n",
              "  }\n",
              "\n",
              "  .colab-df-quickchart {\n",
              "    background-color: var(--bg-color);\n",
              "    border: none;\n",
              "    border-radius: 50%;\n",
              "    cursor: pointer;\n",
              "    display: none;\n",
              "    fill: var(--fill-color);\n",
              "    height: 32px;\n",
              "    padding: 0;\n",
              "    width: 32px;\n",
              "  }\n",
              "\n",
              "  .colab-df-quickchart:hover {\n",
              "    background-color: var(--hover-bg-color);\n",
              "    box-shadow: 0 1px 2px rgba(60, 64, 67, 0.3), 0 1px 3px 1px rgba(60, 64, 67, 0.15);\n",
              "    fill: var(--button-hover-fill-color);\n",
              "  }\n",
              "\n",
              "  .colab-df-quickchart-complete:disabled,\n",
              "  .colab-df-quickchart-complete:disabled:hover {\n",
              "    background-color: var(--disabled-bg-color);\n",
              "    fill: var(--disabled-fill-color);\n",
              "    box-shadow: none;\n",
              "  }\n",
              "\n",
              "  .colab-df-spinner {\n",
              "    border: 2px solid var(--fill-color);\n",
              "    border-color: transparent;\n",
              "    border-bottom-color: var(--fill-color);\n",
              "    animation:\n",
              "      spin 1s steps(1) infinite;\n",
              "  }\n",
              "\n",
              "  @keyframes spin {\n",
              "    0% {\n",
              "      border-color: transparent;\n",
              "      border-bottom-color: var(--fill-color);\n",
              "      border-left-color: var(--fill-color);\n",
              "    }\n",
              "    20% {\n",
              "      border-color: transparent;\n",
              "      border-left-color: var(--fill-color);\n",
              "      border-top-color: var(--fill-color);\n",
              "    }\n",
              "    30% {\n",
              "      border-color: transparent;\n",
              "      border-left-color: var(--fill-color);\n",
              "      border-top-color: var(--fill-color);\n",
              "      border-right-color: var(--fill-color);\n",
              "    }\n",
              "    40% {\n",
              "      border-color: transparent;\n",
              "      border-right-color: var(--fill-color);\n",
              "      border-top-color: var(--fill-color);\n",
              "    }\n",
              "    60% {\n",
              "      border-color: transparent;\n",
              "      border-right-color: var(--fill-color);\n",
              "    }\n",
              "    80% {\n",
              "      border-color: transparent;\n",
              "      border-right-color: var(--fill-color);\n",
              "      border-bottom-color: var(--fill-color);\n",
              "    }\n",
              "    90% {\n",
              "      border-color: transparent;\n",
              "      border-bottom-color: var(--fill-color);\n",
              "    }\n",
              "  }\n",
              "</style>\n",
              "\n",
              "  <script>\n",
              "    async function quickchart(key) {\n",
              "      const quickchartButtonEl =\n",
              "        document.querySelector('#' + key + ' button');\n",
              "      quickchartButtonEl.disabled = true;  // To prevent multiple clicks.\n",
              "      quickchartButtonEl.classList.add('colab-df-spinner');\n",
              "      try {\n",
              "        const charts = await google.colab.kernel.invokeFunction(\n",
              "            'suggestCharts', [key], {});\n",
              "      } catch (error) {\n",
              "        console.error('Error during call to suggestCharts:', error);\n",
              "      }\n",
              "      quickchartButtonEl.classList.remove('colab-df-spinner');\n",
              "      quickchartButtonEl.classList.add('colab-df-quickchart-complete');\n",
              "    }\n",
              "    (() => {\n",
              "      let quickchartButtonEl =\n",
              "        document.querySelector('#df-a8bd2c2d-b6c7-49d3-88b0-8ab1d87d517f button');\n",
              "      quickchartButtonEl.style.display =\n",
              "        google.colab.kernel.accessAllowed ? 'block' : 'none';\n",
              "    })();\n",
              "  </script>\n",
              "</div>\n",
              "\n",
              "  <div id=\"id_80368290-ed2d-4258-b4ed-28342979a328\">\n",
              "    <style>\n",
              "      .colab-df-generate {\n",
              "        background-color: #E8F0FE;\n",
              "        border: none;\n",
              "        border-radius: 50%;\n",
              "        cursor: pointer;\n",
              "        display: none;\n",
              "        fill: #1967D2;\n",
              "        height: 32px;\n",
              "        padding: 0 0 0 0;\n",
              "        width: 32px;\n",
              "      }\n",
              "\n",
              "      .colab-df-generate:hover {\n",
              "        background-color: #E2EBFA;\n",
              "        box-shadow: 0px 1px 2px rgba(60, 64, 67, 0.3), 0px 1px 3px 1px rgba(60, 64, 67, 0.15);\n",
              "        fill: #174EA6;\n",
              "      }\n",
              "\n",
              "      [theme=dark] .colab-df-generate {\n",
              "        background-color: #3B4455;\n",
              "        fill: #D2E3FC;\n",
              "      }\n",
              "\n",
              "      [theme=dark] .colab-df-generate:hover {\n",
              "        background-color: #434B5C;\n",
              "        box-shadow: 0px 1px 3px 1px rgba(0, 0, 0, 0.15);\n",
              "        filter: drop-shadow(0px 1px 2px rgba(0, 0, 0, 0.3));\n",
              "        fill: #FFFFFF;\n",
              "      }\n",
              "    </style>\n",
              "    <button class=\"colab-df-generate\" onclick=\"generateWithVariable('df')\"\n",
              "            title=\"Generate code using this dataframe.\"\n",
              "            style=\"display:none;\">\n",
              "\n",
              "  <svg xmlns=\"http://www.w3.org/2000/svg\" height=\"24px\"viewBox=\"0 0 24 24\"\n",
              "       width=\"24px\">\n",
              "    <path d=\"M7,19H8.4L18.45,9,17,7.55,7,17.6ZM5,21V16.75L18.45,3.32a2,2,0,0,1,2.83,0l1.4,1.43a1.91,1.91,0,0,1,.58,1.4,1.91,1.91,0,0,1-.58,1.4L9.25,21ZM18.45,9,17,7.55Zm-12,3A5.31,5.31,0,0,0,4.9,8.1,5.31,5.31,0,0,0,1,6.5,5.31,5.31,0,0,0,4.9,4.9,5.31,5.31,0,0,0,6.5,1,5.31,5.31,0,0,0,8.1,4.9,5.31,5.31,0,0,0,12,6.5,5.46,5.46,0,0,0,6.5,12Z\"/>\n",
              "  </svg>\n",
              "    </button>\n",
              "    <script>\n",
              "      (() => {\n",
              "      const buttonEl =\n",
              "        document.querySelector('#id_80368290-ed2d-4258-b4ed-28342979a328 button.colab-df-generate');\n",
              "      buttonEl.style.display =\n",
              "        google.colab.kernel.accessAllowed ? 'block' : 'none';\n",
              "\n",
              "      buttonEl.onclick = () => {\n",
              "        google.colab.notebook.generateWithVariable('df');\n",
              "      }\n",
              "      })();\n",
              "    </script>\n",
              "  </div>\n",
              "\n",
              "    </div>\n",
              "  </div>\n"
            ],
            "application/vnd.google.colaboratory.intrinsic+json": {
              "type": "dataframe",
              "variable_name": "df",
              "summary": "{\n  \"name\": \"df\",\n  \"rows\": 74309,\n  \"fields\": [\n    {\n      \"column\": \"time (UTC)\",\n      \"properties\": {\n        \"dtype\": \"date\",\n        \"min\": \"2018-01-01 00:00:00+00:00\",\n        \"max\": \"2025-03-01 00:00:00+00:00\",\n        \"num_unique_values\": 87,\n        \"samples\": [\n          \"2024-05-01 00:00:00+00:00\",\n          \"2018-01-01 00:00:00+00:00\",\n          \"2020-03-01 00:00:00+00:00\"\n        ],\n        \"semantic_type\": \"\",\n        \"description\": \"\"\n      }\n    },\n    {\n      \"column\": \"Year\",\n      \"properties\": {\n        \"dtype\": \"number\",\n        \"std\": 2,\n        \"min\": 2018,\n        \"max\": 2025,\n        \"num_unique_values\": 8,\n        \"samples\": [\n          2019,\n          2023,\n          2018\n        ],\n        \"semantic_type\": \"\",\n        \"description\": \"\"\n      }\n    },\n    {\n      \"column\": \"Month\",\n      \"properties\": {\n        \"dtype\": \"number\",\n        \"std\": 3,\n        \"min\": 1,\n        \"max\": 12,\n        \"num_unique_values\": 12,\n        \"samples\": [\n          11,\n          10,\n          1\n        ],\n        \"semantic_type\": \"\",\n        \"description\": \"\"\n      }\n    },\n    {\n      \"column\": \"locationID\",\n      \"properties\": {\n        \"dtype\": \"category\",\n        \"num_unique_values\": 1039,\n        \"samples\": [\n          \"46011\",\n          \"ULAM6\",\n          \"46006\"\n        ],\n        \"semantic_type\": \"\",\n        \"description\": \"\"\n      }\n    },\n    {\n      \"column\": \"region\",\n      \"properties\": {\n        \"dtype\": \"category\",\n        \"num_unique_values\": 10,\n        \"samples\": [\n          \"SCCOOS\",\n          \"CARICOOS\",\n          \"NANOOS\"\n        ],\n        \"semantic_type\": \"\",\n        \"description\": \"\"\n      }\n    },\n    {\n      \"column\": \"sponsor\",\n      \"properties\": {\n        \"dtype\": \"category\",\n        \"num_unique_values\": 82,\n        \"samples\": [\n          \"LIMNOTECH\",\n          \"ALASKA OCEAN OBSERVING SYSTEM\",\n          \"NORTHEASTERN REGIONAL ASSN OF COASTAL OCEAN OBS SYSTEMS\"\n        ],\n        \"semantic_type\": \"\",\n        \"description\": \"\"\n      }\n    },\n    {\n      \"column\": \"met\",\n      \"properties\": {\n        \"dtype\": \"number\",\n        \"std\": 5988,\n        \"min\": 0,\n        \"max\": 86536,\n        \"num_unique_values\": 6004,\n        \"samples\": [\n          1600,\n          13848,\n          5934\n        ],\n        \"semantic_type\": \"\",\n        \"description\": \"\"\n      }\n    },\n    {\n      \"column\": \"wave\",\n      \"properties\": {\n        \"dtype\": \"number\",\n        \"std\": 1400,\n        \"min\": 0,\n        \"max\": 17838,\n        \"num_unique_values\": 2376,\n        \"samples\": [\n          12862,\n          198,\n          2802\n        ],\n        \"semantic_type\": \"\",\n        \"description\": \"\"\n      }\n    },\n    {\n      \"column\": \"source\",\n      \"properties\": {\n        \"dtype\": \"category\",\n        \"num_unique_values\": 3,\n        \"samples\": [\n          \"IOOS\",\n          \"NDBC\",\n          \"non-NDBC\"\n        ],\n        \"semantic_type\": \"\",\n        \"description\": \"\"\n      }\n    }\n  ]\n}"
            }
          },
          "metadata": {},
          "execution_count": 4
        }
      ]
    },
    {
      "cell_type": "markdown",
      "source": [
        "# Compute yearly totals of number of IOOS messages sent to the GTS."
      ],
      "metadata": {
        "id": "pDrG-jPh948I"
      }
    },
    {
      "cell_type": "code",
      "source": [
        "yearly_totals = df.groupby(by=[\"source\", pd.Grouper(freq=\"YE\")])[['met','wave']].sum()\n",
        "\n",
        "yearly_totals['total'] = yearly_totals['met'] + yearly_totals['wave']\n",
        "\n",
        "print(yearly_totals.loc['IOOS'].to_markdown(floatfmt=''))"
      ],
      "metadata": {
        "colab": {
          "base_uri": "https://localhost:8080/"
        },
        "id": "UtBVMmEx6VZ6",
        "outputId": "fcfc5dfd-f6a4-4e18-aa93-d270cca589b6"
      },
      "execution_count": 5,
      "outputs": [
        {
          "output_type": "stream",
          "name": "stdout",
          "text": [
            "| time (UTC)                |        met |      wave |      total |\n",
            "|:--------------------------|-----------:|----------:|-----------:|\n",
            "| 2018-12-31 00:00:00+00:00 | 10250188.0 | 1586648.0 | 11836836.0 |\n",
            "| 2019-12-31 00:00:00+00:00 | 11344260.0 | 1682754.0 | 13027014.0 |\n",
            "| 2020-12-31 00:00:00+00:00 | 10501536.0 | 1410472.0 | 11912008.0 |\n",
            "| 2021-12-31 00:00:00+00:00 | 10189996.0 | 1610856.0 | 11800852.0 |\n",
            "| 2022-12-31 00:00:00+00:00 | 11295426.0 | 1616542.0 | 12911968.0 |\n",
            "| 2023-12-31 00:00:00+00:00 | 12719038.0 | 1796258.0 | 14515296.0 |\n",
            "| 2024-12-31 00:00:00+00:00 | 12794686.0 | 1726010.0 | 14520696.0 |\n",
            "| 2025-12-31 00:00:00+00:00 |  2910610.0 |  338230.0 |  3248840.0 |\n"
          ]
        }
      ]
    },
    {
      "cell_type": "markdown",
      "source": [
        "# Compute yearly totals of IOOS messages sent to the GTS by region."
      ],
      "metadata": {
        "id": "7tNTvF0h9wdP"
      }
    },
    {
      "cell_type": "code",
      "source": [
        "yearly_region_totals = df.groupby(by=[\"source\", \"region\", pd.Grouper(freq=\"YE\")])[['met','wave']].sum()\n",
        "\n",
        "yearly_region_totals['total'] = yearly_region_totals['met'] + yearly_region_totals['wave']\n",
        "\n",
        "yearly_region_totals.reset_index('region',inplace=True)\n",
        "\n",
        "print(yearly_region_totals.loc['IOOS'].to_markdown(floatfmt=''))"
      ],
      "metadata": {
        "colab": {
          "base_uri": "https://localhost:8080/"
        },
        "id": "QpVMZYvn7asZ",
        "outputId": "e9abdb26-fe69-4994-af47-55cbdae86a38"
      },
      "execution_count": 6,
      "outputs": [
        {
          "output_type": "stream",
          "name": "stdout",
          "text": [
            "| time (UTC)                | region   |     met |   wave |   total |\n",
            "|:--------------------------|:---------|--------:|-------:|--------:|\n",
            "| 2018-12-31 00:00:00+00:00 | AOOS     | 2571070 |  27968 | 2599038 |\n",
            "| 2019-12-31 00:00:00+00:00 | AOOS     | 2810422 |  31584 | 2842006 |\n",
            "| 2020-12-31 00:00:00+00:00 | AOOS     | 2697606 |   8258 | 2705864 |\n",
            "| 2021-12-31 00:00:00+00:00 | AOOS     | 2574888 |  24336 | 2599224 |\n",
            "| 2022-12-31 00:00:00+00:00 | AOOS     | 3675118 |  37414 | 3712532 |\n",
            "| 2023-12-31 00:00:00+00:00 | AOOS     | 5620044 |  34026 | 5654070 |\n",
            "| 2024-12-31 00:00:00+00:00 | AOOS     | 5939434 |  31992 | 5971426 |\n",
            "| 2025-12-31 00:00:00+00:00 | AOOS     | 1516796 |   8100 | 1524896 |\n",
            "| 2018-12-31 00:00:00+00:00 | CARICOOS |  619422 |  68520 |  687942 |\n",
            "| 2019-12-31 00:00:00+00:00 | CARICOOS |  719876 |  83582 |  803458 |\n",
            "| 2020-12-31 00:00:00+00:00 | CARICOOS |  629990 |  93232 |  723222 |\n",
            "| 2021-12-31 00:00:00+00:00 | CARICOOS |  676958 |  99074 |  776032 |\n",
            "| 2022-12-31 00:00:00+00:00 | CARICOOS |  506648 | 101264 |  607912 |\n",
            "| 2023-12-31 00:00:00+00:00 | CARICOOS |  335790 | 120508 |  456298 |\n",
            "| 2024-12-31 00:00:00+00:00 | CARICOOS |  358806 |  99550 |  458356 |\n",
            "| 2025-12-31 00:00:00+00:00 | CARICOOS |  101748 |  25704 |  127452 |\n",
            "| 2018-12-31 00:00:00+00:00 | CeNCOOS  |  520352 |      0 |  520352 |\n",
            "| 2019-12-31 00:00:00+00:00 | CeNCOOS  |  614208 |      0 |  614208 |\n",
            "| 2020-12-31 00:00:00+00:00 | CeNCOOS  |  476714 |      0 |  476714 |\n",
            "| 2021-12-31 00:00:00+00:00 | CeNCOOS  |  486558 |      0 |  486558 |\n",
            "| 2022-12-31 00:00:00+00:00 | CeNCOOS  |  438034 |      0 |  438034 |\n",
            "| 2023-12-31 00:00:00+00:00 | CeNCOOS  |  466466 |      0 |  466466 |\n",
            "| 2024-12-31 00:00:00+00:00 | CeNCOOS  |  402722 |      0 |  402722 |\n",
            "| 2025-12-31 00:00:00+00:00 | CeNCOOS  |   88454 |      0 |   88454 |\n",
            "| 2018-12-31 00:00:00+00:00 | GCOOS    | 4194290 |      0 | 4194290 |\n",
            "| 2019-12-31 00:00:00+00:00 | GCOOS    | 4589990 |   1658 | 4591648 |\n",
            "| 2020-12-31 00:00:00+00:00 | GCOOS    | 4462670 |   9972 | 4472642 |\n",
            "| 2021-12-31 00:00:00+00:00 | GCOOS    | 4281378 |      0 | 4281378 |\n",
            "| 2022-12-31 00:00:00+00:00 | GCOOS    | 4464360 |      0 | 4464360 |\n",
            "| 2023-12-31 00:00:00+00:00 | GCOOS    | 4179490 |      0 | 4179490 |\n",
            "| 2024-12-31 00:00:00+00:00 | GCOOS    | 4469570 |      0 | 4469570 |\n",
            "| 2025-12-31 00:00:00+00:00 | GCOOS    |  955506 |  15752 |  971258 |\n",
            "| 2018-12-31 00:00:00+00:00 | GLOS     |  931280 | 727248 | 1658528 |\n",
            "| 2019-12-31 00:00:00+00:00 | GLOS     |  984798 | 767838 | 1752636 |\n",
            "| 2020-12-31 00:00:00+00:00 | GLOS     |  799460 | 507360 | 1306820 |\n",
            "| 2021-12-31 00:00:00+00:00 | GLOS     |  985644 | 821922 | 1807566 |\n",
            "| 2022-12-31 00:00:00+00:00 | GLOS     |  916966 | 674476 | 1591442 |\n",
            "| 2023-12-31 00:00:00+00:00 | GLOS     |  734626 | 708656 | 1443282 |\n",
            "| 2024-12-31 00:00:00+00:00 | GLOS     |  503360 | 477802 |  981162 |\n",
            "| 2025-12-31 00:00:00+00:00 | GLOS     |    4228 |      0 |    4228 |\n",
            "| 2018-12-31 00:00:00+00:00 | NANOOS   |  192018 |  12548 |  204566 |\n",
            "| 2019-12-31 00:00:00+00:00 | NANOOS   |  295346 |  25746 |  321092 |\n",
            "| 2020-12-31 00:00:00+00:00 | NANOOS   |  242372 |  22708 |  265080 |\n",
            "| 2021-12-31 00:00:00+00:00 | NANOOS   |   12756 |  20740 |   33496 |\n",
            "| 2022-12-31 00:00:00+00:00 | NANOOS   |  114814 |   8812 |  123626 |\n",
            "| 2023-12-31 00:00:00+00:00 | NANOOS   |  100926 |      0 |  100926 |\n",
            "| 2024-12-31 00:00:00+00:00 | NANOOS   |   72704 |      0 |   72704 |\n",
            "| 2025-12-31 00:00:00+00:00 | NANOOS   |   17616 |      0 |   17616 |\n",
            "| 2018-12-31 00:00:00+00:00 | NERACOOS |  249958 | 202224 |  452182 |\n",
            "| 2019-12-31 00:00:00+00:00 | NERACOOS |  215136 | 144264 |  359400 |\n",
            "| 2020-12-31 00:00:00+00:00 | NERACOOS |  223552 | 143672 |  367224 |\n",
            "| 2021-12-31 00:00:00+00:00 | NERACOOS |  166930 | 134378 |  301308 |\n",
            "| 2022-12-31 00:00:00+00:00 | NERACOOS |  195404 | 162558 |  357962 |\n",
            "| 2023-12-31 00:00:00+00:00 | NERACOOS |  201388 | 208866 |  410254 |\n",
            "| 2024-12-31 00:00:00+00:00 | NERACOOS |  200676 | 196482 |  397158 |\n",
            "| 2025-12-31 00:00:00+00:00 | NERACOOS |   42020 |  45902 |   87922 |\n",
            "| 2018-12-31 00:00:00+00:00 | PacIOOS  |       0 | 370940 |  370940 |\n",
            "| 2019-12-31 00:00:00+00:00 | PacIOOS  |       0 | 456810 |  456810 |\n",
            "| 2020-12-31 00:00:00+00:00 | PacIOOS  |       0 | 457412 |  457412 |\n",
            "| 2021-12-31 00:00:00+00:00 | PacIOOS  |       0 | 308712 |  308712 |\n",
            "| 2022-12-31 00:00:00+00:00 | PacIOOS  |       0 | 396018 |  396018 |\n",
            "| 2023-12-31 00:00:00+00:00 | PacIOOS  |       0 | 382024 |  382024 |\n",
            "| 2024-12-31 00:00:00+00:00 | PacIOOS  |       0 | 481492 |  481492 |\n",
            "| 2025-12-31 00:00:00+00:00 | PacIOOS  |       0 | 146066 |  146066 |\n",
            "| 2018-12-31 00:00:00+00:00 | SCCOOS   |       0 |  32750 |   32750 |\n",
            "| 2019-12-31 00:00:00+00:00 | SCCOOS   |       0 |  34376 |   34376 |\n",
            "| 2020-12-31 00:00:00+00:00 | SCCOOS   |       0 |  34476 |   34476 |\n",
            "| 2021-12-31 00:00:00+00:00 | SCCOOS   |       0 |  33480 |   33480 |\n",
            "| 2022-12-31 00:00:00+00:00 | SCCOOS   |       0 |  34122 |   34122 |\n",
            "| 2023-12-31 00:00:00+00:00 | SCCOOS   |       0 |  34948 |   34948 |\n",
            "| 2024-12-31 00:00:00+00:00 | SCCOOS   |       0 |  34576 |   34576 |\n",
            "| 2025-12-31 00:00:00+00:00 | SCCOOS   |       0 |   8630 |    8630 |\n",
            "| 2018-12-31 00:00:00+00:00 | SECOORA  |  971798 | 144450 | 1116248 |\n",
            "| 2019-12-31 00:00:00+00:00 | SECOORA  | 1114484 | 136896 | 1251380 |\n",
            "| 2020-12-31 00:00:00+00:00 | SECOORA  |  969172 | 133382 | 1102554 |\n",
            "| 2021-12-31 00:00:00+00:00 | SECOORA  | 1004884 | 168214 | 1173098 |\n",
            "| 2022-12-31 00:00:00+00:00 | SECOORA  |  984082 | 201878 | 1185960 |\n",
            "| 2023-12-31 00:00:00+00:00 | SECOORA  | 1080308 | 307230 | 1387538 |\n",
            "| 2024-12-31 00:00:00+00:00 | SECOORA  |  847414 | 404116 | 1251530 |\n",
            "| 2025-12-31 00:00:00+00:00 | SECOORA  |  184242 |  88076 |  272318 |\n"
          ]
        }
      ]
    },
    {
      "cell_type": "markdown",
      "source": [
        "# Calculate the percentage of IOOS OBS per year"
      ],
      "metadata": {
        "id": "15MgOsVj_LVc"
      }
    },
    {
      "cell_type": "code",
      "source": [
        "yearly_totals = df.groupby(by=[\"source\", pd.Grouper(freq=\"YE\")])[['met','wave']].sum()\n",
        "\n",
        "pcnt_obs_year = yearly_totals.loc['IOOS'] / (yearly_totals.loc['IOOS'] + yearly_totals.loc['NDBC'] + yearly_totals.loc['non-NDBC'])\n",
        "\n",
        "# pcnt_obs_year['total'] =\n",
        "\n",
        "print(pcnt_obs_year.to_markdown())"
      ],
      "metadata": {
        "colab": {
          "base_uri": "https://localhost:8080/"
        },
        "id": "r7GA5FW28ZZc",
        "outputId": "856f4509-48e4-4813-c758-7ac0b7fe0cf0"
      },
      "execution_count": 7,
      "outputs": [
        {
          "output_type": "stream",
          "name": "stdout",
          "text": [
            "| time (UTC)                |      met |     wave |\n",
            "|:--------------------------|---------:|---------:|\n",
            "| 2018-12-31 00:00:00+00:00 | 0.155619 | 0.296562 |\n",
            "| 2019-12-31 00:00:00+00:00 | 0.167812 | 0.312697 |\n",
            "| 2020-12-31 00:00:00+00:00 | 0.154613 | 0.277295 |\n",
            "| 2021-12-31 00:00:00+00:00 | 0.149813 | 0.3107   |\n",
            "| 2022-12-31 00:00:00+00:00 | 0.153994 | 0.278716 |\n",
            "| 2023-12-31 00:00:00+00:00 | 0.167084 | 0.222074 |\n",
            "| 2024-12-31 00:00:00+00:00 | 0.167279 | 0.217845 |\n",
            "| 2025-12-31 00:00:00+00:00 | 0.173252 | 0.228609 |\n"
          ]
        }
      ]
    },
    {
      "cell_type": "code",
      "source": [
        "yearly_totals.loc['IOOS'] + yearly_totals.loc['NDBC'] + yearly_totals.loc['non-NDBC']\n",
        "\n",
        "# totals['total'] = totals['met']+totals['wave']\n",
        "\n",
        "# totals['total'].sum()\n",
        "\n",
        "#totals"
      ],
      "metadata": {
        "id": "GipR9igpg6U4",
        "outputId": "d3c1c2c0-3077-432a-87a5-6572a751dc0f",
        "colab": {
          "base_uri": "https://localhost:8080/",
          "height": 332
        }
      },
      "execution_count": 8,
      "outputs": [
        {
          "output_type": "execute_result",
          "data": {
            "text/plain": [
              "                                met     wave\n",
              "time (UTC)                                  \n",
              "2018-12-31 00:00:00+00:00  65867386  5350148\n",
              "2019-12-31 00:00:00+00:00  67601032  5381422\n",
              "2020-12-31 00:00:00+00:00  67921642  5086546\n",
              "2021-12-31 00:00:00+00:00  68018280  5184606\n",
              "2022-12-31 00:00:00+00:00  73349742  5799952\n",
              "2023-12-31 00:00:00+00:00  76123506  8088546\n",
              "2024-12-31 00:00:00+00:00  76487008  7923096\n",
              "2025-12-31 00:00:00+00:00  16799904  1479514"
            ],
            "text/html": [
              "\n",
              "  <div id=\"df-4e51923a-d0b3-4a96-b0ba-f7a2ae9a19ff\" class=\"colab-df-container\">\n",
              "    <div>\n",
              "<style scoped>\n",
              "    .dataframe tbody tr th:only-of-type {\n",
              "        vertical-align: middle;\n",
              "    }\n",
              "\n",
              "    .dataframe tbody tr th {\n",
              "        vertical-align: top;\n",
              "    }\n",
              "\n",
              "    .dataframe thead th {\n",
              "        text-align: right;\n",
              "    }\n",
              "</style>\n",
              "<table border=\"1\" class=\"dataframe\">\n",
              "  <thead>\n",
              "    <tr style=\"text-align: right;\">\n",
              "      <th></th>\n",
              "      <th>met</th>\n",
              "      <th>wave</th>\n",
              "    </tr>\n",
              "    <tr>\n",
              "      <th>time (UTC)</th>\n",
              "      <th></th>\n",
              "      <th></th>\n",
              "    </tr>\n",
              "  </thead>\n",
              "  <tbody>\n",
              "    <tr>\n",
              "      <th>2018-12-31 00:00:00+00:00</th>\n",
              "      <td>65867386</td>\n",
              "      <td>5350148</td>\n",
              "    </tr>\n",
              "    <tr>\n",
              "      <th>2019-12-31 00:00:00+00:00</th>\n",
              "      <td>67601032</td>\n",
              "      <td>5381422</td>\n",
              "    </tr>\n",
              "    <tr>\n",
              "      <th>2020-12-31 00:00:00+00:00</th>\n",
              "      <td>67921642</td>\n",
              "      <td>5086546</td>\n",
              "    </tr>\n",
              "    <tr>\n",
              "      <th>2021-12-31 00:00:00+00:00</th>\n",
              "      <td>68018280</td>\n",
              "      <td>5184606</td>\n",
              "    </tr>\n",
              "    <tr>\n",
              "      <th>2022-12-31 00:00:00+00:00</th>\n",
              "      <td>73349742</td>\n",
              "      <td>5799952</td>\n",
              "    </tr>\n",
              "    <tr>\n",
              "      <th>2023-12-31 00:00:00+00:00</th>\n",
              "      <td>76123506</td>\n",
              "      <td>8088546</td>\n",
              "    </tr>\n",
              "    <tr>\n",
              "      <th>2024-12-31 00:00:00+00:00</th>\n",
              "      <td>76487008</td>\n",
              "      <td>7923096</td>\n",
              "    </tr>\n",
              "    <tr>\n",
              "      <th>2025-12-31 00:00:00+00:00</th>\n",
              "      <td>16799904</td>\n",
              "      <td>1479514</td>\n",
              "    </tr>\n",
              "  </tbody>\n",
              "</table>\n",
              "</div>\n",
              "    <div class=\"colab-df-buttons\">\n",
              "\n",
              "  <div class=\"colab-df-container\">\n",
              "    <button class=\"colab-df-convert\" onclick=\"convertToInteractive('df-4e51923a-d0b3-4a96-b0ba-f7a2ae9a19ff')\"\n",
              "            title=\"Convert this dataframe to an interactive table.\"\n",
              "            style=\"display:none;\">\n",
              "\n",
              "  <svg xmlns=\"http://www.w3.org/2000/svg\" height=\"24px\" viewBox=\"0 -960 960 960\">\n",
              "    <path d=\"M120-120v-720h720v720H120Zm60-500h600v-160H180v160Zm220 220h160v-160H400v160Zm0 220h160v-160H400v160ZM180-400h160v-160H180v160Zm440 0h160v-160H620v160ZM180-180h160v-160H180v160Zm440 0h160v-160H620v160Z\"/>\n",
              "  </svg>\n",
              "    </button>\n",
              "\n",
              "  <style>\n",
              "    .colab-df-container {\n",
              "      display:flex;\n",
              "      gap: 12px;\n",
              "    }\n",
              "\n",
              "    .colab-df-convert {\n",
              "      background-color: #E8F0FE;\n",
              "      border: none;\n",
              "      border-radius: 50%;\n",
              "      cursor: pointer;\n",
              "      display: none;\n",
              "      fill: #1967D2;\n",
              "      height: 32px;\n",
              "      padding: 0 0 0 0;\n",
              "      width: 32px;\n",
              "    }\n",
              "\n",
              "    .colab-df-convert:hover {\n",
              "      background-color: #E2EBFA;\n",
              "      box-shadow: 0px 1px 2px rgba(60, 64, 67, 0.3), 0px 1px 3px 1px rgba(60, 64, 67, 0.15);\n",
              "      fill: #174EA6;\n",
              "    }\n",
              "\n",
              "    .colab-df-buttons div {\n",
              "      margin-bottom: 4px;\n",
              "    }\n",
              "\n",
              "    [theme=dark] .colab-df-convert {\n",
              "      background-color: #3B4455;\n",
              "      fill: #D2E3FC;\n",
              "    }\n",
              "\n",
              "    [theme=dark] .colab-df-convert:hover {\n",
              "      background-color: #434B5C;\n",
              "      box-shadow: 0px 1px 3px 1px rgba(0, 0, 0, 0.15);\n",
              "      filter: drop-shadow(0px 1px 2px rgba(0, 0, 0, 0.3));\n",
              "      fill: #FFFFFF;\n",
              "    }\n",
              "  </style>\n",
              "\n",
              "    <script>\n",
              "      const buttonEl =\n",
              "        document.querySelector('#df-4e51923a-d0b3-4a96-b0ba-f7a2ae9a19ff button.colab-df-convert');\n",
              "      buttonEl.style.display =\n",
              "        google.colab.kernel.accessAllowed ? 'block' : 'none';\n",
              "\n",
              "      async function convertToInteractive(key) {\n",
              "        const element = document.querySelector('#df-4e51923a-d0b3-4a96-b0ba-f7a2ae9a19ff');\n",
              "        const dataTable =\n",
              "          await google.colab.kernel.invokeFunction('convertToInteractive',\n",
              "                                                    [key], {});\n",
              "        if (!dataTable) return;\n",
              "\n",
              "        const docLinkHtml = 'Like what you see? Visit the ' +\n",
              "          '<a target=\"_blank\" href=https://colab.research.google.com/notebooks/data_table.ipynb>data table notebook</a>'\n",
              "          + ' to learn more about interactive tables.';\n",
              "        element.innerHTML = '';\n",
              "        dataTable['output_type'] = 'display_data';\n",
              "        await google.colab.output.renderOutput(dataTable, element);\n",
              "        const docLink = document.createElement('div');\n",
              "        docLink.innerHTML = docLinkHtml;\n",
              "        element.appendChild(docLink);\n",
              "      }\n",
              "    </script>\n",
              "  </div>\n",
              "\n",
              "\n",
              "<div id=\"df-5cfb73d3-f38a-445a-b909-5462b415267c\">\n",
              "  <button class=\"colab-df-quickchart\" onclick=\"quickchart('df-5cfb73d3-f38a-445a-b909-5462b415267c')\"\n",
              "            title=\"Suggest charts\"\n",
              "            style=\"display:none;\">\n",
              "\n",
              "<svg xmlns=\"http://www.w3.org/2000/svg\" height=\"24px\"viewBox=\"0 0 24 24\"\n",
              "     width=\"24px\">\n",
              "    <g>\n",
              "        <path d=\"M19 3H5c-1.1 0-2 .9-2 2v14c0 1.1.9 2 2 2h14c1.1 0 2-.9 2-2V5c0-1.1-.9-2-2-2zM9 17H7v-7h2v7zm4 0h-2V7h2v10zm4 0h-2v-4h2v4z\"/>\n",
              "    </g>\n",
              "</svg>\n",
              "  </button>\n",
              "\n",
              "<style>\n",
              "  .colab-df-quickchart {\n",
              "      --bg-color: #E8F0FE;\n",
              "      --fill-color: #1967D2;\n",
              "      --hover-bg-color: #E2EBFA;\n",
              "      --hover-fill-color: #174EA6;\n",
              "      --disabled-fill-color: #AAA;\n",
              "      --disabled-bg-color: #DDD;\n",
              "  }\n",
              "\n",
              "  [theme=dark] .colab-df-quickchart {\n",
              "      --bg-color: #3B4455;\n",
              "      --fill-color: #D2E3FC;\n",
              "      --hover-bg-color: #434B5C;\n",
              "      --hover-fill-color: #FFFFFF;\n",
              "      --disabled-bg-color: #3B4455;\n",
              "      --disabled-fill-color: #666;\n",
              "  }\n",
              "\n",
              "  .colab-df-quickchart {\n",
              "    background-color: var(--bg-color);\n",
              "    border: none;\n",
              "    border-radius: 50%;\n",
              "    cursor: pointer;\n",
              "    display: none;\n",
              "    fill: var(--fill-color);\n",
              "    height: 32px;\n",
              "    padding: 0;\n",
              "    width: 32px;\n",
              "  }\n",
              "\n",
              "  .colab-df-quickchart:hover {\n",
              "    background-color: var(--hover-bg-color);\n",
              "    box-shadow: 0 1px 2px rgba(60, 64, 67, 0.3), 0 1px 3px 1px rgba(60, 64, 67, 0.15);\n",
              "    fill: var(--button-hover-fill-color);\n",
              "  }\n",
              "\n",
              "  .colab-df-quickchart-complete:disabled,\n",
              "  .colab-df-quickchart-complete:disabled:hover {\n",
              "    background-color: var(--disabled-bg-color);\n",
              "    fill: var(--disabled-fill-color);\n",
              "    box-shadow: none;\n",
              "  }\n",
              "\n",
              "  .colab-df-spinner {\n",
              "    border: 2px solid var(--fill-color);\n",
              "    border-color: transparent;\n",
              "    border-bottom-color: var(--fill-color);\n",
              "    animation:\n",
              "      spin 1s steps(1) infinite;\n",
              "  }\n",
              "\n",
              "  @keyframes spin {\n",
              "    0% {\n",
              "      border-color: transparent;\n",
              "      border-bottom-color: var(--fill-color);\n",
              "      border-left-color: var(--fill-color);\n",
              "    }\n",
              "    20% {\n",
              "      border-color: transparent;\n",
              "      border-left-color: var(--fill-color);\n",
              "      border-top-color: var(--fill-color);\n",
              "    }\n",
              "    30% {\n",
              "      border-color: transparent;\n",
              "      border-left-color: var(--fill-color);\n",
              "      border-top-color: var(--fill-color);\n",
              "      border-right-color: var(--fill-color);\n",
              "    }\n",
              "    40% {\n",
              "      border-color: transparent;\n",
              "      border-right-color: var(--fill-color);\n",
              "      border-top-color: var(--fill-color);\n",
              "    }\n",
              "    60% {\n",
              "      border-color: transparent;\n",
              "      border-right-color: var(--fill-color);\n",
              "    }\n",
              "    80% {\n",
              "      border-color: transparent;\n",
              "      border-right-color: var(--fill-color);\n",
              "      border-bottom-color: var(--fill-color);\n",
              "    }\n",
              "    90% {\n",
              "      border-color: transparent;\n",
              "      border-bottom-color: var(--fill-color);\n",
              "    }\n",
              "  }\n",
              "</style>\n",
              "\n",
              "  <script>\n",
              "    async function quickchart(key) {\n",
              "      const quickchartButtonEl =\n",
              "        document.querySelector('#' + key + ' button');\n",
              "      quickchartButtonEl.disabled = true;  // To prevent multiple clicks.\n",
              "      quickchartButtonEl.classList.add('colab-df-spinner');\n",
              "      try {\n",
              "        const charts = await google.colab.kernel.invokeFunction(\n",
              "            'suggestCharts', [key], {});\n",
              "      } catch (error) {\n",
              "        console.error('Error during call to suggestCharts:', error);\n",
              "      }\n",
              "      quickchartButtonEl.classList.remove('colab-df-spinner');\n",
              "      quickchartButtonEl.classList.add('colab-df-quickchart-complete');\n",
              "    }\n",
              "    (() => {\n",
              "      let quickchartButtonEl =\n",
              "        document.querySelector('#df-5cfb73d3-f38a-445a-b909-5462b415267c button');\n",
              "      quickchartButtonEl.style.display =\n",
              "        google.colab.kernel.accessAllowed ? 'block' : 'none';\n",
              "    })();\n",
              "  </script>\n",
              "</div>\n",
              "\n",
              "    </div>\n",
              "  </div>\n"
            ],
            "application/vnd.google.colaboratory.intrinsic+json": {
              "type": "dataframe",
              "summary": "{\n  \"name\": \"#totals\",\n  \"rows\": 8,\n  \"fields\": [\n    {\n      \"column\": \"time (UTC)\",\n      \"properties\": {\n        \"dtype\": \"date\",\n        \"min\": \"2018-12-31 00:00:00+00:00\",\n        \"max\": \"2025-12-31 00:00:00+00:00\",\n        \"num_unique_values\": 8,\n        \"samples\": [\n          \"2019-12-31 00:00:00+00:00\",\n          \"2023-12-31 00:00:00+00:00\",\n          \"2018-12-31 00:00:00+00:00\"\n        ],\n        \"semantic_type\": \"\",\n        \"description\": \"\"\n      }\n    },\n    {\n      \"column\": \"met\",\n      \"properties\": {\n        \"dtype\": \"number\",\n        \"std\": 19516104,\n        \"min\": 16799904,\n        \"max\": 76487008,\n        \"num_unique_values\": 8,\n        \"samples\": [\n          67601032,\n          76123506,\n          65867386\n        ],\n        \"semantic_type\": \"\",\n        \"description\": \"\"\n      }\n    },\n    {\n      \"column\": \"wave\",\n      \"properties\": {\n        \"dtype\": \"number\",\n        \"std\": 2039691,\n        \"min\": 1479514,\n        \"max\": 8088546,\n        \"num_unique_values\": 8,\n        \"samples\": [\n          5381422,\n          8088546,\n          5350148\n        ],\n        \"semantic_type\": \"\",\n        \"description\": \"\"\n      }\n    }\n  ]\n}"
            }
          },
          "metadata": {},
          "execution_count": 8
        }
      ]
    },
    {
      "cell_type": "code",
      "source": [
        "yearly_totals.loc['IOOS'].sum().sum()"
      ],
      "metadata": {
        "id": "uL8slBQKYkao",
        "outputId": "394a7b85-55c7-4501-98d8-88fb3421586d",
        "colab": {
          "base_uri": "https://localhost:8080/"
        }
      },
      "execution_count": 9,
      "outputs": [
        {
          "output_type": "execute_result",
          "data": {
            "text/plain": [
              "np.int64(93773510)"
            ]
          },
          "metadata": {},
          "execution_count": 9
        }
      ]
    },
    {
      "cell_type": "markdown",
      "source": [
        "# Total number of unique platforms submitting data to the GTS from the IOOS regions"
      ],
      "metadata": {
        "id": "jRwVnhAHA8Ma"
      }
    },
    {
      "cell_type": "markdown",
      "source": [
        "IOOS location IDs"
      ],
      "metadata": {
        "id": "5xUmgzD8r4mV"
      }
    },
    {
      "cell_type": "code",
      "source": [
        "df.loc[df['source']=='IOOS'].locationID"
      ],
      "metadata": {
        "colab": {
          "base_uri": "https://localhost:8080/",
          "height": 490
        },
        "id": "lww9_FP1B0KG",
        "outputId": "3b566364-0ba2-4fec-d697-6db888845dc3"
      },
      "execution_count": 11,
      "outputs": [
        {
          "output_type": "execute_result",
          "data": {
            "text/plain": [
              "time (UTC)\n",
              "2018-01-01 00:00:00+00:00    46108\n",
              "2018-01-01 00:00:00+00:00    AJXA2\n",
              "2018-01-01 00:00:00+00:00    CDXA2\n",
              "2018-01-01 00:00:00+00:00    ERXA2\n",
              "2018-01-01 00:00:00+00:00    GIXA2\n",
              "                             ...  \n",
              "2025-03-01 00:00:00+00:00    SIPF1\n",
              "2025-03-01 00:00:00+00:00    42098\n",
              "2025-03-01 00:00:00+00:00    44095\n",
              "2025-03-01 00:00:00+00:00    44086\n",
              "2025-03-01 00:00:00+00:00    44089\n",
              "Name: locationID, Length: 15971, dtype: object"
            ],
            "text/html": [
              "<div>\n",
              "<style scoped>\n",
              "    .dataframe tbody tr th:only-of-type {\n",
              "        vertical-align: middle;\n",
              "    }\n",
              "\n",
              "    .dataframe tbody tr th {\n",
              "        vertical-align: top;\n",
              "    }\n",
              "\n",
              "    .dataframe thead th {\n",
              "        text-align: right;\n",
              "    }\n",
              "</style>\n",
              "<table border=\"1\" class=\"dataframe\">\n",
              "  <thead>\n",
              "    <tr style=\"text-align: right;\">\n",
              "      <th></th>\n",
              "      <th>locationID</th>\n",
              "    </tr>\n",
              "    <tr>\n",
              "      <th>time (UTC)</th>\n",
              "      <th></th>\n",
              "    </tr>\n",
              "  </thead>\n",
              "  <tbody>\n",
              "    <tr>\n",
              "      <th>2018-01-01 00:00:00+00:00</th>\n",
              "      <td>46108</td>\n",
              "    </tr>\n",
              "    <tr>\n",
              "      <th>2018-01-01 00:00:00+00:00</th>\n",
              "      <td>AJXA2</td>\n",
              "    </tr>\n",
              "    <tr>\n",
              "      <th>2018-01-01 00:00:00+00:00</th>\n",
              "      <td>CDXA2</td>\n",
              "    </tr>\n",
              "    <tr>\n",
              "      <th>2018-01-01 00:00:00+00:00</th>\n",
              "      <td>ERXA2</td>\n",
              "    </tr>\n",
              "    <tr>\n",
              "      <th>2018-01-01 00:00:00+00:00</th>\n",
              "      <td>GIXA2</td>\n",
              "    </tr>\n",
              "    <tr>\n",
              "      <th>...</th>\n",
              "      <td>...</td>\n",
              "    </tr>\n",
              "    <tr>\n",
              "      <th>2025-03-01 00:00:00+00:00</th>\n",
              "      <td>SIPF1</td>\n",
              "    </tr>\n",
              "    <tr>\n",
              "      <th>2025-03-01 00:00:00+00:00</th>\n",
              "      <td>42098</td>\n",
              "    </tr>\n",
              "    <tr>\n",
              "      <th>2025-03-01 00:00:00+00:00</th>\n",
              "      <td>44095</td>\n",
              "    </tr>\n",
              "    <tr>\n",
              "      <th>2025-03-01 00:00:00+00:00</th>\n",
              "      <td>44086</td>\n",
              "    </tr>\n",
              "    <tr>\n",
              "      <th>2025-03-01 00:00:00+00:00</th>\n",
              "      <td>44089</td>\n",
              "    </tr>\n",
              "  </tbody>\n",
              "</table>\n",
              "<p>15971 rows × 1 columns</p>\n",
              "</div><br><label><b>dtype:</b> object</label>"
            ]
          },
          "metadata": {},
          "execution_count": 11
        }
      ]
    },
    {
      "cell_type": "code",
      "source": [
        "n_ioos_stn = len(df.loc[df['source']=='IOOS'].locationID.unique())\n",
        "\n",
        "n_ioos_stn"
      ],
      "metadata": {
        "colab": {
          "base_uri": "https://localhost:8080/"
        },
        "id": "YNrKeq-__R4E",
        "outputId": "18f04b11-2263-4bf6-84ff-56f1efeabff7"
      },
      "execution_count": 12,
      "outputs": [
        {
          "output_type": "execute_result",
          "data": {
            "text/plain": [
              "260"
            ]
          },
          "metadata": {},
          "execution_count": 12
        }
      ]
    },
    {
      "cell_type": "markdown",
      "source": [
        "All location ID's"
      ],
      "metadata": {
        "id": "bqvUnfHQqknn"
      }
    },
    {
      "cell_type": "code",
      "source": [
        "n_all_stn = len(df.locationID.unique())\n",
        "\n",
        "n_all_stn"
      ],
      "metadata": {
        "id": "2X_r8Fz5qhjd",
        "outputId": "2c8ca233-d6ff-4fc7-82d7-3c3e066b2b77",
        "colab": {
          "base_uri": "https://localhost:8080/"
        }
      },
      "execution_count": 13,
      "outputs": [
        {
          "output_type": "execute_result",
          "data": {
            "text/plain": [
              "1039"
            ]
          },
          "metadata": {},
          "execution_count": 13
        }
      ]
    },
    {
      "cell_type": "markdown",
      "source": [
        "IOOS stations represent this of the total # stations whose data are delivered by NDBC to the GTS"
      ],
      "metadata": {
        "id": "dZ59MLVgquzJ"
      }
    },
    {
      "cell_type": "code",
      "source": [
        "station_pcnt = n_ioos_stn / n_all_stn\n",
        "\n",
        "print(f'IOOS stations represent {station_pcnt*100:.2f}% of the total {n_all_stn} stations whose data are delivered by NDBC to the GTS')"
      ],
      "metadata": {
        "id": "Q4_sZfpYqok5",
        "outputId": "a915707d-1bf5-4f32-b487-8ac84452a8c8",
        "colab": {
          "base_uri": "https://localhost:8080/"
        }
      },
      "execution_count": 14,
      "outputs": [
        {
          "output_type": "stream",
          "name": "stdout",
          "text": [
            "IOOS stations represent 25.02% of the total 1039 stations whose data are delivered by NDBC to the GTS\n"
          ]
        }
      ]
    },
    {
      "cell_type": "markdown",
      "source": [
        "Focusing on station platform counts (260, I believe) - Can you compute what % that is of the total delivered by NDBC to the GTS? (I didn't notice if you identify the total # stations anywhere).\n",
        "\n",
        "So, we can say \"IOOS stations represent x% of the total # stations whose data are delivered by NDBC to the GTS\""
      ],
      "metadata": {
        "id": "bOoSIKzamDkd"
      }
    },
    {
      "cell_type": "code",
      "source": [
        "ioos_ndbc_non_NDBC = yearly_totals.loc['IOOS'] + yearly_totals.loc['NDBC'] + yearly_totals.loc['non-NDBC']\n",
        "\n",
        "yearly_totals.loc['IOOS','total'].sum() / ioos_ndbc_non_NDBC['total'].sum()"
      ],
      "metadata": {
        "id": "O0lPp2EfmaTC",
        "outputId": "d6ce8a5f-68e5-4599-cbb2-9c0f97dac8cf",
        "colab": {
          "base_uri": "https://localhost:8080/"
        }
      },
      "execution_count": 15,
      "outputs": [
        {
          "output_type": "stream",
          "name": "stderr",
          "text": [
            "<ipython-input-15-14da4bcae30e>:3: RuntimeWarning: invalid value encountered in scalar divide\n",
            "  yearly_totals.loc['IOOS','total'].sum() / ioos_ndbc_non_NDBC['total'].sum()\n"
          ]
        },
        {
          "output_type": "execute_result",
          "data": {
            "text/plain": [
              "np.float64(nan)"
            ]
          },
          "metadata": {},
          "execution_count": 15
        }
      ]
    },
    {
      "cell_type": "markdown",
      "source": [
        "# Total number of sponsors submitting data to the GTS via IOOS Regions"
      ],
      "metadata": {
        "id": "aLqg-WfXA9pM"
      }
    },
    {
      "cell_type": "code",
      "source": [
        "df.loc[df['source']=='IOOS'].sponsor"
      ],
      "metadata": {
        "colab": {
          "base_uri": "https://localhost:8080/",
          "height": 490
        },
        "id": "DmFEKp6lBxKQ",
        "outputId": "85f9ccf4-d299-48ca-d12a-f6b0f1a6c0db"
      },
      "execution_count": 16,
      "outputs": [
        {
          "output_type": "execute_result",
          "data": {
            "text/plain": [
              "time (UTC)\n",
              "2018-01-01 00:00:00+00:00                      ALASKA OCEAN OBSERVING SYSTEM\n",
              "2018-01-01 00:00:00+00:00                          MARINE EXCHANGE OF ALASKA\n",
              "2018-01-01 00:00:00+00:00                          MARINE EXCHANGE OF ALASKA\n",
              "2018-01-01 00:00:00+00:00                          MARINE EXCHANGE OF ALASKA\n",
              "2018-01-01 00:00:00+00:00                          MARINE EXCHANGE OF ALASKA\n",
              "                                                  ...                       \n",
              "2025-03-01 00:00:00+00:00                    FLORIDA INSTITUTE OF TECHNOLOGY\n",
              "2025-03-01 00:00:00+00:00    GREATER TAMPA BAY MARINE ADVISORY COUNCIL PORTS\n",
              "2025-03-01 00:00:00+00:00       UNIVERSITY OF NORTH CAROLINA COASTAL STUDIES\n",
              "2025-03-01 00:00:00+00:00       UNIVERSITY OF NORTH CAROLINA COASTAL STUDIES\n",
              "2025-03-01 00:00:00+00:00                       U.S. ARMY CORPS OF ENGINEERS\n",
              "Name: sponsor, Length: 15971, dtype: object"
            ],
            "text/html": [
              "<div>\n",
              "<style scoped>\n",
              "    .dataframe tbody tr th:only-of-type {\n",
              "        vertical-align: middle;\n",
              "    }\n",
              "\n",
              "    .dataframe tbody tr th {\n",
              "        vertical-align: top;\n",
              "    }\n",
              "\n",
              "    .dataframe thead th {\n",
              "        text-align: right;\n",
              "    }\n",
              "</style>\n",
              "<table border=\"1\" class=\"dataframe\">\n",
              "  <thead>\n",
              "    <tr style=\"text-align: right;\">\n",
              "      <th></th>\n",
              "      <th>sponsor</th>\n",
              "    </tr>\n",
              "    <tr>\n",
              "      <th>time (UTC)</th>\n",
              "      <th></th>\n",
              "    </tr>\n",
              "  </thead>\n",
              "  <tbody>\n",
              "    <tr>\n",
              "      <th>2018-01-01 00:00:00+00:00</th>\n",
              "      <td>ALASKA OCEAN OBSERVING SYSTEM</td>\n",
              "    </tr>\n",
              "    <tr>\n",
              "      <th>2018-01-01 00:00:00+00:00</th>\n",
              "      <td>MARINE EXCHANGE OF ALASKA</td>\n",
              "    </tr>\n",
              "    <tr>\n",
              "      <th>2018-01-01 00:00:00+00:00</th>\n",
              "      <td>MARINE EXCHANGE OF ALASKA</td>\n",
              "    </tr>\n",
              "    <tr>\n",
              "      <th>2018-01-01 00:00:00+00:00</th>\n",
              "      <td>MARINE EXCHANGE OF ALASKA</td>\n",
              "    </tr>\n",
              "    <tr>\n",
              "      <th>2018-01-01 00:00:00+00:00</th>\n",
              "      <td>MARINE EXCHANGE OF ALASKA</td>\n",
              "    </tr>\n",
              "    <tr>\n",
              "      <th>...</th>\n",
              "      <td>...</td>\n",
              "    </tr>\n",
              "    <tr>\n",
              "      <th>2025-03-01 00:00:00+00:00</th>\n",
              "      <td>FLORIDA INSTITUTE OF TECHNOLOGY</td>\n",
              "    </tr>\n",
              "    <tr>\n",
              "      <th>2025-03-01 00:00:00+00:00</th>\n",
              "      <td>GREATER TAMPA BAY MARINE ADVISORY COUNCIL PORTS</td>\n",
              "    </tr>\n",
              "    <tr>\n",
              "      <th>2025-03-01 00:00:00+00:00</th>\n",
              "      <td>UNIVERSITY OF NORTH CAROLINA COASTAL STUDIES</td>\n",
              "    </tr>\n",
              "    <tr>\n",
              "      <th>2025-03-01 00:00:00+00:00</th>\n",
              "      <td>UNIVERSITY OF NORTH CAROLINA COASTAL STUDIES</td>\n",
              "    </tr>\n",
              "    <tr>\n",
              "      <th>2025-03-01 00:00:00+00:00</th>\n",
              "      <td>U.S. ARMY CORPS OF ENGINEERS</td>\n",
              "    </tr>\n",
              "  </tbody>\n",
              "</table>\n",
              "<p>15971 rows × 1 columns</p>\n",
              "</div><br><label><b>dtype:</b> object</label>"
            ]
          },
          "metadata": {},
          "execution_count": 16
        }
      ]
    },
    {
      "cell_type": "code",
      "source": [
        "len(df.loc[df['source']=='IOOS'].sponsor.unique())"
      ],
      "metadata": {
        "colab": {
          "base_uri": "https://localhost:8080/"
        },
        "id": "NzHz6NWwASjd",
        "outputId": "9760c8d9-8887-4faf-f9ed-38a0a0ae347e"
      },
      "execution_count": 17,
      "outputs": [
        {
          "output_type": "execute_result",
          "data": {
            "text/plain": [
              "47"
            ]
          },
          "metadata": {},
          "execution_count": 17
        }
      ]
    },
    {
      "cell_type": "markdown",
      "source": [
        "# Average number of messages (met+wave) per year\n",
        "\n",
        "For all the years, including 2025"
      ],
      "metadata": {
        "id": "zIS5yD1mb5XV"
      }
    },
    {
      "cell_type": "code",
      "source": [
        "print(df.groupby(by=[\"source\", pd.Grouper(freq=\"YE\")])[['met','wave']].sum().loc['IOOS'].mean().to_markdown(floatfmt=''))\n",
        "print(df.groupby(by=[\"source\", pd.Grouper(freq=\"YE\")])[['met','wave']].sum().loc['IOOS'].mean().sum())"
      ],
      "metadata": {
        "id": "HWRbvzvQBNHa",
        "outputId": "e1ac2567-f0ef-431c-cc45-c4d5dbcb1cc2",
        "colab": {
          "base_uri": "https://localhost:8080/"
        }
      },
      "execution_count": 18,
      "outputs": [
        {
          "output_type": "stream",
          "name": "stdout",
          "text": [
            "|      |           0 |\n",
            "|:-----|------------:|\n",
            "| met  | 10250717.5  |\n",
            "| wave |  1470971.25 |\n",
            "11721688.75\n"
          ]
        }
      ]
    },
    {
      "cell_type": "markdown",
      "source": [
        "for 2018-2024, since 2025 is only through March."
      ],
      "metadata": {
        "id": "04boOmYDe-rj"
      }
    },
    {
      "cell_type": "code",
      "source": [
        "print(df.groupby(by=[\"source\", pd.Grouper(freq=\"YE\")])[['met','wave']].sum().loc['IOOS'].loc[:\"2024\"].mean().to_markdown(floatfmt=''))\n",
        "print(df.groupby(by=[\"source\", pd.Grouper(freq=\"YE\")])[['met','wave']].sum().loc['IOOS'].loc[:\"2024\"].mean().sum())"
      ],
      "metadata": {
        "id": "Y5DbGOIId2ED",
        "outputId": "cd71dd28-0c65-4afa-d24a-35dc8c58830b",
        "colab": {
          "base_uri": "https://localhost:8080/"
        }
      },
      "execution_count": 19,
      "outputs": [
        {
          "output_type": "stream",
          "name": "stdout",
          "text": [
            "|      |                   0 |\n",
            "|:-----|--------------------:|\n",
            "| met  | 11299304.285714285  |\n",
            "| wave |  1632791.4285714286 |\n",
            "12932095.714285715\n"
          ]
        }
      ]
    },
    {
      "cell_type": "markdown",
      "source": [
        "## Trying to regroup to account for CO-OPs 6-min obs."
      ],
      "metadata": {
        "id": "fn7i6xLegP6y"
      }
    },
    {
      "cell_type": "code",
      "source": [
        "df.groupby(by=[\"source\", pd.Grouper(freq='h')])[['met','wave']].sum().loc['non-NDBC']"
      ],
      "metadata": {
        "id": "EXT94FCNckPS",
        "outputId": "e20b6ea9-d867-400a-8c72-0f06334c441d",
        "colab": {
          "base_uri": "https://localhost:8080/",
          "height": 455
        }
      },
      "execution_count": 20,
      "outputs": [
        {
          "output_type": "execute_result",
          "data": {
            "text/plain": [
              "                               met    wave\n",
              "time (UTC)                                \n",
              "2018-01-01 00:00:00+00:00  4302942  185918\n",
              "2018-02-01 00:00:00+00:00  3859286  169298\n",
              "2018-03-01 00:00:00+00:00  4233350  189658\n",
              "2018-04-01 00:00:00+00:00  4152756  181056\n",
              "2018-05-01 00:00:00+00:00  4298992  203102\n",
              "...                            ...     ...\n",
              "2024-11-01 00:00:00+00:00  4411730  242504\n",
              "2024-12-01 00:00:00+00:00  4483752  190722\n",
              "2025-01-01 00:00:00+00:00  4158458  205566\n",
              "2025-02-01 00:00:00+00:00  3352772  190114\n",
              "2025-03-01 00:00:00+00:00  4451978  219128\n",
              "\n",
              "[87 rows x 2 columns]"
            ],
            "text/html": [
              "\n",
              "  <div id=\"df-0e3e46d4-dc99-4234-8098-5bf003a9ebe2\" class=\"colab-df-container\">\n",
              "    <div>\n",
              "<style scoped>\n",
              "    .dataframe tbody tr th:only-of-type {\n",
              "        vertical-align: middle;\n",
              "    }\n",
              "\n",
              "    .dataframe tbody tr th {\n",
              "        vertical-align: top;\n",
              "    }\n",
              "\n",
              "    .dataframe thead th {\n",
              "        text-align: right;\n",
              "    }\n",
              "</style>\n",
              "<table border=\"1\" class=\"dataframe\">\n",
              "  <thead>\n",
              "    <tr style=\"text-align: right;\">\n",
              "      <th></th>\n",
              "      <th>met</th>\n",
              "      <th>wave</th>\n",
              "    </tr>\n",
              "    <tr>\n",
              "      <th>time (UTC)</th>\n",
              "      <th></th>\n",
              "      <th></th>\n",
              "    </tr>\n",
              "  </thead>\n",
              "  <tbody>\n",
              "    <tr>\n",
              "      <th>2018-01-01 00:00:00+00:00</th>\n",
              "      <td>4302942</td>\n",
              "      <td>185918</td>\n",
              "    </tr>\n",
              "    <tr>\n",
              "      <th>2018-02-01 00:00:00+00:00</th>\n",
              "      <td>3859286</td>\n",
              "      <td>169298</td>\n",
              "    </tr>\n",
              "    <tr>\n",
              "      <th>2018-03-01 00:00:00+00:00</th>\n",
              "      <td>4233350</td>\n",
              "      <td>189658</td>\n",
              "    </tr>\n",
              "    <tr>\n",
              "      <th>2018-04-01 00:00:00+00:00</th>\n",
              "      <td>4152756</td>\n",
              "      <td>181056</td>\n",
              "    </tr>\n",
              "    <tr>\n",
              "      <th>2018-05-01 00:00:00+00:00</th>\n",
              "      <td>4298992</td>\n",
              "      <td>203102</td>\n",
              "    </tr>\n",
              "    <tr>\n",
              "      <th>...</th>\n",
              "      <td>...</td>\n",
              "      <td>...</td>\n",
              "    </tr>\n",
              "    <tr>\n",
              "      <th>2024-11-01 00:00:00+00:00</th>\n",
              "      <td>4411730</td>\n",
              "      <td>242504</td>\n",
              "    </tr>\n",
              "    <tr>\n",
              "      <th>2024-12-01 00:00:00+00:00</th>\n",
              "      <td>4483752</td>\n",
              "      <td>190722</td>\n",
              "    </tr>\n",
              "    <tr>\n",
              "      <th>2025-01-01 00:00:00+00:00</th>\n",
              "      <td>4158458</td>\n",
              "      <td>205566</td>\n",
              "    </tr>\n",
              "    <tr>\n",
              "      <th>2025-02-01 00:00:00+00:00</th>\n",
              "      <td>3352772</td>\n",
              "      <td>190114</td>\n",
              "    </tr>\n",
              "    <tr>\n",
              "      <th>2025-03-01 00:00:00+00:00</th>\n",
              "      <td>4451978</td>\n",
              "      <td>219128</td>\n",
              "    </tr>\n",
              "  </tbody>\n",
              "</table>\n",
              "<p>87 rows × 2 columns</p>\n",
              "</div>\n",
              "    <div class=\"colab-df-buttons\">\n",
              "\n",
              "  <div class=\"colab-df-container\">\n",
              "    <button class=\"colab-df-convert\" onclick=\"convertToInteractive('df-0e3e46d4-dc99-4234-8098-5bf003a9ebe2')\"\n",
              "            title=\"Convert this dataframe to an interactive table.\"\n",
              "            style=\"display:none;\">\n",
              "\n",
              "  <svg xmlns=\"http://www.w3.org/2000/svg\" height=\"24px\" viewBox=\"0 -960 960 960\">\n",
              "    <path d=\"M120-120v-720h720v720H120Zm60-500h600v-160H180v160Zm220 220h160v-160H400v160Zm0 220h160v-160H400v160ZM180-400h160v-160H180v160Zm440 0h160v-160H620v160ZM180-180h160v-160H180v160Zm440 0h160v-160H620v160Z\"/>\n",
              "  </svg>\n",
              "    </button>\n",
              "\n",
              "  <style>\n",
              "    .colab-df-container {\n",
              "      display:flex;\n",
              "      gap: 12px;\n",
              "    }\n",
              "\n",
              "    .colab-df-convert {\n",
              "      background-color: #E8F0FE;\n",
              "      border: none;\n",
              "      border-radius: 50%;\n",
              "      cursor: pointer;\n",
              "      display: none;\n",
              "      fill: #1967D2;\n",
              "      height: 32px;\n",
              "      padding: 0 0 0 0;\n",
              "      width: 32px;\n",
              "    }\n",
              "\n",
              "    .colab-df-convert:hover {\n",
              "      background-color: #E2EBFA;\n",
              "      box-shadow: 0px 1px 2px rgba(60, 64, 67, 0.3), 0px 1px 3px 1px rgba(60, 64, 67, 0.15);\n",
              "      fill: #174EA6;\n",
              "    }\n",
              "\n",
              "    .colab-df-buttons div {\n",
              "      margin-bottom: 4px;\n",
              "    }\n",
              "\n",
              "    [theme=dark] .colab-df-convert {\n",
              "      background-color: #3B4455;\n",
              "      fill: #D2E3FC;\n",
              "    }\n",
              "\n",
              "    [theme=dark] .colab-df-convert:hover {\n",
              "      background-color: #434B5C;\n",
              "      box-shadow: 0px 1px 3px 1px rgba(0, 0, 0, 0.15);\n",
              "      filter: drop-shadow(0px 1px 2px rgba(0, 0, 0, 0.3));\n",
              "      fill: #FFFFFF;\n",
              "    }\n",
              "  </style>\n",
              "\n",
              "    <script>\n",
              "      const buttonEl =\n",
              "        document.querySelector('#df-0e3e46d4-dc99-4234-8098-5bf003a9ebe2 button.colab-df-convert');\n",
              "      buttonEl.style.display =\n",
              "        google.colab.kernel.accessAllowed ? 'block' : 'none';\n",
              "\n",
              "      async function convertToInteractive(key) {\n",
              "        const element = document.querySelector('#df-0e3e46d4-dc99-4234-8098-5bf003a9ebe2');\n",
              "        const dataTable =\n",
              "          await google.colab.kernel.invokeFunction('convertToInteractive',\n",
              "                                                    [key], {});\n",
              "        if (!dataTable) return;\n",
              "\n",
              "        const docLinkHtml = 'Like what you see? Visit the ' +\n",
              "          '<a target=\"_blank\" href=https://colab.research.google.com/notebooks/data_table.ipynb>data table notebook</a>'\n",
              "          + ' to learn more about interactive tables.';\n",
              "        element.innerHTML = '';\n",
              "        dataTable['output_type'] = 'display_data';\n",
              "        await google.colab.output.renderOutput(dataTable, element);\n",
              "        const docLink = document.createElement('div');\n",
              "        docLink.innerHTML = docLinkHtml;\n",
              "        element.appendChild(docLink);\n",
              "      }\n",
              "    </script>\n",
              "  </div>\n",
              "\n",
              "\n",
              "<div id=\"df-bc50bc33-f18d-4729-b2e4-3e923c035f2f\">\n",
              "  <button class=\"colab-df-quickchart\" onclick=\"quickchart('df-bc50bc33-f18d-4729-b2e4-3e923c035f2f')\"\n",
              "            title=\"Suggest charts\"\n",
              "            style=\"display:none;\">\n",
              "\n",
              "<svg xmlns=\"http://www.w3.org/2000/svg\" height=\"24px\"viewBox=\"0 0 24 24\"\n",
              "     width=\"24px\">\n",
              "    <g>\n",
              "        <path d=\"M19 3H5c-1.1 0-2 .9-2 2v14c0 1.1.9 2 2 2h14c1.1 0 2-.9 2-2V5c0-1.1-.9-2-2-2zM9 17H7v-7h2v7zm4 0h-2V7h2v10zm4 0h-2v-4h2v4z\"/>\n",
              "    </g>\n",
              "</svg>\n",
              "  </button>\n",
              "\n",
              "<style>\n",
              "  .colab-df-quickchart {\n",
              "      --bg-color: #E8F0FE;\n",
              "      --fill-color: #1967D2;\n",
              "      --hover-bg-color: #E2EBFA;\n",
              "      --hover-fill-color: #174EA6;\n",
              "      --disabled-fill-color: #AAA;\n",
              "      --disabled-bg-color: #DDD;\n",
              "  }\n",
              "\n",
              "  [theme=dark] .colab-df-quickchart {\n",
              "      --bg-color: #3B4455;\n",
              "      --fill-color: #D2E3FC;\n",
              "      --hover-bg-color: #434B5C;\n",
              "      --hover-fill-color: #FFFFFF;\n",
              "      --disabled-bg-color: #3B4455;\n",
              "      --disabled-fill-color: #666;\n",
              "  }\n",
              "\n",
              "  .colab-df-quickchart {\n",
              "    background-color: var(--bg-color);\n",
              "    border: none;\n",
              "    border-radius: 50%;\n",
              "    cursor: pointer;\n",
              "    display: none;\n",
              "    fill: var(--fill-color);\n",
              "    height: 32px;\n",
              "    padding: 0;\n",
              "    width: 32px;\n",
              "  }\n",
              "\n",
              "  .colab-df-quickchart:hover {\n",
              "    background-color: var(--hover-bg-color);\n",
              "    box-shadow: 0 1px 2px rgba(60, 64, 67, 0.3), 0 1px 3px 1px rgba(60, 64, 67, 0.15);\n",
              "    fill: var(--button-hover-fill-color);\n",
              "  }\n",
              "\n",
              "  .colab-df-quickchart-complete:disabled,\n",
              "  .colab-df-quickchart-complete:disabled:hover {\n",
              "    background-color: var(--disabled-bg-color);\n",
              "    fill: var(--disabled-fill-color);\n",
              "    box-shadow: none;\n",
              "  }\n",
              "\n",
              "  .colab-df-spinner {\n",
              "    border: 2px solid var(--fill-color);\n",
              "    border-color: transparent;\n",
              "    border-bottom-color: var(--fill-color);\n",
              "    animation:\n",
              "      spin 1s steps(1) infinite;\n",
              "  }\n",
              "\n",
              "  @keyframes spin {\n",
              "    0% {\n",
              "      border-color: transparent;\n",
              "      border-bottom-color: var(--fill-color);\n",
              "      border-left-color: var(--fill-color);\n",
              "    }\n",
              "    20% {\n",
              "      border-color: transparent;\n",
              "      border-left-color: var(--fill-color);\n",
              "      border-top-color: var(--fill-color);\n",
              "    }\n",
              "    30% {\n",
              "      border-color: transparent;\n",
              "      border-left-color: var(--fill-color);\n",
              "      border-top-color: var(--fill-color);\n",
              "      border-right-color: var(--fill-color);\n",
              "    }\n",
              "    40% {\n",
              "      border-color: transparent;\n",
              "      border-right-color: var(--fill-color);\n",
              "      border-top-color: var(--fill-color);\n",
              "    }\n",
              "    60% {\n",
              "      border-color: transparent;\n",
              "      border-right-color: var(--fill-color);\n",
              "    }\n",
              "    80% {\n",
              "      border-color: transparent;\n",
              "      border-right-color: var(--fill-color);\n",
              "      border-bottom-color: var(--fill-color);\n",
              "    }\n",
              "    90% {\n",
              "      border-color: transparent;\n",
              "      border-bottom-color: var(--fill-color);\n",
              "    }\n",
              "  }\n",
              "</style>\n",
              "\n",
              "  <script>\n",
              "    async function quickchart(key) {\n",
              "      const quickchartButtonEl =\n",
              "        document.querySelector('#' + key + ' button');\n",
              "      quickchartButtonEl.disabled = true;  // To prevent multiple clicks.\n",
              "      quickchartButtonEl.classList.add('colab-df-spinner');\n",
              "      try {\n",
              "        const charts = await google.colab.kernel.invokeFunction(\n",
              "            'suggestCharts', [key], {});\n",
              "      } catch (error) {\n",
              "        console.error('Error during call to suggestCharts:', error);\n",
              "      }\n",
              "      quickchartButtonEl.classList.remove('colab-df-spinner');\n",
              "      quickchartButtonEl.classList.add('colab-df-quickchart-complete');\n",
              "    }\n",
              "    (() => {\n",
              "      let quickchartButtonEl =\n",
              "        document.querySelector('#df-bc50bc33-f18d-4729-b2e4-3e923c035f2f button');\n",
              "      quickchartButtonEl.style.display =\n",
              "        google.colab.kernel.accessAllowed ? 'block' : 'none';\n",
              "    })();\n",
              "  </script>\n",
              "</div>\n",
              "\n",
              "    </div>\n",
              "  </div>\n"
            ],
            "application/vnd.google.colaboratory.intrinsic+json": {
              "type": "dataframe",
              "summary": "{\n  \"name\": \"df\",\n  \"rows\": 87,\n  \"fields\": [\n    {\n      \"column\": \"time (UTC)\",\n      \"properties\": {\n        \"dtype\": \"date\",\n        \"min\": \"2018-01-01 00:00:00+00:00\",\n        \"max\": \"2025-03-01 00:00:00+00:00\",\n        \"num_unique_values\": 87,\n        \"samples\": [\n          \"2024-05-01 00:00:00+00:00\",\n          \"2018-01-01 00:00:00+00:00\",\n          \"2020-03-01 00:00:00+00:00\"\n        ],\n        \"semantic_type\": \"\",\n        \"description\": \"\"\n      }\n    },\n    {\n      \"column\": \"met\",\n      \"properties\": {\n        \"dtype\": \"number\",\n        \"std\": 310250,\n        \"min\": 2936060,\n        \"max\": 4750008,\n        \"num_unique_values\": 87,\n        \"samples\": [\n          4681396,\n          4302942,\n          4189268\n        ],\n        \"semantic_type\": \"\",\n        \"description\": \"\"\n      }\n    },\n    {\n      \"column\": \"wave\",\n      \"properties\": {\n        \"dtype\": \"number\",\n        \"std\": 65140,\n        \"min\": 110340,\n        \"max\": 393144,\n        \"num_unique_values\": 87,\n        \"samples\": [\n          360162,\n          185918,\n          173360\n        ],\n        \"semantic_type\": \"\",\n        \"description\": \"\"\n      }\n    }\n  ]\n}"
            }
          },
          "metadata": {},
          "execution_count": 20
        }
      ]
    },
    {
      "cell_type": "markdown",
      "source": [
        "## Total number of stations"
      ],
      "metadata": {
        "id": "Le56eL8LpEZV"
      }
    },
    {
      "cell_type": "code",
      "source": [
        "print(len(df.locationID.unique()))\n",
        "\n",
        "print(df.locationID.unique())"
      ],
      "metadata": {
        "id": "Vg2-Pn9NdW56",
        "outputId": "26400e54-4353-4784-abe4-03c2c8902f38",
        "colab": {
          "base_uri": "https://localhost:8080/"
        }
      },
      "execution_count": 21,
      "outputs": [
        {
          "output_type": "stream",
          "name": "stdout",
          "text": [
            "1039\n",
            "['46108' 'AJXA2' 'CDXA2' ... '46236' '42354' 'CXLM2']\n"
          ]
        }
      ]
    },
    {
      "cell_type": "code",
      "source": [
        "260/1039"
      ],
      "metadata": {
        "id": "2CBSmqNJpLP1",
        "outputId": "7ba4f1bb-a663-4f56-fdb7-727a462e249c",
        "colab": {
          "base_uri": "https://localhost:8080/"
        }
      },
      "execution_count": 22,
      "outputs": [
        {
          "output_type": "execute_result",
          "data": {
            "text/plain": [
              "0.2502406159769009"
            ]
          },
          "metadata": {},
          "execution_count": 22
        }
      ]
    },
    {
      "cell_type": "code",
      "source": [
        "df.locationID"
      ],
      "metadata": {
        "id": "m-oa1lgwpr-E",
        "outputId": "e93a25fa-1f75-4d10-ee2c-64c880656304",
        "colab": {
          "base_uri": "https://localhost:8080/",
          "height": 490
        }
      },
      "execution_count": 23,
      "outputs": [
        {
          "output_type": "execute_result",
          "data": {
            "text/plain": [
              "time (UTC)\n",
              "2018-01-01 00:00:00+00:00    46108\n",
              "2018-01-01 00:00:00+00:00    AJXA2\n",
              "2018-01-01 00:00:00+00:00    CDXA2\n",
              "2018-01-01 00:00:00+00:00    ERXA2\n",
              "2018-01-01 00:00:00+00:00    GIXA2\n",
              "                             ...  \n",
              "2025-03-01 00:00:00+00:00    OCSM2\n",
              "2025-03-01 00:00:00+00:00    44097\n",
              "2025-03-01 00:00:00+00:00    FRFN7\n",
              "2025-03-01 00:00:00+00:00    44100\n",
              "2025-03-01 00:00:00+00:00    32012\n",
              "Name: locationID, Length: 74309, dtype: object"
            ],
            "text/html": [
              "<div>\n",
              "<style scoped>\n",
              "    .dataframe tbody tr th:only-of-type {\n",
              "        vertical-align: middle;\n",
              "    }\n",
              "\n",
              "    .dataframe tbody tr th {\n",
              "        vertical-align: top;\n",
              "    }\n",
              "\n",
              "    .dataframe thead th {\n",
              "        text-align: right;\n",
              "    }\n",
              "</style>\n",
              "<table border=\"1\" class=\"dataframe\">\n",
              "  <thead>\n",
              "    <tr style=\"text-align: right;\">\n",
              "      <th></th>\n",
              "      <th>locationID</th>\n",
              "    </tr>\n",
              "    <tr>\n",
              "      <th>time (UTC)</th>\n",
              "      <th></th>\n",
              "    </tr>\n",
              "  </thead>\n",
              "  <tbody>\n",
              "    <tr>\n",
              "      <th>2018-01-01 00:00:00+00:00</th>\n",
              "      <td>46108</td>\n",
              "    </tr>\n",
              "    <tr>\n",
              "      <th>2018-01-01 00:00:00+00:00</th>\n",
              "      <td>AJXA2</td>\n",
              "    </tr>\n",
              "    <tr>\n",
              "      <th>2018-01-01 00:00:00+00:00</th>\n",
              "      <td>CDXA2</td>\n",
              "    </tr>\n",
              "    <tr>\n",
              "      <th>2018-01-01 00:00:00+00:00</th>\n",
              "      <td>ERXA2</td>\n",
              "    </tr>\n",
              "    <tr>\n",
              "      <th>2018-01-01 00:00:00+00:00</th>\n",
              "      <td>GIXA2</td>\n",
              "    </tr>\n",
              "    <tr>\n",
              "      <th>...</th>\n",
              "      <td>...</td>\n",
              "    </tr>\n",
              "    <tr>\n",
              "      <th>2025-03-01 00:00:00+00:00</th>\n",
              "      <td>OCSM2</td>\n",
              "    </tr>\n",
              "    <tr>\n",
              "      <th>2025-03-01 00:00:00+00:00</th>\n",
              "      <td>44097</td>\n",
              "    </tr>\n",
              "    <tr>\n",
              "      <th>2025-03-01 00:00:00+00:00</th>\n",
              "      <td>FRFN7</td>\n",
              "    </tr>\n",
              "    <tr>\n",
              "      <th>2025-03-01 00:00:00+00:00</th>\n",
              "      <td>44100</td>\n",
              "    </tr>\n",
              "    <tr>\n",
              "      <th>2025-03-01 00:00:00+00:00</th>\n",
              "      <td>32012</td>\n",
              "    </tr>\n",
              "  </tbody>\n",
              "</table>\n",
              "<p>74309 rows × 1 columns</p>\n",
              "</div><br><label><b>dtype:</b> object</label>"
            ]
          },
          "metadata": {},
          "execution_count": 23
        }
      ]
    },
    {
      "cell_type": "markdown",
      "source": [
        "\"IOOS contributes the largest number of NOS platforms to the GTS.\" For the latter, we'd need to identify \"NOS\" (not to confuse with an earlier comment in a different issue about defining NOS, in which case I was equating NOS with CO-OPS based on the non-NDBC report labels). In this case,\n",
        "1. NOS = IOOS-regional (all) + non-NDBC (National ocean service, NOAA NOS PORTS, CBIBS, and NERRS.)\n",
        "\n",
        "2. Perhaps add another condition where if there are 0s for stations, then omit from the station count?\n",
        "\n",
        "3. And constrain the station count to only the Calendar Year 2024."
      ],
      "metadata": {
        "id": "OULOJE6QswLN"
      }
    },
    {
      "cell_type": "code",
      "source": [
        "non_ndbc_nos_list = ['CHESAPEAKE BAY INTERPRETIVE BUOY SYSTEM',\n",
        "'NATIONAL ESTUARINE RESEARCH RESERVE SYSTEM',\n",
        "'NATIONAL OCEAN SERVICE',\n",
        "'NOAA NOS PHYSICAL OCEANOGRAPHIC RT SYSTEM PROGRAM']\n",
        "\n",
        "df_non_ndbc = df.loc[df['source']=='non-NDBC']\n",
        "\n",
        "nos = df_non_ndbc[df_non_ndbc['sponsor'].isin(non_ndbc_nos_list)]\n",
        "print('total NOS:',len(nos))\n",
        "condition = (nos['met'] ==0) & (nos['wave']==0)\n",
        "nos = nos[~condition]\n",
        "print('total NOS-empty:',len(nos))\n",
        "\n",
        "\n",
        "ioos = df.loc[df['source']=='IOOS']\n",
        "print('total IOOS:',len(ioos))\n",
        "condition = (ioos['met'] ==0) & (ioos['wave']==0)\n",
        "ioos = ioos[~condition]\n",
        "print('total IOOS-empty:',len(ioos))\n",
        "\n",
        "ioos_platform_count = len(ioos.locationID.unique())\n",
        "nos_platform_count = len(nos.locationID.unique())\n",
        "\n",
        "print(f'{ioos_platform_count} / {nos_platform_count + ioos_platform_count} = **{(ioos_platform_count/(nos_platform_count+ioos_platform_count))*100:.2f}%**')"
      ],
      "metadata": {
        "id": "pvC6itDgqQ5r",
        "outputId": "a6c08b9e-c7ad-41fb-bfb4-77a84fb6a83e",
        "colab": {
          "base_uri": "https://localhost:8080/"
        }
      },
      "execution_count": 61,
      "outputs": [
        {
          "output_type": "stream",
          "name": "stdout",
          "text": [
            "total NOS: 28198\n",
            "total NOS-empty: 25601\n",
            "total IOOS: 15971\n",
            "total IOOS-empty: 12385\n",
            "237 / 575 = **41.22%**\n"
          ]
        }
      ]
    },
    {
      "cell_type": "code",
      "source": [
        "for loc in nos.locationID.unique():\n",
        "  if len(nos.loc[nos['locationID']==loc].source.unique()) >1:\n",
        "    print(loc,nos.loc[nos['locationID']==loc].source.unique())"
      ],
      "metadata": {
        "id": "6XATPDIQhZLq"
      },
      "execution_count": 62,
      "outputs": []
    },
    {
      "cell_type": "code",
      "source": [
        "count = 0\n",
        "for sponsor in non_ndbc_nos_list:\n",
        "  length = len(nos.loc[nos['sponsor']==sponsor].locationID.unique())\n",
        "  print(f'{sponsor}: {length}')\n",
        "  count = count + length\n",
        "\n",
        "print(f'Total = {count}')\n",
        "print(f'Total w/ IOOS = {count+ioos_platform_count}')\n",
        "#len(nos.loc[nos['sponsor']=='CHESAPEAKE BAY INTERPRETIVE BUOY SYSTEM'].locationID.unique())"
      ],
      "metadata": {
        "id": "aVOgWJS78_CC",
        "outputId": "7c8aa39e-8a29-4045-ab99-3eb4e0c0f31d",
        "colab": {
          "base_uri": "https://localhost:8080/"
        }
      },
      "execution_count": 44,
      "outputs": [
        {
          "output_type": "stream",
          "name": "stdout",
          "text": [
            "CHESAPEAKE BAY INTERPRETIVE BUOY SYSTEM: 8\n",
            "NATIONAL ESTUARINE RESEARCH RESERVE SYSTEM: 35\n",
            "NATIONAL OCEAN SERVICE: 283\n",
            "NOAA NOS PHYSICAL OCEANOGRAPHIC RT SYSTEM PROGRAM: 83\n",
            "Total = 409\n",
            "Total w/ IOOS = 646\n"
          ]
        }
      ]
    },
    {
      "cell_type": "code",
      "source": [
        "non_ndbc_nos_list = ['CHESAPEAKE BAY INTERPRETIVE BUOY SYSTEM',\n",
        "'NATIONAL ESTUARINE RESEARCH RESERVE SYSTEM',\n",
        "'NATIONAL OCEAN SERVICE',\n",
        "'NOAA NOS PHYSICAL OCEANOGRAPHIC RT SYSTEM PROGRAM']\n",
        "\n",
        "df_non_ndbc = df.loc[df['source']=='non-NDBC']\n",
        "#print(len(df_non_ndbc))\n",
        "\n",
        "\n",
        "filtered = df_non_ndbc[df_non_ndbc['sponsor'].isin(non_ndbc_nos_list)]\n",
        "print('total NOS:',len(filtered))\n",
        "\n",
        "nos = pd.concat([filtered,df.loc[df['source']=='IOOS']])\n",
        "print('total IOOS:',len(nos.loc[nos['source']=='IOOS']))\n",
        "\n",
        "\n",
        "# drop empty met and wave rows\n",
        "condition = (nos['met'] ==0) & (nos['wave']==0)\n",
        "\n",
        "nos = nos[~condition]\n",
        "print('total IOOS-empty:',len(nos.loc[nos['source']=='IOOS']))\n",
        "print('total NOS-empty:',len(nos.loc[nos['source']!='IOOS']))\n",
        "\n",
        "ioos_platform_count = len(nos.loc[nos['source']=='IOOS'].locationID.unique())\n",
        "nos_platform_count = len(nos.locationID.unique())\n",
        "\n",
        "print(f'{ioos_platform_count} / {nos_platform_count} = **{(ioos_platform_count/nos_platform_count)*100:.2f}%**')"
      ],
      "metadata": {
        "id": "YCJwvcXhYB0Z",
        "outputId": "60a82b72-8d3c-4a82-b843-d50b83881196",
        "colab": {
          "base_uri": "https://localhost:8080/"
        }
      },
      "execution_count": 54,
      "outputs": [
        {
          "output_type": "stream",
          "name": "stdout",
          "text": [
            "total NOS: 28198\n",
            "total IOOS: 15971\n",
            "total IOOS-empty: 12385\n",
            "total NOS-empty: 25601\n",
            "237 / 569 = **41.65%**\n"
          ]
        }
      ]
    },
    {
      "cell_type": "code",
      "source": [
        "for loc in nos.locationID.unique():\n",
        "  if len(nos.loc[nos['locationID']==loc].source.unique()) >1:\n",
        "    print(loc,nos.loc[nos['locationID']==loc].source.unique())"
      ],
      "metadata": {
        "id": "krssnibzdfBc",
        "outputId": "5b1c9fec-21d6-4040-fa09-fee36c7ccdd1",
        "colab": {
          "base_uri": "https://localhost:8080/"
        }
      },
      "execution_count": 60,
      "outputs": [
        {
          "output_type": "stream",
          "name": "stdout",
          "text": [
            "BZST2 ['non-NDBC' 'IOOS']\n",
            "EPTT2 ['non-NDBC' 'IOOS']\n",
            "MGPT2 ['non-NDBC' 'IOOS']\n",
            "TXPT2 ['non-NDBC' 'IOOS']\n",
            "FPST2 ['non-NDBC' 'IOOS']\n",
            "NUET2 ['non-NDBC' 'IOOS']\n"
          ]
        }
      ]
    },
    {
      "cell_type": "code",
      "source": [
        "nos.loc[nos['sponsor']=='NATIONAL OCEAN SERVICE'].source.unique()"
      ],
      "metadata": {
        "id": "r4lBO01PCZIH",
        "outputId": "52bbe28a-59d3-4859-c300-d830912718e0",
        "colab": {
          "base_uri": "https://localhost:8080/"
        }
      },
      "execution_count": 46,
      "outputs": [
        {
          "output_type": "execute_result",
          "data": {
            "text/plain": [
              "array(['non-NDBC'], dtype=object)"
            ]
          },
          "metadata": {},
          "execution_count": 46
        }
      ]
    },
    {
      "cell_type": "code",
      "source": [
        "len(nos.loc[nos['sponsor']=='NATIONAL ESTUARINE RESEARCH RESERVE SYSTEM'].locationID.unique())"
      ],
      "metadata": {
        "id": "WGlkvSiDBF--",
        "outputId": "cde9f2fd-ea26-488d-ad18-64fa03f5b51a",
        "colab": {
          "base_uri": "https://localhost:8080/"
        }
      },
      "execution_count": 27,
      "outputs": [
        {
          "output_type": "execute_result",
          "data": {
            "text/plain": [
              "35"
            ]
          },
          "metadata": {},
          "execution_count": 27
        }
      ]
    },
    {
      "cell_type": "code",
      "source": [
        "len(nos.loc[nos['sponsor']=='NATIONAL OCEAN SERVICE'].locationID.unique())"
      ],
      "metadata": {
        "id": "QW-uGmZvBLM1",
        "outputId": "04ccd718-6e3e-4865-9a42-c10bcca84995",
        "colab": {
          "base_uri": "https://localhost:8080/"
        }
      },
      "execution_count": 28,
      "outputs": [
        {
          "output_type": "execute_result",
          "data": {
            "text/plain": [
              "283"
            ]
          },
          "metadata": {},
          "execution_count": 28
        }
      ]
    },
    {
      "cell_type": "code",
      "source": [
        "len(nos.loc[nos['sponsor']=='NOAA NOS PHYSICAL OCEANOGRAPHIC RT SYSTEM PROGRAM'].locationID.unique())"
      ],
      "metadata": {
        "id": "o0__fXjwBqPk",
        "outputId": "c35411ed-70ab-4a8d-86bb-ee342c8b65ad",
        "colab": {
          "base_uri": "https://localhost:8080/"
        }
      },
      "execution_count": 29,
      "outputs": [
        {
          "output_type": "execute_result",
          "data": {
            "text/plain": [
              "83"
            ]
          },
          "metadata": {},
          "execution_count": 29
        }
      ]
    },
    {
      "cell_type": "code",
      "source": [
        "df.loc[df['source']=='non-NDBC'].sponsor.unique()"
      ],
      "metadata": {
        "id": "ZnC80pQPtPPJ",
        "outputId": "3683496c-e88e-4924-d313-33b2c73b1310",
        "colab": {
          "base_uri": "https://localhost:8080/"
        }
      },
      "execution_count": 30,
      "outputs": [
        {
          "output_type": "execute_result",
          "data": {
            "text/plain": [
              "array([nan, 'BP INC.', 'EPA & MEXICAN GOVERNMENT COOPERATIVE PROGRAM',\n",
              "       'CHESAPEAKE BAY INTERPRETIVE BUOY SYSTEM',\n",
              "       'SCRIPPS WAVERIDER COASTAL DATA INFORMATION PROGRAM',\n",
              "       'EVERGLADES NATIONAL PARK', 'GREAT LAKES RESEARCH LABORATORY',\n",
              "       'INTEGRATED CORAL OBSERVING NETWORK',\n",
              "       'LOUISIANA OFFSHORE OIL PORT', 'MOSS LANDING MARINE LABORATORIES',\n",
              "       'NATIONAL ESTUARINE RESEARCH RESERVE SYSTEM',\n",
              "       'NATIONAL OCEAN SERVICE',\n",
              "       'NATIONAL PARK SERVICE - LAKE MEAD NATIONAL REC AREA',\n",
              "       'NATIONAL RENEWABLE ENERGY LABORATORY',\n",
              "       'NATIONAL WEATHER SERVICE, ALASKA REGION',\n",
              "       'NATIONAL WEATHER SERVICE, CENTRAL REGION',\n",
              "       'NATIONAL WEATHER SERVICE, EASTERN REGION',\n",
              "       'OCEAN OBSERVATORIES INITIATIVE', 'PETROBRAS', 'SHELL OIL',\n",
              "       'U.S. ARMY CORPS OF ENGINEERS',\n",
              "       'WOODS HOLE OCEANOGRAPHIC INSTITUTION', 'VERMONT EPSCOR',\n",
              "       'NATIONAL PARK SERVICES - SLEEPING BEAR DUNES',\n",
              "       'ALASKA OCEAN OBSERVING SYSTEM',\n",
              "       'SUNY PLATTSBURGH CEES / LAKE CHAMPLAIN RESEARCH INST.',\n",
              "       'UNIVERSITY OF ILLINOIS AT URBANA-CHAMPAGNE',\n",
              "       'MARINE EXCHANGE OF ALASKA',\n",
              "       'TEXAS COASTAL OCEAN OBSERVATION NETWORK', 'LIMNOTECH',\n",
              "       'USF COMPS MARINE NETWORK', 'MURPHY OIL CORP.',\n",
              "       'UNIVERSITY OF NEW HAMPSHIRE', 'STONY BROOK UNIVERSITY',\n",
              "       'NOAA NOS PHYSICAL OCEANOGRAPHIC RT SYSTEM PROGRAM',\n",
              "       'COASTAL OCEAN RESEARCH AND MONITORING PROGRAM', 'U.S. NAVY',\n",
              "       'UNIVERSITY OF NORTH CAROLINA COASTAL STUDIES',\n",
              "       'U. S. COAST GUARD',\n",
              "       'CARIBBEAN INTEGRATED COASTAL OCEAN OBSERVING SYSTEM',\n",
              "       'UNIVERSITY OF WISCONSIN AT MILWAUKEE',\n",
              "       'ILLINOIS-INDIANA SEA GRANT',\n",
              "       'COASTAL DATA INFORMATION PROGRAM/PMEL',\n",
              "       'GREAT LAKES WATER AUTHORITY', 'CLEVELAND WATER ALLIANCE',\n",
              "       'MICHIGAN TECHNICAL UNIVERSITY',\n",
              "       'COASTAL DATA INFORMATION PROGRAM/AOOS',\n",
              "       'UNIVERSITY OF MINNESOTA AT DULUTH', 'OREGON STATE'], dtype=object)"
            ]
          },
          "metadata": {},
          "execution_count": 30
        }
      ]
    },
    {
      "cell_type": "code",
      "source": [
        "df_ioos = df.loc[(df['source']=='IOOS')]\n",
        "\n",
        "condition = (df_ioos['met'] ==0) & (df_ioos['wave']==0)\n",
        "\n",
        "len(df_ioos[~condition].locationID.unique())"
      ],
      "metadata": {
        "id": "FQKtGUQxufJJ",
        "outputId": "c2320350-bce5-497a-be8e-1afd2c276b35",
        "colab": {
          "base_uri": "https://localhost:8080/"
        }
      },
      "execution_count": 31,
      "outputs": [
        {
          "output_type": "execute_result",
          "data": {
            "text/plain": [
              "237"
            ]
          },
          "metadata": {},
          "execution_count": 31
        }
      ]
    },
    {
      "cell_type": "code",
      "source": [
        "df.locationID.unique()\n",
        "\n",
        "condition = (df['met'] ==0) & (df['wave']==0)\n",
        "\n",
        "len(df[~condition].locationID.unique())"
      ],
      "metadata": {
        "id": "3PLbjUcN3mWe",
        "outputId": "420f6a72-8cce-4ae0-cd08-9f994cc33655",
        "colab": {
          "base_uri": "https://localhost:8080/"
        }
      },
      "execution_count": 32,
      "outputs": [
        {
          "output_type": "execute_result",
          "data": {
            "text/plain": [
              "975"
            ]
          },
          "metadata": {},
          "execution_count": 32
        }
      ]
    },
    {
      "cell_type": "code",
      "source": [
        "(237/975) * 100"
      ],
      "metadata": {
        "id": "fvFBqVrE6t02",
        "outputId": "09b1fa35-590f-4b2f-f71f-977886afabda",
        "colab": {
          "base_uri": "https://localhost:8080/"
        }
      },
      "execution_count": 33,
      "outputs": [
        {
          "output_type": "execute_result",
          "data": {
            "text/plain": [
              "24.307692307692307"
            ]
          },
          "metadata": {},
          "execution_count": 33
        }
      ]
    },
    {
      "cell_type": "code",
      "source": [],
      "metadata": {
        "id": "UjhfYofL7zzW"
      },
      "execution_count": 33,
      "outputs": []
    }
  ]
}