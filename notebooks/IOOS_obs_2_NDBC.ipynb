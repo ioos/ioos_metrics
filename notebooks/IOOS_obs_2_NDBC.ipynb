{
  "nbformat": 4,
  "nbformat_minor": 0,
  "metadata": {
    "colab": {
      "provenance": [],
      "authorship_tag": "ABX9TyNgeVGV9316wLIH2dnj5Odq",
      "include_colab_link": true
    },
    "kernelspec": {
      "name": "python3",
      "display_name": "Python 3"
    },
    "language_info": {
      "name": "python"
    }
  },
  "cells": [
    {
      "cell_type": "markdown",
      "metadata": {
        "id": "view-in-github",
        "colab_type": "text"
      },
      "source": [
        "<a href=\"https://colab.research.google.com/github/MathewBiddle/ioos_metrics/blob/yearly_ra_gts/notebooks/IOOS_obs_2_NDBC.ipynb\" target=\"_parent\"><img src=\"https://colab.research.google.com/assets/colab-badge.svg\" alt=\"Open In Colab\"/></a>"
      ]
    },
    {
      "cell_type": "code",
      "source": [
        "!pip install erddapy"
      ],
      "metadata": {
        "colab": {
          "base_uri": "https://localhost:8080/"
        },
        "id": "TsqgKMtJ5rkP",
        "outputId": "06cb4774-e523-4b0e-882e-f5dd0fbc231b"
      },
      "execution_count": 1,
      "outputs": [
        {
          "output_type": "stream",
          "name": "stdout",
          "text": [
            "Collecting erddapy\n",
            "  Downloading erddapy-2.2.4-py3-none-any.whl.metadata (6.7 kB)\n",
            "Requirement already satisfied: httpx>=0.25.0 in /usr/local/lib/python3.11/dist-packages (from erddapy) (0.28.1)\n",
            "Requirement already satisfied: pandas<3,>=0.25.2 in /usr/local/lib/python3.11/dist-packages (from erddapy) (2.2.2)\n",
            "Requirement already satisfied: pytz in /usr/local/lib/python3.11/dist-packages (from erddapy) (2025.2)\n",
            "Requirement already satisfied: anyio in /usr/local/lib/python3.11/dist-packages (from httpx>=0.25.0->erddapy) (4.9.0)\n",
            "Requirement already satisfied: certifi in /usr/local/lib/python3.11/dist-packages (from httpx>=0.25.0->erddapy) (2025.4.26)\n",
            "Requirement already satisfied: httpcore==1.* in /usr/local/lib/python3.11/dist-packages (from httpx>=0.25.0->erddapy) (1.0.9)\n",
            "Requirement already satisfied: idna in /usr/local/lib/python3.11/dist-packages (from httpx>=0.25.0->erddapy) (3.10)\n",
            "Requirement already satisfied: h11>=0.16 in /usr/local/lib/python3.11/dist-packages (from httpcore==1.*->httpx>=0.25.0->erddapy) (0.16.0)\n",
            "Requirement already satisfied: numpy>=1.23.2 in /usr/local/lib/python3.11/dist-packages (from pandas<3,>=0.25.2->erddapy) (2.0.2)\n",
            "Requirement already satisfied: python-dateutil>=2.8.2 in /usr/local/lib/python3.11/dist-packages (from pandas<3,>=0.25.2->erddapy) (2.9.0.post0)\n",
            "Requirement already satisfied: tzdata>=2022.7 in /usr/local/lib/python3.11/dist-packages (from pandas<3,>=0.25.2->erddapy) (2025.2)\n",
            "Requirement already satisfied: six>=1.5 in /usr/local/lib/python3.11/dist-packages (from python-dateutil>=2.8.2->pandas<3,>=0.25.2->erddapy) (1.17.0)\n",
            "Requirement already satisfied: sniffio>=1.1 in /usr/local/lib/python3.11/dist-packages (from anyio->httpx>=0.25.0->erddapy) (1.3.1)\n",
            "Requirement already satisfied: typing_extensions>=4.5 in /usr/local/lib/python3.11/dist-packages (from anyio->httpx>=0.25.0->erddapy) (4.13.2)\n",
            "Downloading erddapy-2.2.4-py3-none-any.whl (24 kB)\n",
            "Installing collected packages: erddapy\n",
            "Successfully installed erddapy-2.2.4\n"
          ]
        }
      ]
    },
    {
      "cell_type": "code",
      "source": [
        "import pandas as pd\n",
        "from erddapy import ERDDAP"
      ],
      "metadata": {
        "id": "3afSRocv5ywD"
      },
      "execution_count": 2,
      "outputs": []
    },
    {
      "cell_type": "markdown",
      "source": [
        "# Function to grab the data."
      ],
      "metadata": {
        "id": "Nl3phwQ0-9CY"
      }
    },
    {
      "cell_type": "code",
      "source": [
        "def get_ndbc_full_stats():\n",
        "    e = ERDDAP(\n",
        "        server=\"https://erddap.ioos.us/erddap\",\n",
        "        protocol=\"tabledap\",\n",
        "    )\n",
        "    e.response = \"csv\"\n",
        "    dsets = {\"IOOS\": \"gts_regional_statistics\",\n",
        "             \"NDBC\": \"gts_ndbc_statistics\",\n",
        "             \"non-NDBC\": \"gts_non_ndbc_statistics\"}\n",
        "    df_out = pd.DataFrame()\n",
        "    for key, value in dsets.items():\n",
        "        e.dataset_id = value\n",
        "        df = e.to_pandas(\n",
        "            index_col=\"time (UTC)\",\n",
        "            parse_dates=True\n",
        "        )\n",
        "        df[\"source\"] = key\n",
        "        df_out = pd.concat([df_out,df])\n",
        "    return df_out"
      ],
      "metadata": {
        "id": "jdZ21kc15nnB"
      },
      "execution_count": 3,
      "outputs": []
    },
    {
      "cell_type": "markdown",
      "source": [
        "# Go get the data and return the dataframe"
      ],
      "metadata": {
        "id": "_nJORFlv-_5D"
      }
    },
    {
      "cell_type": "code",
      "source": [
        "df = get_ndbc_full_stats()\n",
        "\n",
        "df['total'] = df['met'] + df['wave']\n",
        "\n",
        "df"
      ],
      "metadata": {
        "colab": {
          "base_uri": "https://localhost:8080/",
          "height": 455
        },
        "id": "zHHsvGRi6Srv",
        "outputId": "7eaaf5a8-9ffd-44f7-eab4-0831ea16e036"
      },
      "execution_count": 4,
      "outputs": [
        {
          "output_type": "execute_result",
          "data": {
            "text/plain": [
              "                           Year  Month locationID region  \\\n",
              "time (UTC)                                                 \n",
              "2018-01-01 00:00:00+00:00  2018      1      46108   AOOS   \n",
              "2018-01-01 00:00:00+00:00  2018      1      AJXA2   AOOS   \n",
              "2018-01-01 00:00:00+00:00  2018      1      CDXA2   AOOS   \n",
              "2018-01-01 00:00:00+00:00  2018      1      ERXA2   AOOS   \n",
              "2018-01-01 00:00:00+00:00  2018      1      GIXA2   AOOS   \n",
              "...                         ...    ...        ...    ...   \n",
              "2025-04-01 00:00:00+00:00  2025      4      OCSM2    NaN   \n",
              "2025-04-01 00:00:00+00:00  2025      4      44097    NaN   \n",
              "2025-04-01 00:00:00+00:00  2025      4      FRFN7    NaN   \n",
              "2025-04-01 00:00:00+00:00  2025      4      44100    NaN   \n",
              "2025-04-01 00:00:00+00:00  2025      4      32012    NaN   \n",
              "\n",
              "                                                        sponsor   met  wave  \\\n",
              "time (UTC)                                                                    \n",
              "2018-01-01 00:00:00+00:00         ALASKA OCEAN OBSERVING SYSTEM     0  2592   \n",
              "2018-01-01 00:00:00+00:00             MARINE EXCHANGE OF ALASKA  8796     0   \n",
              "2018-01-01 00:00:00+00:00             MARINE EXCHANGE OF ALASKA  4782     0   \n",
              "2018-01-01 00:00:00+00:00             MARINE EXCHANGE OF ALASKA  5634     0   \n",
              "2018-01-01 00:00:00+00:00             MARINE EXCHANGE OF ALASKA  8798     0   \n",
              "...                                                         ...   ...   ...   \n",
              "2025-04-01 00:00:00+00:00          U.S. ARMY CORPS OF ENGINEERS     0     0   \n",
              "2025-04-01 00:00:00+00:00          U.S. ARMY CORPS OF ENGINEERS     0  2878   \n",
              "2025-04-01 00:00:00+00:00          U.S. ARMY CORPS OF ENGINEERS     0     0   \n",
              "2025-04-01 00:00:00+00:00          U.S. ARMY CORPS OF ENGINEERS     0  2874   \n",
              "2025-04-01 00:00:00+00:00  WOODS HOLE OCEANOGRAPHIC INSTITUTION     0     0   \n",
              "\n",
              "                             source  total  \n",
              "time (UTC)                                  \n",
              "2018-01-01 00:00:00+00:00      IOOS   2592  \n",
              "2018-01-01 00:00:00+00:00      IOOS   8796  \n",
              "2018-01-01 00:00:00+00:00      IOOS   4782  \n",
              "2018-01-01 00:00:00+00:00      IOOS   5634  \n",
              "2018-01-01 00:00:00+00:00      IOOS   8798  \n",
              "...                             ...    ...  \n",
              "2025-04-01 00:00:00+00:00  non-NDBC      0  \n",
              "2025-04-01 00:00:00+00:00  non-NDBC   2878  \n",
              "2025-04-01 00:00:00+00:00  non-NDBC      0  \n",
              "2025-04-01 00:00:00+00:00  non-NDBC   2874  \n",
              "2025-04-01 00:00:00+00:00  non-NDBC      0  \n",
              "\n",
              "[75199 rows x 9 columns]"
            ],
            "text/html": [
              "\n",
              "  <div id=\"df-e5740d5a-adaf-425d-9a3f-a6d31b2ac2f9\" class=\"colab-df-container\">\n",
              "    <div>\n",
              "<style scoped>\n",
              "    .dataframe tbody tr th:only-of-type {\n",
              "        vertical-align: middle;\n",
              "    }\n",
              "\n",
              "    .dataframe tbody tr th {\n",
              "        vertical-align: top;\n",
              "    }\n",
              "\n",
              "    .dataframe thead th {\n",
              "        text-align: right;\n",
              "    }\n",
              "</style>\n",
              "<table border=\"1\" class=\"dataframe\">\n",
              "  <thead>\n",
              "    <tr style=\"text-align: right;\">\n",
              "      <th></th>\n",
              "      <th>Year</th>\n",
              "      <th>Month</th>\n",
              "      <th>locationID</th>\n",
              "      <th>region</th>\n",
              "      <th>sponsor</th>\n",
              "      <th>met</th>\n",
              "      <th>wave</th>\n",
              "      <th>source</th>\n",
              "      <th>total</th>\n",
              "    </tr>\n",
              "    <tr>\n",
              "      <th>time (UTC)</th>\n",
              "      <th></th>\n",
              "      <th></th>\n",
              "      <th></th>\n",
              "      <th></th>\n",
              "      <th></th>\n",
              "      <th></th>\n",
              "      <th></th>\n",
              "      <th></th>\n",
              "      <th></th>\n",
              "    </tr>\n",
              "  </thead>\n",
              "  <tbody>\n",
              "    <tr>\n",
              "      <th>2018-01-01 00:00:00+00:00</th>\n",
              "      <td>2018</td>\n",
              "      <td>1</td>\n",
              "      <td>46108</td>\n",
              "      <td>AOOS</td>\n",
              "      <td>ALASKA OCEAN OBSERVING SYSTEM</td>\n",
              "      <td>0</td>\n",
              "      <td>2592</td>\n",
              "      <td>IOOS</td>\n",
              "      <td>2592</td>\n",
              "    </tr>\n",
              "    <tr>\n",
              "      <th>2018-01-01 00:00:00+00:00</th>\n",
              "      <td>2018</td>\n",
              "      <td>1</td>\n",
              "      <td>AJXA2</td>\n",
              "      <td>AOOS</td>\n",
              "      <td>MARINE EXCHANGE OF ALASKA</td>\n",
              "      <td>8796</td>\n",
              "      <td>0</td>\n",
              "      <td>IOOS</td>\n",
              "      <td>8796</td>\n",
              "    </tr>\n",
              "    <tr>\n",
              "      <th>2018-01-01 00:00:00+00:00</th>\n",
              "      <td>2018</td>\n",
              "      <td>1</td>\n",
              "      <td>CDXA2</td>\n",
              "      <td>AOOS</td>\n",
              "      <td>MARINE EXCHANGE OF ALASKA</td>\n",
              "      <td>4782</td>\n",
              "      <td>0</td>\n",
              "      <td>IOOS</td>\n",
              "      <td>4782</td>\n",
              "    </tr>\n",
              "    <tr>\n",
              "      <th>2018-01-01 00:00:00+00:00</th>\n",
              "      <td>2018</td>\n",
              "      <td>1</td>\n",
              "      <td>ERXA2</td>\n",
              "      <td>AOOS</td>\n",
              "      <td>MARINE EXCHANGE OF ALASKA</td>\n",
              "      <td>5634</td>\n",
              "      <td>0</td>\n",
              "      <td>IOOS</td>\n",
              "      <td>5634</td>\n",
              "    </tr>\n",
              "    <tr>\n",
              "      <th>2018-01-01 00:00:00+00:00</th>\n",
              "      <td>2018</td>\n",
              "      <td>1</td>\n",
              "      <td>GIXA2</td>\n",
              "      <td>AOOS</td>\n",
              "      <td>MARINE EXCHANGE OF ALASKA</td>\n",
              "      <td>8798</td>\n",
              "      <td>0</td>\n",
              "      <td>IOOS</td>\n",
              "      <td>8798</td>\n",
              "    </tr>\n",
              "    <tr>\n",
              "      <th>...</th>\n",
              "      <td>...</td>\n",
              "      <td>...</td>\n",
              "      <td>...</td>\n",
              "      <td>...</td>\n",
              "      <td>...</td>\n",
              "      <td>...</td>\n",
              "      <td>...</td>\n",
              "      <td>...</td>\n",
              "      <td>...</td>\n",
              "    </tr>\n",
              "    <tr>\n",
              "      <th>2025-04-01 00:00:00+00:00</th>\n",
              "      <td>2025</td>\n",
              "      <td>4</td>\n",
              "      <td>OCSM2</td>\n",
              "      <td>NaN</td>\n",
              "      <td>U.S. ARMY CORPS OF ENGINEERS</td>\n",
              "      <td>0</td>\n",
              "      <td>0</td>\n",
              "      <td>non-NDBC</td>\n",
              "      <td>0</td>\n",
              "    </tr>\n",
              "    <tr>\n",
              "      <th>2025-04-01 00:00:00+00:00</th>\n",
              "      <td>2025</td>\n",
              "      <td>4</td>\n",
              "      <td>44097</td>\n",
              "      <td>NaN</td>\n",
              "      <td>U.S. ARMY CORPS OF ENGINEERS</td>\n",
              "      <td>0</td>\n",
              "      <td>2878</td>\n",
              "      <td>non-NDBC</td>\n",
              "      <td>2878</td>\n",
              "    </tr>\n",
              "    <tr>\n",
              "      <th>2025-04-01 00:00:00+00:00</th>\n",
              "      <td>2025</td>\n",
              "      <td>4</td>\n",
              "      <td>FRFN7</td>\n",
              "      <td>NaN</td>\n",
              "      <td>U.S. ARMY CORPS OF ENGINEERS</td>\n",
              "      <td>0</td>\n",
              "      <td>0</td>\n",
              "      <td>non-NDBC</td>\n",
              "      <td>0</td>\n",
              "    </tr>\n",
              "    <tr>\n",
              "      <th>2025-04-01 00:00:00+00:00</th>\n",
              "      <td>2025</td>\n",
              "      <td>4</td>\n",
              "      <td>44100</td>\n",
              "      <td>NaN</td>\n",
              "      <td>U.S. ARMY CORPS OF ENGINEERS</td>\n",
              "      <td>0</td>\n",
              "      <td>2874</td>\n",
              "      <td>non-NDBC</td>\n",
              "      <td>2874</td>\n",
              "    </tr>\n",
              "    <tr>\n",
              "      <th>2025-04-01 00:00:00+00:00</th>\n",
              "      <td>2025</td>\n",
              "      <td>4</td>\n",
              "      <td>32012</td>\n",
              "      <td>NaN</td>\n",
              "      <td>WOODS HOLE OCEANOGRAPHIC INSTITUTION</td>\n",
              "      <td>0</td>\n",
              "      <td>0</td>\n",
              "      <td>non-NDBC</td>\n",
              "      <td>0</td>\n",
              "    </tr>\n",
              "  </tbody>\n",
              "</table>\n",
              "<p>75199 rows × 9 columns</p>\n",
              "</div>\n",
              "    <div class=\"colab-df-buttons\">\n",
              "\n",
              "  <div class=\"colab-df-container\">\n",
              "    <button class=\"colab-df-convert\" onclick=\"convertToInteractive('df-e5740d5a-adaf-425d-9a3f-a6d31b2ac2f9')\"\n",
              "            title=\"Convert this dataframe to an interactive table.\"\n",
              "            style=\"display:none;\">\n",
              "\n",
              "  <svg xmlns=\"http://www.w3.org/2000/svg\" height=\"24px\" viewBox=\"0 -960 960 960\">\n",
              "    <path d=\"M120-120v-720h720v720H120Zm60-500h600v-160H180v160Zm220 220h160v-160H400v160Zm0 220h160v-160H400v160ZM180-400h160v-160H180v160Zm440 0h160v-160H620v160ZM180-180h160v-160H180v160Zm440 0h160v-160H620v160Z\"/>\n",
              "  </svg>\n",
              "    </button>\n",
              "\n",
              "  <style>\n",
              "    .colab-df-container {\n",
              "      display:flex;\n",
              "      gap: 12px;\n",
              "    }\n",
              "\n",
              "    .colab-df-convert {\n",
              "      background-color: #E8F0FE;\n",
              "      border: none;\n",
              "      border-radius: 50%;\n",
              "      cursor: pointer;\n",
              "      display: none;\n",
              "      fill: #1967D2;\n",
              "      height: 32px;\n",
              "      padding: 0 0 0 0;\n",
              "      width: 32px;\n",
              "    }\n",
              "\n",
              "    .colab-df-convert:hover {\n",
              "      background-color: #E2EBFA;\n",
              "      box-shadow: 0px 1px 2px rgba(60, 64, 67, 0.3), 0px 1px 3px 1px rgba(60, 64, 67, 0.15);\n",
              "      fill: #174EA6;\n",
              "    }\n",
              "\n",
              "    .colab-df-buttons div {\n",
              "      margin-bottom: 4px;\n",
              "    }\n",
              "\n",
              "    [theme=dark] .colab-df-convert {\n",
              "      background-color: #3B4455;\n",
              "      fill: #D2E3FC;\n",
              "    }\n",
              "\n",
              "    [theme=dark] .colab-df-convert:hover {\n",
              "      background-color: #434B5C;\n",
              "      box-shadow: 0px 1px 3px 1px rgba(0, 0, 0, 0.15);\n",
              "      filter: drop-shadow(0px 1px 2px rgba(0, 0, 0, 0.3));\n",
              "      fill: #FFFFFF;\n",
              "    }\n",
              "  </style>\n",
              "\n",
              "    <script>\n",
              "      const buttonEl =\n",
              "        document.querySelector('#df-e5740d5a-adaf-425d-9a3f-a6d31b2ac2f9 button.colab-df-convert');\n",
              "      buttonEl.style.display =\n",
              "        google.colab.kernel.accessAllowed ? 'block' : 'none';\n",
              "\n",
              "      async function convertToInteractive(key) {\n",
              "        const element = document.querySelector('#df-e5740d5a-adaf-425d-9a3f-a6d31b2ac2f9');\n",
              "        const dataTable =\n",
              "          await google.colab.kernel.invokeFunction('convertToInteractive',\n",
              "                                                    [key], {});\n",
              "        if (!dataTable) return;\n",
              "\n",
              "        const docLinkHtml = 'Like what you see? Visit the ' +\n",
              "          '<a target=\"_blank\" href=https://colab.research.google.com/notebooks/data_table.ipynb>data table notebook</a>'\n",
              "          + ' to learn more about interactive tables.';\n",
              "        element.innerHTML = '';\n",
              "        dataTable['output_type'] = 'display_data';\n",
              "        await google.colab.output.renderOutput(dataTable, element);\n",
              "        const docLink = document.createElement('div');\n",
              "        docLink.innerHTML = docLinkHtml;\n",
              "        element.appendChild(docLink);\n",
              "      }\n",
              "    </script>\n",
              "  </div>\n",
              "\n",
              "\n",
              "    <div id=\"df-c2027c6e-5f19-4bb1-8230-7fa6dd850975\">\n",
              "      <button class=\"colab-df-quickchart\" onclick=\"quickchart('df-c2027c6e-5f19-4bb1-8230-7fa6dd850975')\"\n",
              "                title=\"Suggest charts\"\n",
              "                style=\"display:none;\">\n",
              "\n",
              "<svg xmlns=\"http://www.w3.org/2000/svg\" height=\"24px\"viewBox=\"0 0 24 24\"\n",
              "     width=\"24px\">\n",
              "    <g>\n",
              "        <path d=\"M19 3H5c-1.1 0-2 .9-2 2v14c0 1.1.9 2 2 2h14c1.1 0 2-.9 2-2V5c0-1.1-.9-2-2-2zM9 17H7v-7h2v7zm4 0h-2V7h2v10zm4 0h-2v-4h2v4z\"/>\n",
              "    </g>\n",
              "</svg>\n",
              "      </button>\n",
              "\n",
              "<style>\n",
              "  .colab-df-quickchart {\n",
              "      --bg-color: #E8F0FE;\n",
              "      --fill-color: #1967D2;\n",
              "      --hover-bg-color: #E2EBFA;\n",
              "      --hover-fill-color: #174EA6;\n",
              "      --disabled-fill-color: #AAA;\n",
              "      --disabled-bg-color: #DDD;\n",
              "  }\n",
              "\n",
              "  [theme=dark] .colab-df-quickchart {\n",
              "      --bg-color: #3B4455;\n",
              "      --fill-color: #D2E3FC;\n",
              "      --hover-bg-color: #434B5C;\n",
              "      --hover-fill-color: #FFFFFF;\n",
              "      --disabled-bg-color: #3B4455;\n",
              "      --disabled-fill-color: #666;\n",
              "  }\n",
              "\n",
              "  .colab-df-quickchart {\n",
              "    background-color: var(--bg-color);\n",
              "    border: none;\n",
              "    border-radius: 50%;\n",
              "    cursor: pointer;\n",
              "    display: none;\n",
              "    fill: var(--fill-color);\n",
              "    height: 32px;\n",
              "    padding: 0;\n",
              "    width: 32px;\n",
              "  }\n",
              "\n",
              "  .colab-df-quickchart:hover {\n",
              "    background-color: var(--hover-bg-color);\n",
              "    box-shadow: 0 1px 2px rgba(60, 64, 67, 0.3), 0 1px 3px 1px rgba(60, 64, 67, 0.15);\n",
              "    fill: var(--button-hover-fill-color);\n",
              "  }\n",
              "\n",
              "  .colab-df-quickchart-complete:disabled,\n",
              "  .colab-df-quickchart-complete:disabled:hover {\n",
              "    background-color: var(--disabled-bg-color);\n",
              "    fill: var(--disabled-fill-color);\n",
              "    box-shadow: none;\n",
              "  }\n",
              "\n",
              "  .colab-df-spinner {\n",
              "    border: 2px solid var(--fill-color);\n",
              "    border-color: transparent;\n",
              "    border-bottom-color: var(--fill-color);\n",
              "    animation:\n",
              "      spin 1s steps(1) infinite;\n",
              "  }\n",
              "\n",
              "  @keyframes spin {\n",
              "    0% {\n",
              "      border-color: transparent;\n",
              "      border-bottom-color: var(--fill-color);\n",
              "      border-left-color: var(--fill-color);\n",
              "    }\n",
              "    20% {\n",
              "      border-color: transparent;\n",
              "      border-left-color: var(--fill-color);\n",
              "      border-top-color: var(--fill-color);\n",
              "    }\n",
              "    30% {\n",
              "      border-color: transparent;\n",
              "      border-left-color: var(--fill-color);\n",
              "      border-top-color: var(--fill-color);\n",
              "      border-right-color: var(--fill-color);\n",
              "    }\n",
              "    40% {\n",
              "      border-color: transparent;\n",
              "      border-right-color: var(--fill-color);\n",
              "      border-top-color: var(--fill-color);\n",
              "    }\n",
              "    60% {\n",
              "      border-color: transparent;\n",
              "      border-right-color: var(--fill-color);\n",
              "    }\n",
              "    80% {\n",
              "      border-color: transparent;\n",
              "      border-right-color: var(--fill-color);\n",
              "      border-bottom-color: var(--fill-color);\n",
              "    }\n",
              "    90% {\n",
              "      border-color: transparent;\n",
              "      border-bottom-color: var(--fill-color);\n",
              "    }\n",
              "  }\n",
              "</style>\n",
              "\n",
              "      <script>\n",
              "        async function quickchart(key) {\n",
              "          const quickchartButtonEl =\n",
              "            document.querySelector('#' + key + ' button');\n",
              "          quickchartButtonEl.disabled = true;  // To prevent multiple clicks.\n",
              "          quickchartButtonEl.classList.add('colab-df-spinner');\n",
              "          try {\n",
              "            const charts = await google.colab.kernel.invokeFunction(\n",
              "                'suggestCharts', [key], {});\n",
              "          } catch (error) {\n",
              "            console.error('Error during call to suggestCharts:', error);\n",
              "          }\n",
              "          quickchartButtonEl.classList.remove('colab-df-spinner');\n",
              "          quickchartButtonEl.classList.add('colab-df-quickchart-complete');\n",
              "        }\n",
              "        (() => {\n",
              "          let quickchartButtonEl =\n",
              "            document.querySelector('#df-c2027c6e-5f19-4bb1-8230-7fa6dd850975 button');\n",
              "          quickchartButtonEl.style.display =\n",
              "            google.colab.kernel.accessAllowed ? 'block' : 'none';\n",
              "        })();\n",
              "      </script>\n",
              "    </div>\n",
              "\n",
              "  <div id=\"id_dbe28ad9-3fdf-4274-830b-818ed80afb18\">\n",
              "    <style>\n",
              "      .colab-df-generate {\n",
              "        background-color: #E8F0FE;\n",
              "        border: none;\n",
              "        border-radius: 50%;\n",
              "        cursor: pointer;\n",
              "        display: none;\n",
              "        fill: #1967D2;\n",
              "        height: 32px;\n",
              "        padding: 0 0 0 0;\n",
              "        width: 32px;\n",
              "      }\n",
              "\n",
              "      .colab-df-generate:hover {\n",
              "        background-color: #E2EBFA;\n",
              "        box-shadow: 0px 1px 2px rgba(60, 64, 67, 0.3), 0px 1px 3px 1px rgba(60, 64, 67, 0.15);\n",
              "        fill: #174EA6;\n",
              "      }\n",
              "\n",
              "      [theme=dark] .colab-df-generate {\n",
              "        background-color: #3B4455;\n",
              "        fill: #D2E3FC;\n",
              "      }\n",
              "\n",
              "      [theme=dark] .colab-df-generate:hover {\n",
              "        background-color: #434B5C;\n",
              "        box-shadow: 0px 1px 3px 1px rgba(0, 0, 0, 0.15);\n",
              "        filter: drop-shadow(0px 1px 2px rgba(0, 0, 0, 0.3));\n",
              "        fill: #FFFFFF;\n",
              "      }\n",
              "    </style>\n",
              "    <button class=\"colab-df-generate\" onclick=\"generateWithVariable('df')\"\n",
              "            title=\"Generate code using this dataframe.\"\n",
              "            style=\"display:none;\">\n",
              "\n",
              "  <svg xmlns=\"http://www.w3.org/2000/svg\" height=\"24px\"viewBox=\"0 0 24 24\"\n",
              "       width=\"24px\">\n",
              "    <path d=\"M7,19H8.4L18.45,9,17,7.55,7,17.6ZM5,21V16.75L18.45,3.32a2,2,0,0,1,2.83,0l1.4,1.43a1.91,1.91,0,0,1,.58,1.4,1.91,1.91,0,0,1-.58,1.4L9.25,21ZM18.45,9,17,7.55Zm-12,3A5.31,5.31,0,0,0,4.9,8.1,5.31,5.31,0,0,0,1,6.5,5.31,5.31,0,0,0,4.9,4.9,5.31,5.31,0,0,0,6.5,1,5.31,5.31,0,0,0,8.1,4.9,5.31,5.31,0,0,0,12,6.5,5.46,5.46,0,0,0,6.5,12Z\"/>\n",
              "  </svg>\n",
              "    </button>\n",
              "    <script>\n",
              "      (() => {\n",
              "      const buttonEl =\n",
              "        document.querySelector('#id_dbe28ad9-3fdf-4274-830b-818ed80afb18 button.colab-df-generate');\n",
              "      buttonEl.style.display =\n",
              "        google.colab.kernel.accessAllowed ? 'block' : 'none';\n",
              "\n",
              "      buttonEl.onclick = () => {\n",
              "        google.colab.notebook.generateWithVariable('df');\n",
              "      }\n",
              "      })();\n",
              "    </script>\n",
              "  </div>\n",
              "\n",
              "    </div>\n",
              "  </div>\n"
            ],
            "application/vnd.google.colaboratory.intrinsic+json": {
              "type": "dataframe",
              "variable_name": "df",
              "summary": "{\n  \"name\": \"df\",\n  \"rows\": 75199,\n  \"fields\": [\n    {\n      \"column\": \"time (UTC)\",\n      \"properties\": {\n        \"dtype\": \"date\",\n        \"min\": \"2018-01-01 00:00:00+00:00\",\n        \"max\": \"2025-04-01 00:00:00+00:00\",\n        \"num_unique_values\": 88,\n        \"samples\": [\n          \"2024-05-01 00:00:00+00:00\",\n          \"2018-01-01 00:00:00+00:00\",\n          \"2020-03-01 00:00:00+00:00\"\n        ],\n        \"semantic_type\": \"\",\n        \"description\": \"\"\n      }\n    },\n    {\n      \"column\": \"Year\",\n      \"properties\": {\n        \"dtype\": \"number\",\n        \"std\": 2,\n        \"min\": 2018,\n        \"max\": 2025,\n        \"num_unique_values\": 8,\n        \"samples\": [\n          2019,\n          2023,\n          2018\n        ],\n        \"semantic_type\": \"\",\n        \"description\": \"\"\n      }\n    },\n    {\n      \"column\": \"Month\",\n      \"properties\": {\n        \"dtype\": \"number\",\n        \"std\": 3,\n        \"min\": 1,\n        \"max\": 12,\n        \"num_unique_values\": 12,\n        \"samples\": [\n          11,\n          10,\n          1\n        ],\n        \"semantic_type\": \"\",\n        \"description\": \"\"\n      }\n    },\n    {\n      \"column\": \"locationID\",\n      \"properties\": {\n        \"dtype\": \"category\",\n        \"num_unique_values\": 1039,\n        \"samples\": [\n          \"46011\",\n          \"ULAM6\",\n          \"46006\"\n        ],\n        \"semantic_type\": \"\",\n        \"description\": \"\"\n      }\n    },\n    {\n      \"column\": \"region\",\n      \"properties\": {\n        \"dtype\": \"category\",\n        \"num_unique_values\": 10,\n        \"samples\": [\n          \"SCCOOS\",\n          \"CARICOOS\",\n          \"NANOOS\"\n        ],\n        \"semantic_type\": \"\",\n        \"description\": \"\"\n      }\n    },\n    {\n      \"column\": \"sponsor\",\n      \"properties\": {\n        \"dtype\": \"category\",\n        \"num_unique_values\": 83,\n        \"samples\": [\n          \"LIMNOTECH\",\n          \"ALASKA OCEAN OBSERVING SYSTEM\",\n          \"NORTHEASTERN REGIONAL ASSN OF COASTAL OCEAN OBS SYSTEMS\"\n        ],\n        \"semantic_type\": \"\",\n        \"description\": \"\"\n      }\n    },\n    {\n      \"column\": \"met\",\n      \"properties\": {\n        \"dtype\": \"number\",\n        \"std\": 5987,\n        \"min\": 0,\n        \"max\": 86536,\n        \"num_unique_values\": 6022,\n        \"samples\": [\n          14172,\n          20566,\n          3716\n        ],\n        \"semantic_type\": \"\",\n        \"description\": \"\"\n      }\n    },\n    {\n      \"column\": \"wave\",\n      \"properties\": {\n        \"dtype\": \"number\",\n        \"std\": 1399,\n        \"min\": 0,\n        \"max\": 17838,\n        \"num_unique_values\": 2386,\n        \"samples\": [\n          8238,\n          7860,\n          6790\n        ],\n        \"semantic_type\": \"\",\n        \"description\": \"\"\n      }\n    },\n    {\n      \"column\": \"source\",\n      \"properties\": {\n        \"dtype\": \"category\",\n        \"num_unique_values\": 3,\n        \"samples\": [\n          \"IOOS\",\n          \"NDBC\",\n          \"non-NDBC\"\n        ],\n        \"semantic_type\": \"\",\n        \"description\": \"\"\n      }\n    },\n    {\n      \"column\": \"total\",\n      \"properties\": {\n        \"dtype\": \"number\",\n        \"std\": 5917,\n        \"min\": 0,\n        \"max\": 86536,\n        \"num_unique_values\": 6961,\n        \"samples\": [\n          476,\n          2026,\n          1688\n        ],\n        \"semantic_type\": \"\",\n        \"description\": \"\"\n      }\n    }\n  ]\n}"
            }
          },
          "metadata": {},
          "execution_count": 4
        }
      ]
    },
    {
      "cell_type": "markdown",
      "source": [
        "# Compute yearly totals of number of IOOS messages sent to the GTS."
      ],
      "metadata": {
        "id": "pDrG-jPh948I"
      }
    },
    {
      "cell_type": "code",
      "source": [
        "df.groupby(by=[\"source\"])[['met','wave','total']].sum()"
      ],
      "metadata": {
        "colab": {
          "base_uri": "https://localhost:8080/",
          "height": 175
        },
        "id": "p3IvljZzsswm",
        "outputId": "865a9693-b7c9-4dff-a875-8cb830f58e91"
      },
      "execution_count": 5,
      "outputs": [
        {
          "output_type": "execute_result",
          "data": {
            "text/plain": [
              "                met      wave      total\n",
              "source                                  \n",
              "IOOS       83046854  11890510   94937364\n",
              "NDBC       59173500  13570724   72744224\n",
              "non-NDBC  375902618  19371792  395274410"
            ],
            "text/html": [
              "\n",
              "  <div id=\"df-3b332c15-5896-409b-8bc2-710e1933d148\" class=\"colab-df-container\">\n",
              "    <div>\n",
              "<style scoped>\n",
              "    .dataframe tbody tr th:only-of-type {\n",
              "        vertical-align: middle;\n",
              "    }\n",
              "\n",
              "    .dataframe tbody tr th {\n",
              "        vertical-align: top;\n",
              "    }\n",
              "\n",
              "    .dataframe thead th {\n",
              "        text-align: right;\n",
              "    }\n",
              "</style>\n",
              "<table border=\"1\" class=\"dataframe\">\n",
              "  <thead>\n",
              "    <tr style=\"text-align: right;\">\n",
              "      <th></th>\n",
              "      <th>met</th>\n",
              "      <th>wave</th>\n",
              "      <th>total</th>\n",
              "    </tr>\n",
              "    <tr>\n",
              "      <th>source</th>\n",
              "      <th></th>\n",
              "      <th></th>\n",
              "      <th></th>\n",
              "    </tr>\n",
              "  </thead>\n",
              "  <tbody>\n",
              "    <tr>\n",
              "      <th>IOOS</th>\n",
              "      <td>83046854</td>\n",
              "      <td>11890510</td>\n",
              "      <td>94937364</td>\n",
              "    </tr>\n",
              "    <tr>\n",
              "      <th>NDBC</th>\n",
              "      <td>59173500</td>\n",
              "      <td>13570724</td>\n",
              "      <td>72744224</td>\n",
              "    </tr>\n",
              "    <tr>\n",
              "      <th>non-NDBC</th>\n",
              "      <td>375902618</td>\n",
              "      <td>19371792</td>\n",
              "      <td>395274410</td>\n",
              "    </tr>\n",
              "  </tbody>\n",
              "</table>\n",
              "</div>\n",
              "    <div class=\"colab-df-buttons\">\n",
              "\n",
              "  <div class=\"colab-df-container\">\n",
              "    <button class=\"colab-df-convert\" onclick=\"convertToInteractive('df-3b332c15-5896-409b-8bc2-710e1933d148')\"\n",
              "            title=\"Convert this dataframe to an interactive table.\"\n",
              "            style=\"display:none;\">\n",
              "\n",
              "  <svg xmlns=\"http://www.w3.org/2000/svg\" height=\"24px\" viewBox=\"0 -960 960 960\">\n",
              "    <path d=\"M120-120v-720h720v720H120Zm60-500h600v-160H180v160Zm220 220h160v-160H400v160Zm0 220h160v-160H400v160ZM180-400h160v-160H180v160Zm440 0h160v-160H620v160ZM180-180h160v-160H180v160Zm440 0h160v-160H620v160Z\"/>\n",
              "  </svg>\n",
              "    </button>\n",
              "\n",
              "  <style>\n",
              "    .colab-df-container {\n",
              "      display:flex;\n",
              "      gap: 12px;\n",
              "    }\n",
              "\n",
              "    .colab-df-convert {\n",
              "      background-color: #E8F0FE;\n",
              "      border: none;\n",
              "      border-radius: 50%;\n",
              "      cursor: pointer;\n",
              "      display: none;\n",
              "      fill: #1967D2;\n",
              "      height: 32px;\n",
              "      padding: 0 0 0 0;\n",
              "      width: 32px;\n",
              "    }\n",
              "\n",
              "    .colab-df-convert:hover {\n",
              "      background-color: #E2EBFA;\n",
              "      box-shadow: 0px 1px 2px rgba(60, 64, 67, 0.3), 0px 1px 3px 1px rgba(60, 64, 67, 0.15);\n",
              "      fill: #174EA6;\n",
              "    }\n",
              "\n",
              "    .colab-df-buttons div {\n",
              "      margin-bottom: 4px;\n",
              "    }\n",
              "\n",
              "    [theme=dark] .colab-df-convert {\n",
              "      background-color: #3B4455;\n",
              "      fill: #D2E3FC;\n",
              "    }\n",
              "\n",
              "    [theme=dark] .colab-df-convert:hover {\n",
              "      background-color: #434B5C;\n",
              "      box-shadow: 0px 1px 3px 1px rgba(0, 0, 0, 0.15);\n",
              "      filter: drop-shadow(0px 1px 2px rgba(0, 0, 0, 0.3));\n",
              "      fill: #FFFFFF;\n",
              "    }\n",
              "  </style>\n",
              "\n",
              "    <script>\n",
              "      const buttonEl =\n",
              "        document.querySelector('#df-3b332c15-5896-409b-8bc2-710e1933d148 button.colab-df-convert');\n",
              "      buttonEl.style.display =\n",
              "        google.colab.kernel.accessAllowed ? 'block' : 'none';\n",
              "\n",
              "      async function convertToInteractive(key) {\n",
              "        const element = document.querySelector('#df-3b332c15-5896-409b-8bc2-710e1933d148');\n",
              "        const dataTable =\n",
              "          await google.colab.kernel.invokeFunction('convertToInteractive',\n",
              "                                                    [key], {});\n",
              "        if (!dataTable) return;\n",
              "\n",
              "        const docLinkHtml = 'Like what you see? Visit the ' +\n",
              "          '<a target=\"_blank\" href=https://colab.research.google.com/notebooks/data_table.ipynb>data table notebook</a>'\n",
              "          + ' to learn more about interactive tables.';\n",
              "        element.innerHTML = '';\n",
              "        dataTable['output_type'] = 'display_data';\n",
              "        await google.colab.output.renderOutput(dataTable, element);\n",
              "        const docLink = document.createElement('div');\n",
              "        docLink.innerHTML = docLinkHtml;\n",
              "        element.appendChild(docLink);\n",
              "      }\n",
              "    </script>\n",
              "  </div>\n",
              "\n",
              "\n",
              "    <div id=\"df-042e5033-951a-4942-8d5f-6559bbf752fa\">\n",
              "      <button class=\"colab-df-quickchart\" onclick=\"quickchart('df-042e5033-951a-4942-8d5f-6559bbf752fa')\"\n",
              "                title=\"Suggest charts\"\n",
              "                style=\"display:none;\">\n",
              "\n",
              "<svg xmlns=\"http://www.w3.org/2000/svg\" height=\"24px\"viewBox=\"0 0 24 24\"\n",
              "     width=\"24px\">\n",
              "    <g>\n",
              "        <path d=\"M19 3H5c-1.1 0-2 .9-2 2v14c0 1.1.9 2 2 2h14c1.1 0 2-.9 2-2V5c0-1.1-.9-2-2-2zM9 17H7v-7h2v7zm4 0h-2V7h2v10zm4 0h-2v-4h2v4z\"/>\n",
              "    </g>\n",
              "</svg>\n",
              "      </button>\n",
              "\n",
              "<style>\n",
              "  .colab-df-quickchart {\n",
              "      --bg-color: #E8F0FE;\n",
              "      --fill-color: #1967D2;\n",
              "      --hover-bg-color: #E2EBFA;\n",
              "      --hover-fill-color: #174EA6;\n",
              "      --disabled-fill-color: #AAA;\n",
              "      --disabled-bg-color: #DDD;\n",
              "  }\n",
              "\n",
              "  [theme=dark] .colab-df-quickchart {\n",
              "      --bg-color: #3B4455;\n",
              "      --fill-color: #D2E3FC;\n",
              "      --hover-bg-color: #434B5C;\n",
              "      --hover-fill-color: #FFFFFF;\n",
              "      --disabled-bg-color: #3B4455;\n",
              "      --disabled-fill-color: #666;\n",
              "  }\n",
              "\n",
              "  .colab-df-quickchart {\n",
              "    background-color: var(--bg-color);\n",
              "    border: none;\n",
              "    border-radius: 50%;\n",
              "    cursor: pointer;\n",
              "    display: none;\n",
              "    fill: var(--fill-color);\n",
              "    height: 32px;\n",
              "    padding: 0;\n",
              "    width: 32px;\n",
              "  }\n",
              "\n",
              "  .colab-df-quickchart:hover {\n",
              "    background-color: var(--hover-bg-color);\n",
              "    box-shadow: 0 1px 2px rgba(60, 64, 67, 0.3), 0 1px 3px 1px rgba(60, 64, 67, 0.15);\n",
              "    fill: var(--button-hover-fill-color);\n",
              "  }\n",
              "\n",
              "  .colab-df-quickchart-complete:disabled,\n",
              "  .colab-df-quickchart-complete:disabled:hover {\n",
              "    background-color: var(--disabled-bg-color);\n",
              "    fill: var(--disabled-fill-color);\n",
              "    box-shadow: none;\n",
              "  }\n",
              "\n",
              "  .colab-df-spinner {\n",
              "    border: 2px solid var(--fill-color);\n",
              "    border-color: transparent;\n",
              "    border-bottom-color: var(--fill-color);\n",
              "    animation:\n",
              "      spin 1s steps(1) infinite;\n",
              "  }\n",
              "\n",
              "  @keyframes spin {\n",
              "    0% {\n",
              "      border-color: transparent;\n",
              "      border-bottom-color: var(--fill-color);\n",
              "      border-left-color: var(--fill-color);\n",
              "    }\n",
              "    20% {\n",
              "      border-color: transparent;\n",
              "      border-left-color: var(--fill-color);\n",
              "      border-top-color: var(--fill-color);\n",
              "    }\n",
              "    30% {\n",
              "      border-color: transparent;\n",
              "      border-left-color: var(--fill-color);\n",
              "      border-top-color: var(--fill-color);\n",
              "      border-right-color: var(--fill-color);\n",
              "    }\n",
              "    40% {\n",
              "      border-color: transparent;\n",
              "      border-right-color: var(--fill-color);\n",
              "      border-top-color: var(--fill-color);\n",
              "    }\n",
              "    60% {\n",
              "      border-color: transparent;\n",
              "      border-right-color: var(--fill-color);\n",
              "    }\n",
              "    80% {\n",
              "      border-color: transparent;\n",
              "      border-right-color: var(--fill-color);\n",
              "      border-bottom-color: var(--fill-color);\n",
              "    }\n",
              "    90% {\n",
              "      border-color: transparent;\n",
              "      border-bottom-color: var(--fill-color);\n",
              "    }\n",
              "  }\n",
              "</style>\n",
              "\n",
              "      <script>\n",
              "        async function quickchart(key) {\n",
              "          const quickchartButtonEl =\n",
              "            document.querySelector('#' + key + ' button');\n",
              "          quickchartButtonEl.disabled = true;  // To prevent multiple clicks.\n",
              "          quickchartButtonEl.classList.add('colab-df-spinner');\n",
              "          try {\n",
              "            const charts = await google.colab.kernel.invokeFunction(\n",
              "                'suggestCharts', [key], {});\n",
              "          } catch (error) {\n",
              "            console.error('Error during call to suggestCharts:', error);\n",
              "          }\n",
              "          quickchartButtonEl.classList.remove('colab-df-spinner');\n",
              "          quickchartButtonEl.classList.add('colab-df-quickchart-complete');\n",
              "        }\n",
              "        (() => {\n",
              "          let quickchartButtonEl =\n",
              "            document.querySelector('#df-042e5033-951a-4942-8d5f-6559bbf752fa button');\n",
              "          quickchartButtonEl.style.display =\n",
              "            google.colab.kernel.accessAllowed ? 'block' : 'none';\n",
              "        })();\n",
              "      </script>\n",
              "    </div>\n",
              "\n",
              "    </div>\n",
              "  </div>\n"
            ],
            "application/vnd.google.colaboratory.intrinsic+json": {
              "type": "dataframe",
              "summary": "{\n  \"name\": \"df\",\n  \"rows\": 3,\n  \"fields\": [\n    {\n      \"column\": \"source\",\n      \"properties\": {\n        \"dtype\": \"string\",\n        \"num_unique_values\": 3,\n        \"samples\": [\n          \"IOOS\",\n          \"NDBC\",\n          \"non-NDBC\"\n        ],\n        \"semantic_type\": \"\",\n        \"description\": \"\"\n      }\n    },\n    {\n      \"column\": \"met\",\n      \"properties\": {\n        \"dtype\": \"number\",\n        \"std\": 176376382,\n        \"min\": 59173500,\n        \"max\": 375902618,\n        \"num_unique_values\": 3,\n        \"samples\": [\n          83046854,\n          59173500,\n          375902618\n        ],\n        \"semantic_type\": \"\",\n        \"description\": \"\"\n      }\n    },\n    {\n      \"column\": \"wave\",\n      \"properties\": {\n        \"dtype\": \"number\",\n        \"std\": 3925240,\n        \"min\": 11890510,\n        \"max\": 19371792,\n        \"num_unique_values\": 3,\n        \"samples\": [\n          11890510,\n          13570724,\n          19371792\n        ],\n        \"semantic_type\": \"\",\n        \"description\": \"\"\n      }\n    },\n    {\n      \"column\": \"total\",\n      \"properties\": {\n        \"dtype\": \"number\",\n        \"std\": 180148363,\n        \"min\": 72744224,\n        \"max\": 395274410,\n        \"num_unique_values\": 3,\n        \"samples\": [\n          94937364,\n          72744224,\n          395274410\n        ],\n        \"semantic_type\": \"\",\n        \"description\": \"\"\n      }\n    }\n  ]\n}"
            }
          },
          "metadata": {},
          "execution_count": 5
        }
      ]
    },
    {
      "cell_type": "code",
      "source": [
        "df.index.min().strftime('%Y')"
      ],
      "metadata": {
        "colab": {
          "base_uri": "https://localhost:8080/",
          "height": 35
        },
        "id": "YzTZ_3P2tNLF",
        "outputId": "3a2f480e-6d0d-450f-9a81-fe69336e7eb8"
      },
      "execution_count": 6,
      "outputs": [
        {
          "output_type": "execute_result",
          "data": {
            "text/plain": [
              "'2018'"
            ],
            "application/vnd.google.colaboratory.intrinsic+json": {
              "type": "string"
            }
          },
          "metadata": {},
          "execution_count": 6
        }
      ]
    },
    {
      "cell_type": "code",
      "source": [
        "first_year = df.index.min().strftime('%Y')\n",
        "\n",
        "ioos_total = df.loc[df['source']=='IOOS','total'].sum()\n",
        "\n",
        "ioos_pcnt = ioos_total / df['total'].sum()\n",
        "\n",
        "total = df['total'].sum()\n",
        "\n",
        "print(f'Since {first_year} IOOS has contributed {ioos_total} messages to the GTS, which composes {(ioos_pcnt)*100:.2f} % of the total messages ({total}) reported by NDBC to the GTS')"
      ],
      "metadata": {
        "colab": {
          "base_uri": "https://localhost:8080/"
        },
        "id": "rQl8epoetC4Q",
        "outputId": "1381e7b9-95b6-4c0d-c236-248213e1a19e"
      },
      "execution_count": 7,
      "outputs": [
        {
          "output_type": "stream",
          "name": "stdout",
          "text": [
            "Since 2018 IOOS has contributed 94937364 messages to the GTS, which composes 16.86 % of the total messages (562955998) reported by NDBC to the GTS\n"
          ]
        }
      ]
    },
    {
      "cell_type": "code",
      "source": [
        "yearly_totals = df.groupby(by=[\"source\", pd.Grouper(freq=\"YE\")])[['met','wave']].sum()\n",
        "\n",
        "yearly_totals['total'] = yearly_totals['met'] + yearly_totals['wave']\n",
        "\n",
        "print(yearly_totals.loc['IOOS'].to_markdown(floatfmt=''))"
      ],
      "metadata": {
        "colab": {
          "base_uri": "https://localhost:8080/"
        },
        "id": "UtBVMmEx6VZ6",
        "outputId": "202043a2-b1a7-4371-f4ce-3ac2d8cd977d"
      },
      "execution_count": 8,
      "outputs": [
        {
          "output_type": "stream",
          "name": "stdout",
          "text": [
            "| time (UTC)                |        met |      wave |      total |\n",
            "|:--------------------------|-----------:|----------:|-----------:|\n",
            "| 2018-12-31 00:00:00+00:00 | 10250188.0 | 1586648.0 | 11836836.0 |\n",
            "| 2019-12-31 00:00:00+00:00 | 11344260.0 | 1682754.0 | 13027014.0 |\n",
            "| 2020-12-31 00:00:00+00:00 | 10501536.0 | 1410472.0 | 11912008.0 |\n",
            "| 2021-12-31 00:00:00+00:00 | 10189996.0 | 1610856.0 | 11800852.0 |\n",
            "| 2022-12-31 00:00:00+00:00 | 11295426.0 | 1616542.0 | 12911968.0 |\n",
            "| 2023-12-31 00:00:00+00:00 | 12719038.0 | 1796258.0 | 14515296.0 |\n",
            "| 2024-12-31 00:00:00+00:00 | 12794686.0 | 1726010.0 | 14520696.0 |\n",
            "| 2025-12-31 00:00:00+00:00 |  3951724.0 |  460970.0 |  4412694.0 |\n"
          ]
        }
      ]
    },
    {
      "cell_type": "code",
      "source": [
        "ioos_year = yearly_totals.loc['IOOS','2024']['total'].iloc[0]\n",
        "\n",
        "ioos_year"
      ],
      "metadata": {
        "colab": {
          "base_uri": "https://localhost:8080/"
        },
        "id": "rcIANX3Gu2TZ",
        "outputId": "1634c6e6-4778-46c3-d1d6-a2306312dbf6"
      },
      "execution_count": 9,
      "outputs": [
        {
          "output_type": "execute_result",
          "data": {
            "text/plain": [
              "np.int64(14520696)"
            ]
          },
          "metadata": {},
          "execution_count": 9
        }
      ]
    },
    {
      "cell_type": "code",
      "source": [
        "year = '2024'\n",
        "\n",
        "all_year = yearly_totals.loc['NDBC',year]['total'] + yearly_totals.loc['non-NDBC',year]['total'] + yearly_totals.loc['IOOS',year]['total']\n",
        "\n",
        "ioos_year = yearly_totals.loc['IOOS','2024']['total'].iloc[0]\n",
        "\n",
        "pcnt_year = ioos_year / all_year.iloc[0]\n",
        "\n",
        "platforms = len(df.loc[(df.index >= '2024-01-01') & (df.index <= '2024-12-31') & (df['source']=='IOOS')].locationID.unique())\n",
        "\n",
        "print(f'In {year}, the IOOS regions have submitted {ioos_year} messages to the GTS (from {platforms} unique platforms). Which comprises {pcnt_year*100:.2f} % of the total messages sent to the GTS via NDBC.')"
      ],
      "metadata": {
        "colab": {
          "base_uri": "https://localhost:8080/"
        },
        "id": "KtALHdJbwPv2",
        "outputId": "1a944805-6481-465e-894b-1c29ba7f6d48"
      },
      "execution_count": 10,
      "outputs": [
        {
          "output_type": "stream",
          "name": "stdout",
          "text": [
            "In 2024, the IOOS regions have submitted 14520696 messages to the GTS (from 229 unique platforms). Which comprises 17.20 % of the total messages sent to the GTS via NDBC.\n"
          ]
        }
      ]
    },
    {
      "cell_type": "markdown",
      "source": [
        "# Compute yearly totals of IOOS messages sent to the GTS by region."
      ],
      "metadata": {
        "id": "7tNTvF0h9wdP"
      }
    },
    {
      "cell_type": "code",
      "source": [
        "yearly_region_totals = df.groupby(by=[\"source\", \"region\", pd.Grouper(freq=\"YE\")])[['met','wave']].sum()\n",
        "\n",
        "yearly_region_totals['total'] = yearly_region_totals['met'] + yearly_region_totals['wave']\n",
        "\n",
        "yearly_region_totals.reset_index('region',inplace=True)\n",
        "\n",
        "print(yearly_region_totals.loc['IOOS'].to_markdown(floatfmt=''))"
      ],
      "metadata": {
        "id": "QpVMZYvn7asZ",
        "outputId": "ba8e865e-03bc-4a24-9d05-1a781a596a3f",
        "colab": {
          "base_uri": "https://localhost:8080/"
        }
      },
      "execution_count": 11,
      "outputs": [
        {
          "output_type": "stream",
          "name": "stdout",
          "text": [
            "| time (UTC)                | region   |     met |   wave |   total |\n",
            "|:--------------------------|:---------|--------:|-------:|--------:|\n",
            "| 2018-12-31 00:00:00+00:00 | AOOS     | 2571070 |  27968 | 2599038 |\n",
            "| 2019-12-31 00:00:00+00:00 | AOOS     | 2810422 |  31584 | 2842006 |\n",
            "| 2020-12-31 00:00:00+00:00 | AOOS     | 2697606 |   8258 | 2705864 |\n",
            "| 2021-12-31 00:00:00+00:00 | AOOS     | 2574888 |  24336 | 2599224 |\n",
            "| 2022-12-31 00:00:00+00:00 | AOOS     | 3675118 |  37414 | 3712532 |\n",
            "| 2023-12-31 00:00:00+00:00 | AOOS     | 5620044 |  34026 | 5654070 |\n",
            "| 2024-12-31 00:00:00+00:00 | AOOS     | 5939434 |  31992 | 5971426 |\n",
            "| 2025-12-31 00:00:00+00:00 | AOOS     | 2044136 |  10966 | 2055102 |\n",
            "| 2018-12-31 00:00:00+00:00 | CARICOOS |  619422 |  68520 |  687942 |\n",
            "| 2019-12-31 00:00:00+00:00 | CARICOOS |  719876 |  83582 |  803458 |\n",
            "| 2020-12-31 00:00:00+00:00 | CARICOOS |  629990 |  93232 |  723222 |\n",
            "| 2021-12-31 00:00:00+00:00 | CARICOOS |  676958 |  99074 |  776032 |\n",
            "| 2022-12-31 00:00:00+00:00 | CARICOOS |  506648 | 101264 |  607912 |\n",
            "| 2023-12-31 00:00:00+00:00 | CARICOOS |  335790 | 120508 |  456298 |\n",
            "| 2024-12-31 00:00:00+00:00 | CARICOOS |  358806 |  99550 |  458356 |\n",
            "| 2025-12-31 00:00:00+00:00 | CARICOOS |  136024 |  34312 |  170336 |\n",
            "| 2018-12-31 00:00:00+00:00 | CeNCOOS  |  520352 |      0 |  520352 |\n",
            "| 2019-12-31 00:00:00+00:00 | CeNCOOS  |  614208 |      0 |  614208 |\n",
            "| 2020-12-31 00:00:00+00:00 | CeNCOOS  |  476714 |      0 |  476714 |\n",
            "| 2021-12-31 00:00:00+00:00 | CeNCOOS  |  486558 |      0 |  486558 |\n",
            "| 2022-12-31 00:00:00+00:00 | CeNCOOS  |  438034 |      0 |  438034 |\n",
            "| 2023-12-31 00:00:00+00:00 | CeNCOOS  |  466466 |      0 |  466466 |\n",
            "| 2024-12-31 00:00:00+00:00 | CeNCOOS  |  402722 |      0 |  402722 |\n",
            "| 2025-12-31 00:00:00+00:00 | CeNCOOS  |  125170 |      0 |  125170 |\n",
            "| 2018-12-31 00:00:00+00:00 | GCOOS    | 4194290 |      0 | 4194290 |\n",
            "| 2019-12-31 00:00:00+00:00 | GCOOS    | 4589990 |   1658 | 4591648 |\n",
            "| 2020-12-31 00:00:00+00:00 | GCOOS    | 4462670 |   9972 | 4472642 |\n",
            "| 2021-12-31 00:00:00+00:00 | GCOOS    | 4281378 |      0 | 4281378 |\n",
            "| 2022-12-31 00:00:00+00:00 | GCOOS    | 4464360 |      0 | 4464360 |\n",
            "| 2023-12-31 00:00:00+00:00 | GCOOS    | 4179490 |      0 | 4179490 |\n",
            "| 2024-12-31 00:00:00+00:00 | GCOOS    | 4469570 |      0 | 4469570 |\n",
            "| 2025-12-31 00:00:00+00:00 | GCOOS    | 1301240 |  24200 | 1325440 |\n",
            "| 2018-12-31 00:00:00+00:00 | GLOS     |  931280 | 727248 | 1658528 |\n",
            "| 2019-12-31 00:00:00+00:00 | GLOS     |  984798 | 767838 | 1752636 |\n",
            "| 2020-12-31 00:00:00+00:00 | GLOS     |  799460 | 507360 | 1306820 |\n",
            "| 2021-12-31 00:00:00+00:00 | GLOS     |  985644 | 821922 | 1807566 |\n",
            "| 2022-12-31 00:00:00+00:00 | GLOS     |  916966 | 674476 | 1591442 |\n",
            "| 2023-12-31 00:00:00+00:00 | GLOS     |  734626 | 708656 | 1443282 |\n",
            "| 2024-12-31 00:00:00+00:00 | GLOS     |  503360 | 477802 |  981162 |\n",
            "| 2025-12-31 00:00:00+00:00 | GLOS     |    9566 |   4388 |   13954 |\n",
            "| 2018-12-31 00:00:00+00:00 | NANOOS   |  192018 |  12548 |  204566 |\n",
            "| 2019-12-31 00:00:00+00:00 | NANOOS   |  295346 |  25746 |  321092 |\n",
            "| 2020-12-31 00:00:00+00:00 | NANOOS   |  242372 |  22708 |  265080 |\n",
            "| 2021-12-31 00:00:00+00:00 | NANOOS   |   12756 |  20740 |   33496 |\n",
            "| 2022-12-31 00:00:00+00:00 | NANOOS   |  114814 |   8812 |  123626 |\n",
            "| 2023-12-31 00:00:00+00:00 | NANOOS   |  100926 |      0 |  100926 |\n",
            "| 2024-12-31 00:00:00+00:00 | NANOOS   |   72704 |      0 |   72704 |\n",
            "| 2025-12-31 00:00:00+00:00 | NANOOS   |   25740 |      0 |   25740 |\n",
            "| 2018-12-31 00:00:00+00:00 | NERACOOS |  249958 | 202224 |  452182 |\n",
            "| 2019-12-31 00:00:00+00:00 | NERACOOS |  215136 | 144264 |  359400 |\n",
            "| 2020-12-31 00:00:00+00:00 | NERACOOS |  223552 | 143672 |  367224 |\n",
            "| 2021-12-31 00:00:00+00:00 | NERACOOS |  166930 | 134378 |  301308 |\n",
            "| 2022-12-31 00:00:00+00:00 | NERACOOS |  195404 | 162558 |  357962 |\n",
            "| 2023-12-31 00:00:00+00:00 | NERACOOS |  201388 | 208866 |  410254 |\n",
            "| 2024-12-31 00:00:00+00:00 | NERACOOS |  200676 | 196482 |  397158 |\n",
            "| 2025-12-31 00:00:00+00:00 | NERACOOS |   54284 |  61334 |  115618 |\n",
            "| 2018-12-31 00:00:00+00:00 | PacIOOS  |       0 | 370940 |  370940 |\n",
            "| 2019-12-31 00:00:00+00:00 | PacIOOS  |       0 | 456810 |  456810 |\n",
            "| 2020-12-31 00:00:00+00:00 | PacIOOS  |       0 | 457412 |  457412 |\n",
            "| 2021-12-31 00:00:00+00:00 | PacIOOS  |       0 | 308712 |  308712 |\n",
            "| 2022-12-31 00:00:00+00:00 | PacIOOS  |       0 | 396018 |  396018 |\n",
            "| 2023-12-31 00:00:00+00:00 | PacIOOS  |       0 | 382024 |  382024 |\n",
            "| 2024-12-31 00:00:00+00:00 | PacIOOS  |       0 | 481492 |  481492 |\n",
            "| 2025-12-31 00:00:00+00:00 | PacIOOS  |       0 | 195044 |  195044 |\n",
            "| 2018-12-31 00:00:00+00:00 | SCCOOS   |       0 |  32750 |   32750 |\n",
            "| 2019-12-31 00:00:00+00:00 | SCCOOS   |       0 |  34376 |   34376 |\n",
            "| 2020-12-31 00:00:00+00:00 | SCCOOS   |       0 |  34476 |   34476 |\n",
            "| 2021-12-31 00:00:00+00:00 | SCCOOS   |       0 |  33480 |   33480 |\n",
            "| 2022-12-31 00:00:00+00:00 | SCCOOS   |       0 |  34122 |   34122 |\n",
            "| 2023-12-31 00:00:00+00:00 | SCCOOS   |       0 |  34948 |   34948 |\n",
            "| 2024-12-31 00:00:00+00:00 | SCCOOS   |       0 |  34576 |   34576 |\n",
            "| 2025-12-31 00:00:00+00:00 | SCCOOS   |       0 |  11508 |   11508 |\n",
            "| 2018-12-31 00:00:00+00:00 | SECOORA  |  971798 | 144450 | 1116248 |\n",
            "| 2019-12-31 00:00:00+00:00 | SECOORA  | 1114484 | 136896 | 1251380 |\n",
            "| 2020-12-31 00:00:00+00:00 | SECOORA  |  969172 | 133382 | 1102554 |\n",
            "| 2021-12-31 00:00:00+00:00 | SECOORA  | 1004884 | 168214 | 1173098 |\n",
            "| 2022-12-31 00:00:00+00:00 | SECOORA  |  984082 | 201878 | 1185960 |\n",
            "| 2023-12-31 00:00:00+00:00 | SECOORA  | 1080308 | 307230 | 1387538 |\n",
            "| 2024-12-31 00:00:00+00:00 | SECOORA  |  847414 | 404116 | 1251530 |\n",
            "| 2025-12-31 00:00:00+00:00 | SECOORA  |  255564 | 119218 |  374782 |\n"
          ]
        }
      ]
    },
    {
      "cell_type": "markdown",
      "source": [
        "# Calculate the percentage of IOOS OBS per year"
      ],
      "metadata": {
        "id": "15MgOsVj_LVc"
      }
    },
    {
      "cell_type": "code",
      "source": [
        "yearly_totals = df.groupby(by=[\"source\", pd.Grouper(freq=\"YE\")])[['met','wave']].sum()\n",
        "\n",
        "yearly_totals['total'] = yearly_totals['met'] + yearly_totals['wave']\n",
        "\n",
        "pcnt_obs_year = yearly_totals.loc['IOOS'] / (yearly_totals.loc['IOOS'] + yearly_totals.loc['NDBC'] + yearly_totals.loc['non-NDBC'])\n",
        "\n",
        "# pcnt_obs_year['total'] =\n",
        "\n",
        "print(pcnt_obs_year.to_markdown())"
      ],
      "metadata": {
        "id": "r7GA5FW28ZZc",
        "outputId": "a0bf004e-8f45-49e6-b194-e85e2a273455",
        "colab": {
          "base_uri": "https://localhost:8080/"
        }
      },
      "execution_count": 12,
      "outputs": [
        {
          "output_type": "stream",
          "name": "stdout",
          "text": [
            "| time (UTC)                |      met |     wave |    total |\n",
            "|:--------------------------|---------:|---------:|---------:|\n",
            "| 2018-12-31 00:00:00+00:00 | 0.155619 | 0.296562 | 0.166207 |\n",
            "| 2019-12-31 00:00:00+00:00 | 0.167812 | 0.312697 | 0.178495 |\n",
            "| 2020-12-31 00:00:00+00:00 | 0.154613 | 0.277295 | 0.16316  |\n",
            "| 2021-12-31 00:00:00+00:00 | 0.149813 | 0.3107   | 0.161207 |\n",
            "| 2022-12-31 00:00:00+00:00 | 0.153994 | 0.278716 | 0.163134 |\n",
            "| 2023-12-31 00:00:00+00:00 | 0.167084 | 0.222074 | 0.172366 |\n",
            "| 2024-12-31 00:00:00+00:00 | 0.167279 | 0.217845 | 0.172026 |\n",
            "| 2025-12-31 00:00:00+00:00 | 0.173669 | 0.228349 | 0.178125 |\n"
          ]
        }
      ]
    },
    {
      "cell_type": "code",
      "source": [
        "yearly_totals.loc['IOOS'] + yearly_totals.loc['NDBC'] + yearly_totals.loc['non-NDBC']\n",
        "\n",
        "# totals['total'] = totals['met']+totals['wave']\n",
        "\n",
        "# totals['total'].sum()\n",
        "\n",
        "#totals"
      ],
      "metadata": {
        "id": "GipR9igpg6U4",
        "outputId": "13e3fce8-4f88-421a-dc68-477f024a371e",
        "colab": {
          "base_uri": "https://localhost:8080/",
          "height": 332
        }
      },
      "execution_count": 13,
      "outputs": [
        {
          "output_type": "execute_result",
          "data": {
            "text/plain": [
              "                                met     wave     total\n",
              "time (UTC)                                            \n",
              "2018-12-31 00:00:00+00:00  65867386  5350148  71217534\n",
              "2019-12-31 00:00:00+00:00  67601032  5381422  72982454\n",
              "2020-12-31 00:00:00+00:00  67921642  5086546  73008188\n",
              "2021-12-31 00:00:00+00:00  68018280  5184606  73202886\n",
              "2022-12-31 00:00:00+00:00  73349742  5799952  79149694\n",
              "2023-12-31 00:00:00+00:00  76123506  8088546  84212052\n",
              "2024-12-31 00:00:00+00:00  76487008  7923096  84410104\n",
              "2025-12-31 00:00:00+00:00  22754376  2018710  24773086"
            ],
            "text/html": [
              "\n",
              "  <div id=\"df-45efc410-a10e-4ef5-867a-3eaa090c1b54\" class=\"colab-df-container\">\n",
              "    <div>\n",
              "<style scoped>\n",
              "    .dataframe tbody tr th:only-of-type {\n",
              "        vertical-align: middle;\n",
              "    }\n",
              "\n",
              "    .dataframe tbody tr th {\n",
              "        vertical-align: top;\n",
              "    }\n",
              "\n",
              "    .dataframe thead th {\n",
              "        text-align: right;\n",
              "    }\n",
              "</style>\n",
              "<table border=\"1\" class=\"dataframe\">\n",
              "  <thead>\n",
              "    <tr style=\"text-align: right;\">\n",
              "      <th></th>\n",
              "      <th>met</th>\n",
              "      <th>wave</th>\n",
              "      <th>total</th>\n",
              "    </tr>\n",
              "    <tr>\n",
              "      <th>time (UTC)</th>\n",
              "      <th></th>\n",
              "      <th></th>\n",
              "      <th></th>\n",
              "    </tr>\n",
              "  </thead>\n",
              "  <tbody>\n",
              "    <tr>\n",
              "      <th>2018-12-31 00:00:00+00:00</th>\n",
              "      <td>65867386</td>\n",
              "      <td>5350148</td>\n",
              "      <td>71217534</td>\n",
              "    </tr>\n",
              "    <tr>\n",
              "      <th>2019-12-31 00:00:00+00:00</th>\n",
              "      <td>67601032</td>\n",
              "      <td>5381422</td>\n",
              "      <td>72982454</td>\n",
              "    </tr>\n",
              "    <tr>\n",
              "      <th>2020-12-31 00:00:00+00:00</th>\n",
              "      <td>67921642</td>\n",
              "      <td>5086546</td>\n",
              "      <td>73008188</td>\n",
              "    </tr>\n",
              "    <tr>\n",
              "      <th>2021-12-31 00:00:00+00:00</th>\n",
              "      <td>68018280</td>\n",
              "      <td>5184606</td>\n",
              "      <td>73202886</td>\n",
              "    </tr>\n",
              "    <tr>\n",
              "      <th>2022-12-31 00:00:00+00:00</th>\n",
              "      <td>73349742</td>\n",
              "      <td>5799952</td>\n",
              "      <td>79149694</td>\n",
              "    </tr>\n",
              "    <tr>\n",
              "      <th>2023-12-31 00:00:00+00:00</th>\n",
              "      <td>76123506</td>\n",
              "      <td>8088546</td>\n",
              "      <td>84212052</td>\n",
              "    </tr>\n",
              "    <tr>\n",
              "      <th>2024-12-31 00:00:00+00:00</th>\n",
              "      <td>76487008</td>\n",
              "      <td>7923096</td>\n",
              "      <td>84410104</td>\n",
              "    </tr>\n",
              "    <tr>\n",
              "      <th>2025-12-31 00:00:00+00:00</th>\n",
              "      <td>22754376</td>\n",
              "      <td>2018710</td>\n",
              "      <td>24773086</td>\n",
              "    </tr>\n",
              "  </tbody>\n",
              "</table>\n",
              "</div>\n",
              "    <div class=\"colab-df-buttons\">\n",
              "\n",
              "  <div class=\"colab-df-container\">\n",
              "    <button class=\"colab-df-convert\" onclick=\"convertToInteractive('df-45efc410-a10e-4ef5-867a-3eaa090c1b54')\"\n",
              "            title=\"Convert this dataframe to an interactive table.\"\n",
              "            style=\"display:none;\">\n",
              "\n",
              "  <svg xmlns=\"http://www.w3.org/2000/svg\" height=\"24px\" viewBox=\"0 -960 960 960\">\n",
              "    <path d=\"M120-120v-720h720v720H120Zm60-500h600v-160H180v160Zm220 220h160v-160H400v160Zm0 220h160v-160H400v160ZM180-400h160v-160H180v160Zm440 0h160v-160H620v160ZM180-180h160v-160H180v160Zm440 0h160v-160H620v160Z\"/>\n",
              "  </svg>\n",
              "    </button>\n",
              "\n",
              "  <style>\n",
              "    .colab-df-container {\n",
              "      display:flex;\n",
              "      gap: 12px;\n",
              "    }\n",
              "\n",
              "    .colab-df-convert {\n",
              "      background-color: #E8F0FE;\n",
              "      border: none;\n",
              "      border-radius: 50%;\n",
              "      cursor: pointer;\n",
              "      display: none;\n",
              "      fill: #1967D2;\n",
              "      height: 32px;\n",
              "      padding: 0 0 0 0;\n",
              "      width: 32px;\n",
              "    }\n",
              "\n",
              "    .colab-df-convert:hover {\n",
              "      background-color: #E2EBFA;\n",
              "      box-shadow: 0px 1px 2px rgba(60, 64, 67, 0.3), 0px 1px 3px 1px rgba(60, 64, 67, 0.15);\n",
              "      fill: #174EA6;\n",
              "    }\n",
              "\n",
              "    .colab-df-buttons div {\n",
              "      margin-bottom: 4px;\n",
              "    }\n",
              "\n",
              "    [theme=dark] .colab-df-convert {\n",
              "      background-color: #3B4455;\n",
              "      fill: #D2E3FC;\n",
              "    }\n",
              "\n",
              "    [theme=dark] .colab-df-convert:hover {\n",
              "      background-color: #434B5C;\n",
              "      box-shadow: 0px 1px 3px 1px rgba(0, 0, 0, 0.15);\n",
              "      filter: drop-shadow(0px 1px 2px rgba(0, 0, 0, 0.3));\n",
              "      fill: #FFFFFF;\n",
              "    }\n",
              "  </style>\n",
              "\n",
              "    <script>\n",
              "      const buttonEl =\n",
              "        document.querySelector('#df-45efc410-a10e-4ef5-867a-3eaa090c1b54 button.colab-df-convert');\n",
              "      buttonEl.style.display =\n",
              "        google.colab.kernel.accessAllowed ? 'block' : 'none';\n",
              "\n",
              "      async function convertToInteractive(key) {\n",
              "        const element = document.querySelector('#df-45efc410-a10e-4ef5-867a-3eaa090c1b54');\n",
              "        const dataTable =\n",
              "          await google.colab.kernel.invokeFunction('convertToInteractive',\n",
              "                                                    [key], {});\n",
              "        if (!dataTable) return;\n",
              "\n",
              "        const docLinkHtml = 'Like what you see? Visit the ' +\n",
              "          '<a target=\"_blank\" href=https://colab.research.google.com/notebooks/data_table.ipynb>data table notebook</a>'\n",
              "          + ' to learn more about interactive tables.';\n",
              "        element.innerHTML = '';\n",
              "        dataTable['output_type'] = 'display_data';\n",
              "        await google.colab.output.renderOutput(dataTable, element);\n",
              "        const docLink = document.createElement('div');\n",
              "        docLink.innerHTML = docLinkHtml;\n",
              "        element.appendChild(docLink);\n",
              "      }\n",
              "    </script>\n",
              "  </div>\n",
              "\n",
              "\n",
              "    <div id=\"df-79db29d2-2fb5-40e9-9380-6199edd2d47f\">\n",
              "      <button class=\"colab-df-quickchart\" onclick=\"quickchart('df-79db29d2-2fb5-40e9-9380-6199edd2d47f')\"\n",
              "                title=\"Suggest charts\"\n",
              "                style=\"display:none;\">\n",
              "\n",
              "<svg xmlns=\"http://www.w3.org/2000/svg\" height=\"24px\"viewBox=\"0 0 24 24\"\n",
              "     width=\"24px\">\n",
              "    <g>\n",
              "        <path d=\"M19 3H5c-1.1 0-2 .9-2 2v14c0 1.1.9 2 2 2h14c1.1 0 2-.9 2-2V5c0-1.1-.9-2-2-2zM9 17H7v-7h2v7zm4 0h-2V7h2v10zm4 0h-2v-4h2v4z\"/>\n",
              "    </g>\n",
              "</svg>\n",
              "      </button>\n",
              "\n",
              "<style>\n",
              "  .colab-df-quickchart {\n",
              "      --bg-color: #E8F0FE;\n",
              "      --fill-color: #1967D2;\n",
              "      --hover-bg-color: #E2EBFA;\n",
              "      --hover-fill-color: #174EA6;\n",
              "      --disabled-fill-color: #AAA;\n",
              "      --disabled-bg-color: #DDD;\n",
              "  }\n",
              "\n",
              "  [theme=dark] .colab-df-quickchart {\n",
              "      --bg-color: #3B4455;\n",
              "      --fill-color: #D2E3FC;\n",
              "      --hover-bg-color: #434B5C;\n",
              "      --hover-fill-color: #FFFFFF;\n",
              "      --disabled-bg-color: #3B4455;\n",
              "      --disabled-fill-color: #666;\n",
              "  }\n",
              "\n",
              "  .colab-df-quickchart {\n",
              "    background-color: var(--bg-color);\n",
              "    border: none;\n",
              "    border-radius: 50%;\n",
              "    cursor: pointer;\n",
              "    display: none;\n",
              "    fill: var(--fill-color);\n",
              "    height: 32px;\n",
              "    padding: 0;\n",
              "    width: 32px;\n",
              "  }\n",
              "\n",
              "  .colab-df-quickchart:hover {\n",
              "    background-color: var(--hover-bg-color);\n",
              "    box-shadow: 0 1px 2px rgba(60, 64, 67, 0.3), 0 1px 3px 1px rgba(60, 64, 67, 0.15);\n",
              "    fill: var(--button-hover-fill-color);\n",
              "  }\n",
              "\n",
              "  .colab-df-quickchart-complete:disabled,\n",
              "  .colab-df-quickchart-complete:disabled:hover {\n",
              "    background-color: var(--disabled-bg-color);\n",
              "    fill: var(--disabled-fill-color);\n",
              "    box-shadow: none;\n",
              "  }\n",
              "\n",
              "  .colab-df-spinner {\n",
              "    border: 2px solid var(--fill-color);\n",
              "    border-color: transparent;\n",
              "    border-bottom-color: var(--fill-color);\n",
              "    animation:\n",
              "      spin 1s steps(1) infinite;\n",
              "  }\n",
              "\n",
              "  @keyframes spin {\n",
              "    0% {\n",
              "      border-color: transparent;\n",
              "      border-bottom-color: var(--fill-color);\n",
              "      border-left-color: var(--fill-color);\n",
              "    }\n",
              "    20% {\n",
              "      border-color: transparent;\n",
              "      border-left-color: var(--fill-color);\n",
              "      border-top-color: var(--fill-color);\n",
              "    }\n",
              "    30% {\n",
              "      border-color: transparent;\n",
              "      border-left-color: var(--fill-color);\n",
              "      border-top-color: var(--fill-color);\n",
              "      border-right-color: var(--fill-color);\n",
              "    }\n",
              "    40% {\n",
              "      border-color: transparent;\n",
              "      border-right-color: var(--fill-color);\n",
              "      border-top-color: var(--fill-color);\n",
              "    }\n",
              "    60% {\n",
              "      border-color: transparent;\n",
              "      border-right-color: var(--fill-color);\n",
              "    }\n",
              "    80% {\n",
              "      border-color: transparent;\n",
              "      border-right-color: var(--fill-color);\n",
              "      border-bottom-color: var(--fill-color);\n",
              "    }\n",
              "    90% {\n",
              "      border-color: transparent;\n",
              "      border-bottom-color: var(--fill-color);\n",
              "    }\n",
              "  }\n",
              "</style>\n",
              "\n",
              "      <script>\n",
              "        async function quickchart(key) {\n",
              "          const quickchartButtonEl =\n",
              "            document.querySelector('#' + key + ' button');\n",
              "          quickchartButtonEl.disabled = true;  // To prevent multiple clicks.\n",
              "          quickchartButtonEl.classList.add('colab-df-spinner');\n",
              "          try {\n",
              "            const charts = await google.colab.kernel.invokeFunction(\n",
              "                'suggestCharts', [key], {});\n",
              "          } catch (error) {\n",
              "            console.error('Error during call to suggestCharts:', error);\n",
              "          }\n",
              "          quickchartButtonEl.classList.remove('colab-df-spinner');\n",
              "          quickchartButtonEl.classList.add('colab-df-quickchart-complete');\n",
              "        }\n",
              "        (() => {\n",
              "          let quickchartButtonEl =\n",
              "            document.querySelector('#df-79db29d2-2fb5-40e9-9380-6199edd2d47f button');\n",
              "          quickchartButtonEl.style.display =\n",
              "            google.colab.kernel.accessAllowed ? 'block' : 'none';\n",
              "        })();\n",
              "      </script>\n",
              "    </div>\n",
              "\n",
              "    </div>\n",
              "  </div>\n"
            ],
            "application/vnd.google.colaboratory.intrinsic+json": {
              "type": "dataframe",
              "summary": "{\n  \"name\": \"#totals\",\n  \"rows\": 8,\n  \"fields\": [\n    {\n      \"column\": \"time (UTC)\",\n      \"properties\": {\n        \"dtype\": \"date\",\n        \"min\": \"2018-12-31 00:00:00+00:00\",\n        \"max\": \"2025-12-31 00:00:00+00:00\",\n        \"num_unique_values\": 8,\n        \"samples\": [\n          \"2019-12-31 00:00:00+00:00\",\n          \"2023-12-31 00:00:00+00:00\",\n          \"2018-12-31 00:00:00+00:00\"\n        ],\n        \"semantic_type\": \"\",\n        \"description\": \"\"\n      }\n    },\n    {\n      \"column\": \"met\",\n      \"properties\": {\n        \"dtype\": \"number\",\n        \"std\": 17463504,\n        \"min\": 22754376,\n        \"max\": 76487008,\n        \"num_unique_values\": 8,\n        \"samples\": [\n          67601032,\n          76123506,\n          65867386\n        ],\n        \"semantic_type\": \"\",\n        \"description\": \"\"\n      }\n    },\n    {\n      \"column\": \"wave\",\n      \"properties\": {\n        \"dtype\": \"number\",\n        \"std\": 1889879,\n        \"min\": 2018710,\n        \"max\": 8088546,\n        \"num_unique_values\": 8,\n        \"samples\": [\n          5381422,\n          8088546,\n          5350148\n        ],\n        \"semantic_type\": \"\",\n        \"description\": \"\"\n      }\n    },\n    {\n      \"column\": \"total\",\n      \"properties\": {\n        \"dtype\": \"number\",\n        \"std\": 19151340,\n        \"min\": 24773086,\n        \"max\": 84410104,\n        \"num_unique_values\": 8,\n        \"samples\": [\n          72982454,\n          84212052,\n          71217534\n        ],\n        \"semantic_type\": \"\",\n        \"description\": \"\"\n      }\n    }\n  ]\n}"
            }
          },
          "metadata": {},
          "execution_count": 13
        }
      ]
    },
    {
      "cell_type": "code",
      "source": [
        "yearly_totals.loc['IOOS','total'].sum()"
      ],
      "metadata": {
        "id": "uL8slBQKYkao",
        "outputId": "6ab960e5-573e-4008-ecfe-bdbbef9fd4bc",
        "colab": {
          "base_uri": "https://localhost:8080/"
        }
      },
      "execution_count": 14,
      "outputs": [
        {
          "output_type": "execute_result",
          "data": {
            "text/plain": [
              "np.int64(94937364)"
            ]
          },
          "metadata": {},
          "execution_count": 14
        }
      ]
    },
    {
      "cell_type": "markdown",
      "source": [
        "# Total number of unique platforms submitting data to the GTS from the IOOS regions"
      ],
      "metadata": {
        "id": "jRwVnhAHA8Ma"
      }
    },
    {
      "cell_type": "markdown",
      "source": [
        "IOOS location IDs"
      ],
      "metadata": {
        "id": "5xUmgzD8r4mV"
      }
    },
    {
      "cell_type": "code",
      "source": [
        "df.loc[df['source']=='IOOS'].locationID"
      ],
      "metadata": {
        "id": "lww9_FP1B0KG",
        "outputId": "cad475f8-9b1f-424b-e5ca-3f661eaec903",
        "colab": {
          "base_uri": "https://localhost:8080/",
          "height": 490
        }
      },
      "execution_count": 15,
      "outputs": [
        {
          "output_type": "execute_result",
          "data": {
            "text/plain": [
              "time (UTC)\n",
              "2018-01-01 00:00:00+00:00    46108\n",
              "2018-01-01 00:00:00+00:00    AJXA2\n",
              "2018-01-01 00:00:00+00:00    CDXA2\n",
              "2018-01-01 00:00:00+00:00    ERXA2\n",
              "2018-01-01 00:00:00+00:00    GIXA2\n",
              "                             ...  \n",
              "2025-04-01 00:00:00+00:00    SIPF1\n",
              "2025-04-01 00:00:00+00:00    42098\n",
              "2025-04-01 00:00:00+00:00    44095\n",
              "2025-04-01 00:00:00+00:00    44086\n",
              "2025-04-01 00:00:00+00:00    44089\n",
              "Name: locationID, Length: 16186, dtype: object"
            ],
            "text/html": [
              "<div>\n",
              "<style scoped>\n",
              "    .dataframe tbody tr th:only-of-type {\n",
              "        vertical-align: middle;\n",
              "    }\n",
              "\n",
              "    .dataframe tbody tr th {\n",
              "        vertical-align: top;\n",
              "    }\n",
              "\n",
              "    .dataframe thead th {\n",
              "        text-align: right;\n",
              "    }\n",
              "</style>\n",
              "<table border=\"1\" class=\"dataframe\">\n",
              "  <thead>\n",
              "    <tr style=\"text-align: right;\">\n",
              "      <th></th>\n",
              "      <th>locationID</th>\n",
              "    </tr>\n",
              "    <tr>\n",
              "      <th>time (UTC)</th>\n",
              "      <th></th>\n",
              "    </tr>\n",
              "  </thead>\n",
              "  <tbody>\n",
              "    <tr>\n",
              "      <th>2018-01-01 00:00:00+00:00</th>\n",
              "      <td>46108</td>\n",
              "    </tr>\n",
              "    <tr>\n",
              "      <th>2018-01-01 00:00:00+00:00</th>\n",
              "      <td>AJXA2</td>\n",
              "    </tr>\n",
              "    <tr>\n",
              "      <th>2018-01-01 00:00:00+00:00</th>\n",
              "      <td>CDXA2</td>\n",
              "    </tr>\n",
              "    <tr>\n",
              "      <th>2018-01-01 00:00:00+00:00</th>\n",
              "      <td>ERXA2</td>\n",
              "    </tr>\n",
              "    <tr>\n",
              "      <th>2018-01-01 00:00:00+00:00</th>\n",
              "      <td>GIXA2</td>\n",
              "    </tr>\n",
              "    <tr>\n",
              "      <th>...</th>\n",
              "      <td>...</td>\n",
              "    </tr>\n",
              "    <tr>\n",
              "      <th>2025-04-01 00:00:00+00:00</th>\n",
              "      <td>SIPF1</td>\n",
              "    </tr>\n",
              "    <tr>\n",
              "      <th>2025-04-01 00:00:00+00:00</th>\n",
              "      <td>42098</td>\n",
              "    </tr>\n",
              "    <tr>\n",
              "      <th>2025-04-01 00:00:00+00:00</th>\n",
              "      <td>44095</td>\n",
              "    </tr>\n",
              "    <tr>\n",
              "      <th>2025-04-01 00:00:00+00:00</th>\n",
              "      <td>44086</td>\n",
              "    </tr>\n",
              "    <tr>\n",
              "      <th>2025-04-01 00:00:00+00:00</th>\n",
              "      <td>44089</td>\n",
              "    </tr>\n",
              "  </tbody>\n",
              "</table>\n",
              "<p>16186 rows × 1 columns</p>\n",
              "</div><br><label><b>dtype:</b> object</label>"
            ]
          },
          "metadata": {},
          "execution_count": 15
        }
      ]
    },
    {
      "cell_type": "code",
      "source": [
        "n_ioos_stn = len(df.loc[df['source']=='IOOS'].locationID.unique())"
      ],
      "metadata": {
        "id": "YNrKeq-__R4E"
      },
      "execution_count": 16,
      "outputs": []
    },
    {
      "cell_type": "markdown",
      "source": [
        "All location ID's"
      ],
      "metadata": {
        "id": "bqvUnfHQqknn"
      }
    },
    {
      "cell_type": "code",
      "source": [
        "n_all_stn = len(df.locationID.unique())\n",
        "\n",
        "n_all_stn"
      ],
      "metadata": {
        "id": "2X_r8Fz5qhjd",
        "outputId": "b8f65cb4-669c-49b6-cd2f-9dda7f9063f0",
        "colab": {
          "base_uri": "https://localhost:8080/"
        }
      },
      "execution_count": 17,
      "outputs": [
        {
          "output_type": "execute_result",
          "data": {
            "text/plain": [
              "1039"
            ]
          },
          "metadata": {},
          "execution_count": 17
        }
      ]
    },
    {
      "cell_type": "markdown",
      "source": [
        "IOOS stations represent this of the total # stations whose data are delivered by NDBC to the GTS"
      ],
      "metadata": {
        "id": "dZ59MLVgquzJ"
      }
    },
    {
      "cell_type": "code",
      "source": [
        "station_pcnt = n_ioos_stn / n_all_stn\n",
        "\n",
        "print(f'Since {first_year} IOOS regions have sent {n_ioos_stn} unique stations\\' data to the GTS through NDBC. This comprises nearly {station_pcnt*100:.2f}% of all the stations reported ({n_all_stn}) and more than one third of the NOS stations')"
      ],
      "metadata": {
        "id": "Q4_sZfpYqok5",
        "outputId": "845ee993-c9c0-46e2-9b2a-94e0acf239eb",
        "colab": {
          "base_uri": "https://localhost:8080/"
        }
      },
      "execution_count": 18,
      "outputs": [
        {
          "output_type": "stream",
          "name": "stdout",
          "text": [
            "Since 2018 IOOS regions have sent 260 unique stations' data to the GTS through NDBC. This comprises nearly 25.02% of all the stations reported (1039) and more than one third of the NOS stations\n"
          ]
        }
      ]
    },
    {
      "cell_type": "markdown",
      "source": [
        "Focusing on station platform counts (260, I believe) - Can you compute what % that is of the total delivered by NDBC to the GTS? (I didn't notice if you identify the total # stations anywhere).\n",
        "\n",
        "So, we can say \"IOOS stations represent x% of the total # stations whose data are delivered by NDBC to the GTS\""
      ],
      "metadata": {
        "id": "bOoSIKzamDkd"
      }
    },
    {
      "cell_type": "code",
      "source": [
        "ioos_ndbc_non_NDBC = yearly_totals.loc['IOOS'] + yearly_totals.loc['NDBC'] + yearly_totals.loc['non-NDBC']\n",
        "\n",
        "yearly_totals.loc['IOOS','total'].sum() / ioos_ndbc_non_NDBC['total'].sum()"
      ],
      "metadata": {
        "id": "O0lPp2EfmaTC",
        "outputId": "4de67c72-7dea-4a47-9755-ce2d78e0e75e",
        "colab": {
          "base_uri": "https://localhost:8080/"
        }
      },
      "execution_count": 19,
      "outputs": [
        {
          "output_type": "execute_result",
          "data": {
            "text/plain": [
              "np.float64(0.1686408251040608)"
            ]
          },
          "metadata": {},
          "execution_count": 19
        }
      ]
    },
    {
      "cell_type": "markdown",
      "source": [
        "# Total number of sponsors submitting data to the GTS via IOOS Regions"
      ],
      "metadata": {
        "id": "aLqg-WfXA9pM"
      }
    },
    {
      "cell_type": "code",
      "source": [
        "df.loc[df['source']=='IOOS'].sponsor"
      ],
      "metadata": {
        "id": "DmFEKp6lBxKQ",
        "outputId": "5bfe949c-1151-42fc-ef0e-63bbe40aae54",
        "colab": {
          "base_uri": "https://localhost:8080/",
          "height": 490
        }
      },
      "execution_count": 20,
      "outputs": [
        {
          "output_type": "execute_result",
          "data": {
            "text/plain": [
              "time (UTC)\n",
              "2018-01-01 00:00:00+00:00                      ALASKA OCEAN OBSERVING SYSTEM\n",
              "2018-01-01 00:00:00+00:00                          MARINE EXCHANGE OF ALASKA\n",
              "2018-01-01 00:00:00+00:00                          MARINE EXCHANGE OF ALASKA\n",
              "2018-01-01 00:00:00+00:00                          MARINE EXCHANGE OF ALASKA\n",
              "2018-01-01 00:00:00+00:00                          MARINE EXCHANGE OF ALASKA\n",
              "                                                  ...                       \n",
              "2025-04-01 00:00:00+00:00                    FLORIDA INSTITUTE OF TECHNOLOGY\n",
              "2025-04-01 00:00:00+00:00    GREATER TAMPA BAY MARINE ADVISORY COUNCIL PORTS\n",
              "2025-04-01 00:00:00+00:00       UNIVERSITY OF NORTH CAROLINA COASTAL STUDIES\n",
              "2025-04-01 00:00:00+00:00       UNIVERSITY OF NORTH CAROLINA COASTAL STUDIES\n",
              "2025-04-01 00:00:00+00:00                       U.S. ARMY CORPS OF ENGINEERS\n",
              "Name: sponsor, Length: 16186, dtype: object"
            ],
            "text/html": [
              "<div>\n",
              "<style scoped>\n",
              "    .dataframe tbody tr th:only-of-type {\n",
              "        vertical-align: middle;\n",
              "    }\n",
              "\n",
              "    .dataframe tbody tr th {\n",
              "        vertical-align: top;\n",
              "    }\n",
              "\n",
              "    .dataframe thead th {\n",
              "        text-align: right;\n",
              "    }\n",
              "</style>\n",
              "<table border=\"1\" class=\"dataframe\">\n",
              "  <thead>\n",
              "    <tr style=\"text-align: right;\">\n",
              "      <th></th>\n",
              "      <th>sponsor</th>\n",
              "    </tr>\n",
              "    <tr>\n",
              "      <th>time (UTC)</th>\n",
              "      <th></th>\n",
              "    </tr>\n",
              "  </thead>\n",
              "  <tbody>\n",
              "    <tr>\n",
              "      <th>2018-01-01 00:00:00+00:00</th>\n",
              "      <td>ALASKA OCEAN OBSERVING SYSTEM</td>\n",
              "    </tr>\n",
              "    <tr>\n",
              "      <th>2018-01-01 00:00:00+00:00</th>\n",
              "      <td>MARINE EXCHANGE OF ALASKA</td>\n",
              "    </tr>\n",
              "    <tr>\n",
              "      <th>2018-01-01 00:00:00+00:00</th>\n",
              "      <td>MARINE EXCHANGE OF ALASKA</td>\n",
              "    </tr>\n",
              "    <tr>\n",
              "      <th>2018-01-01 00:00:00+00:00</th>\n",
              "      <td>MARINE EXCHANGE OF ALASKA</td>\n",
              "    </tr>\n",
              "    <tr>\n",
              "      <th>2018-01-01 00:00:00+00:00</th>\n",
              "      <td>MARINE EXCHANGE OF ALASKA</td>\n",
              "    </tr>\n",
              "    <tr>\n",
              "      <th>...</th>\n",
              "      <td>...</td>\n",
              "    </tr>\n",
              "    <tr>\n",
              "      <th>2025-04-01 00:00:00+00:00</th>\n",
              "      <td>FLORIDA INSTITUTE OF TECHNOLOGY</td>\n",
              "    </tr>\n",
              "    <tr>\n",
              "      <th>2025-04-01 00:00:00+00:00</th>\n",
              "      <td>GREATER TAMPA BAY MARINE ADVISORY COUNCIL PORTS</td>\n",
              "    </tr>\n",
              "    <tr>\n",
              "      <th>2025-04-01 00:00:00+00:00</th>\n",
              "      <td>UNIVERSITY OF NORTH CAROLINA COASTAL STUDIES</td>\n",
              "    </tr>\n",
              "    <tr>\n",
              "      <th>2025-04-01 00:00:00+00:00</th>\n",
              "      <td>UNIVERSITY OF NORTH CAROLINA COASTAL STUDIES</td>\n",
              "    </tr>\n",
              "    <tr>\n",
              "      <th>2025-04-01 00:00:00+00:00</th>\n",
              "      <td>U.S. ARMY CORPS OF ENGINEERS</td>\n",
              "    </tr>\n",
              "  </tbody>\n",
              "</table>\n",
              "<p>16186 rows × 1 columns</p>\n",
              "</div><br><label><b>dtype:</b> object</label>"
            ]
          },
          "metadata": {},
          "execution_count": 20
        }
      ]
    },
    {
      "cell_type": "code",
      "source": [
        "len(df.loc[df['source']=='IOOS'].sponsor.unique())"
      ],
      "metadata": {
        "id": "NzHz6NWwASjd",
        "outputId": "71f09799-a753-48a7-ecb0-a8c6d2b49563",
        "colab": {
          "base_uri": "https://localhost:8080/"
        }
      },
      "execution_count": 21,
      "outputs": [
        {
          "output_type": "execute_result",
          "data": {
            "text/plain": [
              "47"
            ]
          },
          "metadata": {},
          "execution_count": 21
        }
      ]
    },
    {
      "cell_type": "markdown",
      "source": [
        "# Average number of messages (met+wave) per year\n",
        "\n",
        "For all the years, including 2025"
      ],
      "metadata": {
        "id": "zIS5yD1mb5XV"
      }
    },
    {
      "cell_type": "code",
      "source": [
        "print(df.groupby(by=[\"source\", pd.Grouper(freq=\"YE\")])[['met','wave']].sum().loc['IOOS'].mean().to_markdown(floatfmt=''))\n",
        "print(df.groupby(by=[\"source\", pd.Grouper(freq=\"YE\")])[['met','wave']].sum().loc['IOOS'].mean().sum())"
      ],
      "metadata": {
        "id": "HWRbvzvQBNHa",
        "outputId": "d41f043c-aa69-4c97-a14f-44a8a3cb1a4b",
        "colab": {
          "base_uri": "https://localhost:8080/"
        }
      },
      "execution_count": 22,
      "outputs": [
        {
          "output_type": "stream",
          "name": "stdout",
          "text": [
            "|      |           0 |\n",
            "|:-----|------------:|\n",
            "| met  | 10380856.75 |\n",
            "| wave |  1486313.75 |\n",
            "11867170.5\n"
          ]
        }
      ]
    },
    {
      "cell_type": "markdown",
      "source": [
        "for 2018-2024, since 2025 is only through March."
      ],
      "metadata": {
        "id": "04boOmYDe-rj"
      }
    },
    {
      "cell_type": "code",
      "source": [
        "print(df.groupby(by=[\"source\", pd.Grouper(freq=\"YE\")])[['met','wave']].sum().loc['IOOS'].loc[:\"2024\"].mean().to_markdown(floatfmt=''))\n",
        "print(df.groupby(by=[\"source\", pd.Grouper(freq=\"YE\")])[['met','wave']].sum().loc['IOOS'].loc[:\"2024\"].mean().sum())\n",
        "avg = df.groupby(by=[\"source\", pd.Grouper(freq=\"YE\")])[['met','wave']].sum().loc['IOOS'].loc[:\"2024\"].mean().sum()\n",
        "\n",
        "print(f'On average, IOOS regions submit a total of {avg:.2f} (~13 million!) messages per year to the GTS.')"
      ],
      "metadata": {
        "id": "Y5DbGOIId2ED",
        "outputId": "7bae14a5-5e70-44d0-e490-02e723ee89b2",
        "colab": {
          "base_uri": "https://localhost:8080/"
        }
      },
      "execution_count": 23,
      "outputs": [
        {
          "output_type": "stream",
          "name": "stdout",
          "text": [
            "|      |                   0 |\n",
            "|:-----|--------------------:|\n",
            "| met  | 11299304.285714285  |\n",
            "| wave |  1632791.4285714286 |\n",
            "12932095.714285715\n",
            "On average, IOOS regions submit a total of 12932095.71 (~13 million!) messages per year to the GTS.\n"
          ]
        }
      ]
    },
    {
      "cell_type": "markdown",
      "source": [
        "## Total number of stations"
      ],
      "metadata": {
        "id": "Le56eL8LpEZV"
      }
    },
    {
      "cell_type": "code",
      "source": [
        "print(len(df.locationID.unique()))\n",
        "\n",
        "print(df.locationID.unique())"
      ],
      "metadata": {
        "id": "Vg2-Pn9NdW56",
        "outputId": "c48fdeca-6e34-425c-9d8d-cbafbda1531c",
        "colab": {
          "base_uri": "https://localhost:8080/"
        }
      },
      "execution_count": 24,
      "outputs": [
        {
          "output_type": "stream",
          "name": "stdout",
          "text": [
            "1039\n",
            "['46108' 'AJXA2' 'CDXA2' ... '46236' '42354' 'CXLM2']\n"
          ]
        }
      ]
    },
    {
      "cell_type": "code",
      "source": [
        "260/1039"
      ],
      "metadata": {
        "id": "2CBSmqNJpLP1",
        "outputId": "82d7ae97-478e-41d3-c3ad-2076afc99d85",
        "colab": {
          "base_uri": "https://localhost:8080/"
        }
      },
      "execution_count": 25,
      "outputs": [
        {
          "output_type": "execute_result",
          "data": {
            "text/plain": [
              "0.2502406159769009"
            ]
          },
          "metadata": {},
          "execution_count": 25
        }
      ]
    },
    {
      "cell_type": "code",
      "source": [
        "df.locationID"
      ],
      "metadata": {
        "id": "m-oa1lgwpr-E",
        "outputId": "03d0d0fb-272f-4f46-fd19-a54b33d830c4",
        "colab": {
          "base_uri": "https://localhost:8080/",
          "height": 490
        }
      },
      "execution_count": 26,
      "outputs": [
        {
          "output_type": "execute_result",
          "data": {
            "text/plain": [
              "time (UTC)\n",
              "2018-01-01 00:00:00+00:00    46108\n",
              "2018-01-01 00:00:00+00:00    AJXA2\n",
              "2018-01-01 00:00:00+00:00    CDXA2\n",
              "2018-01-01 00:00:00+00:00    ERXA2\n",
              "2018-01-01 00:00:00+00:00    GIXA2\n",
              "                             ...  \n",
              "2025-04-01 00:00:00+00:00    OCSM2\n",
              "2025-04-01 00:00:00+00:00    44097\n",
              "2025-04-01 00:00:00+00:00    FRFN7\n",
              "2025-04-01 00:00:00+00:00    44100\n",
              "2025-04-01 00:00:00+00:00    32012\n",
              "Name: locationID, Length: 75199, dtype: object"
            ],
            "text/html": [
              "<div>\n",
              "<style scoped>\n",
              "    .dataframe tbody tr th:only-of-type {\n",
              "        vertical-align: middle;\n",
              "    }\n",
              "\n",
              "    .dataframe tbody tr th {\n",
              "        vertical-align: top;\n",
              "    }\n",
              "\n",
              "    .dataframe thead th {\n",
              "        text-align: right;\n",
              "    }\n",
              "</style>\n",
              "<table border=\"1\" class=\"dataframe\">\n",
              "  <thead>\n",
              "    <tr style=\"text-align: right;\">\n",
              "      <th></th>\n",
              "      <th>locationID</th>\n",
              "    </tr>\n",
              "    <tr>\n",
              "      <th>time (UTC)</th>\n",
              "      <th></th>\n",
              "    </tr>\n",
              "  </thead>\n",
              "  <tbody>\n",
              "    <tr>\n",
              "      <th>2018-01-01 00:00:00+00:00</th>\n",
              "      <td>46108</td>\n",
              "    </tr>\n",
              "    <tr>\n",
              "      <th>2018-01-01 00:00:00+00:00</th>\n",
              "      <td>AJXA2</td>\n",
              "    </tr>\n",
              "    <tr>\n",
              "      <th>2018-01-01 00:00:00+00:00</th>\n",
              "      <td>CDXA2</td>\n",
              "    </tr>\n",
              "    <tr>\n",
              "      <th>2018-01-01 00:00:00+00:00</th>\n",
              "      <td>ERXA2</td>\n",
              "    </tr>\n",
              "    <tr>\n",
              "      <th>2018-01-01 00:00:00+00:00</th>\n",
              "      <td>GIXA2</td>\n",
              "    </tr>\n",
              "    <tr>\n",
              "      <th>...</th>\n",
              "      <td>...</td>\n",
              "    </tr>\n",
              "    <tr>\n",
              "      <th>2025-04-01 00:00:00+00:00</th>\n",
              "      <td>OCSM2</td>\n",
              "    </tr>\n",
              "    <tr>\n",
              "      <th>2025-04-01 00:00:00+00:00</th>\n",
              "      <td>44097</td>\n",
              "    </tr>\n",
              "    <tr>\n",
              "      <th>2025-04-01 00:00:00+00:00</th>\n",
              "      <td>FRFN7</td>\n",
              "    </tr>\n",
              "    <tr>\n",
              "      <th>2025-04-01 00:00:00+00:00</th>\n",
              "      <td>44100</td>\n",
              "    </tr>\n",
              "    <tr>\n",
              "      <th>2025-04-01 00:00:00+00:00</th>\n",
              "      <td>32012</td>\n",
              "    </tr>\n",
              "  </tbody>\n",
              "</table>\n",
              "<p>75199 rows × 1 columns</p>\n",
              "</div><br><label><b>dtype:</b> object</label>"
            ]
          },
          "metadata": {},
          "execution_count": 26
        }
      ]
    },
    {
      "cell_type": "markdown",
      "source": [
        "\"IOOS contributes the largest number of NOS platforms to the GTS.\" For the latter, we'd need to identify \"NOS\" (not to confuse with an earlier comment in a different issue about defining NOS, in which case I was equating NOS with CO-OPS based on the non-NDBC report labels). In this case,\n",
        "1. NOS = IOOS-regional (all) + non-NDBC (National ocean service, NOAA NOS PORTS, CBIBS, and NERRS.)\n",
        "\n",
        "2. Perhaps add another condition where if there are 0s for stations, then omit from the station count?\n",
        "\n",
        "3. And constrain the station count to only the Calendar Year 2024."
      ],
      "metadata": {
        "id": "OULOJE6QswLN"
      }
    },
    {
      "cell_type": "code",
      "source": [
        "non_ndbc_nos_list = ['CHESAPEAKE BAY INTERPRETIVE BUOY SYSTEM',\n",
        "'NATIONAL ESTUARINE RESEARCH RESERVE SYSTEM',\n",
        "'NATIONAL OCEAN SERVICE',\n",
        "'NOAA NOS PHYSICAL OCEANOGRAPHIC RT SYSTEM PROGRAM']\n",
        "\n",
        "df_non_ndbc = df.loc[df['source']=='non-NDBC']\n",
        "\n",
        "nos = df_non_ndbc[df_non_ndbc['sponsor'].isin(non_ndbc_nos_list)]\n",
        "print('total NOS:',len(nos))\n",
        "condition = (nos['met'] ==0) & (nos['wave']==0)\n",
        "print('NOS empty',len(condition.loc[condition]))\n",
        "nos = nos[~condition]\n",
        "print('total NOS-empty:',len(nos))\n",
        "\n",
        "\n",
        "ioos = df.loc[df['source']=='IOOS']\n",
        "print('total IOOS:',len(ioos))\n",
        "condition = (ioos['met'] ==0) & (ioos['wave']==0)\n",
        "print('IOOS empty',len(condition.loc[condition]))\n",
        "ioos = ioos[~condition]\n",
        "print('total IOOS-empty:',len(ioos))\n",
        "\n",
        "ioos_platform_count = len(ioos.locationID.unique())\n",
        "nos_platform_count = len(nos.locationID.unique())\n",
        "\n",
        "print(f'{ioos_platform_count} / {nos_platform_count + ioos_platform_count} = **{(ioos_platform_count/(nos_platform_count+ioos_platform_count))*100:.2f}%**')"
      ],
      "metadata": {
        "id": "pvC6itDgqQ5r",
        "outputId": "53e6f8f9-9c90-4867-9da4-d6e1c51fe9d6",
        "colab": {
          "base_uri": "https://localhost:8080/"
        }
      },
      "execution_count": 27,
      "outputs": [
        {
          "output_type": "stream",
          "name": "stdout",
          "text": [
            "total NOS: 28523\n",
            "NOS empty 2627\n",
            "total NOS-empty: 25896\n",
            "total IOOS: 16186\n",
            "IOOS empty 3638\n",
            "total IOOS-empty: 12548\n",
            "237 / 575 = **41.22%**\n"
          ]
        }
      ]
    },
    {
      "cell_type": "code",
      "source": [
        "ioos = df.loc[df['source']=='IOOS']\n",
        "ioos.loc[condition]['locationID'].unique()"
      ],
      "metadata": {
        "id": "bQ2VrBZtuIUD",
        "outputId": "ed516410-bb1d-491b-c2b1-5e23fed392ef",
        "colab": {
          "base_uri": "https://localhost:8080/"
        }
      },
      "execution_count": 28,
      "outputs": [
        {
          "output_type": "execute_result",
          "data": {
            "text/plain": [
              "array(['MRNA2', '41058', '41115', 'IMGP4', 'PTRP4', 'AUDP4', 'FRDP4',\n",
              "       'VQSP4', 'YABP4', 'CQUC1', 'HBXC1', 'MYXC1', 'TDPC1', 'MBXC1',\n",
              "       'BDXC1', 'FPXC1', 'GRBL1', '42043', '42046', '42047', 'LYBT2',\n",
              "       '42067', '45179', '46246', 'DMNO3', '46118', '46119', '46128',\n",
              "       '46121', '46122', '46123', '46125', '44024', '51203', '51204',\n",
              "       '51207', '52211', '42023', 'BGCF1', 'MLSC1', '44022', '44040',\n",
              "       '44034', 'ARPF1', '51201', '42044', '42045', '46096', '51208',\n",
              "       'GIXA2', '46124', '46120', 'OKSI2', '45177', '52202', '45023',\n",
              "       '45020', '45028', '51206', 'SSBN7', 'CDXA2', 'MBLA1', '52201',\n",
              "       '44039', '45167', '51205', '41052', 'JAKI2', 'FSTI2', '45187',\n",
              "       '45014', 'RLIT2', '45022', '45024', 'BSCA1', '46108', '51213',\n",
              "       'MRSL1', '44095', 'SPLL1', '41033', 'AROP4', 'LDLC3', '45170',\n",
              "       'KATA1', 'CRTA1', 'PPTA1', 'MHPA1', '45025', '52200', 'AJXA2',\n",
              "       '41037', 'TWCO1', 'ERXA2', '44037', '41064', '51202', '51210',\n",
              "       'SIPF1', '45176', 'CPXC1', 'NLXA2', 'TPXA2', 'ICYA2', 'PGXA2',\n",
              "       '44098', 'CLBF1', '41056', '41159', '44073', 'CMLN3', '41108',\n",
              "       '42026', '41065', '41076', '45186', 'WCXA2', '41121', 'TIBC1',\n",
              "       '44033', '41029', '41110', 'PPXA2', 'PCXA2', 'GRIM4', 'SGNT2',\n",
              "       '52212', '45194', 'AKXA2', 'WRXA2', '41066', '51209', '52213',\n",
              "       '41068', 'MIXA2', '41069', '52214', '42022', 'SHPF1', '45175',\n",
              "       'FHPF1', 'SVXA2'], dtype=object)"
            ]
          },
          "metadata": {},
          "execution_count": 28
        }
      ]
    },
    {
      "cell_type": "code",
      "source": [
        "ioos = df.loc[df['source']=='IOOS']\n",
        "#len(ioos.loc[(ioos['total_messages']!=0)].locationID.unique())"
      ],
      "metadata": {
        "id": "fk69rGIX0oip"
      },
      "execution_count": 30,
      "outputs": []
    },
    {
      "cell_type": "code",
      "source": [
        "for loc in nos.locationID.unique():\n",
        "  if len(nos.loc[nos['locationID']==loc].source.unique()) >1:\n",
        "    print(loc,nos.loc[nos['locationID']==loc].source.unique())"
      ],
      "metadata": {
        "id": "6XATPDIQhZLq"
      },
      "execution_count": 31,
      "outputs": []
    },
    {
      "cell_type": "code",
      "source": [
        "count = 0\n",
        "for sponsor in non_ndbc_nos_list:\n",
        "  length = len(nos.loc[nos['sponsor']==sponsor].locationID.unique())\n",
        "  print(f'{sponsor}: {length}')\n",
        "  count = count + length\n",
        "\n",
        "print(f'Total = {count}')\n",
        "print(f'Total w/ IOOS = {count+ioos_platform_count}')\n",
        "#len(nos.loc[nos['sponsor']=='CHESAPEAKE BAY INTERPRETIVE BUOY SYSTEM'].locationID.unique())"
      ],
      "metadata": {
        "id": "aVOgWJS78_CC",
        "outputId": "9fec100d-d4e7-4f93-d151-c04e8d9932e1",
        "colab": {
          "base_uri": "https://localhost:8080/"
        }
      },
      "execution_count": 32,
      "outputs": [
        {
          "output_type": "stream",
          "name": "stdout",
          "text": [
            "CHESAPEAKE BAY INTERPRETIVE BUOY SYSTEM: 8\n",
            "NATIONAL ESTUARINE RESEARCH RESERVE SYSTEM: 35\n",
            "NATIONAL OCEAN SERVICE: 283\n",
            "NOAA NOS PHYSICAL OCEANOGRAPHIC RT SYSTEM PROGRAM: 83\n",
            "Total = 409\n",
            "Total w/ IOOS = 646\n"
          ]
        }
      ]
    },
    {
      "cell_type": "code",
      "source": [
        "non_ndbc_nos_list = ['CHESAPEAKE BAY INTERPRETIVE BUOY SYSTEM',\n",
        "'NATIONAL ESTUARINE RESEARCH RESERVE SYSTEM',\n",
        "'NATIONAL OCEAN SERVICE',\n",
        "'NOAA NOS PHYSICAL OCEANOGRAPHIC RT SYSTEM PROGRAM']\n",
        "\n",
        "df_non_ndbc = df.loc[df['source']=='non-NDBC']\n",
        "#print(len(df_non_ndbc))\n",
        "\n",
        "\n",
        "filtered = df_non_ndbc[df_non_ndbc['sponsor'].isin(non_ndbc_nos_list)]\n",
        "print('total NOS:',len(filtered))\n",
        "\n",
        "nos = pd.concat([filtered,df.loc[df['source']=='IOOS']])\n",
        "print('total IOOS:',len(nos.loc[nos['source']=='IOOS']))\n",
        "\n",
        "\n",
        "# drop empty met and wave rows\n",
        "condition = (nos['met'] ==0) & (nos['wave']==0)\n",
        "\n",
        "nos = nos[~condition]\n",
        "print('total IOOS-empty:',len(nos.loc[nos['source']=='IOOS']))\n",
        "print('total NOS-empty:',len(nos.loc[nos['source']!='IOOS']))\n",
        "\n",
        "ioos_platform_count = len(nos.loc[nos['source']=='IOOS'].locationID.unique())\n",
        "nos_platform_count = len(nos.locationID.unique())\n",
        "\n",
        "print(f'{ioos_platform_count} / {nos_platform_count} = **{(ioos_platform_count/nos_platform_count)*100:.2f}%**')"
      ],
      "metadata": {
        "id": "YCJwvcXhYB0Z",
        "outputId": "67c56fdf-bd6e-4e05-a655-125b9b5c36e1",
        "colab": {
          "base_uri": "https://localhost:8080/"
        }
      },
      "execution_count": 33,
      "outputs": [
        {
          "output_type": "stream",
          "name": "stdout",
          "text": [
            "total NOS: 28523\n",
            "total IOOS: 16186\n",
            "total IOOS-empty: 12548\n",
            "total NOS-empty: 25896\n",
            "237 / 569 = **41.65%**\n"
          ]
        }
      ]
    },
    {
      "cell_type": "code",
      "source": [
        "for loc in nos.locationID.unique():\n",
        "  if len(nos.loc[nos['locationID']==loc].source.unique()) >1:\n",
        "    print(loc,nos.loc[nos['locationID']==loc].source.unique())"
      ],
      "metadata": {
        "id": "krssnibzdfBc",
        "outputId": "3450b8cb-2ee0-4ffe-d11e-aec061e09cc6",
        "colab": {
          "base_uri": "https://localhost:8080/"
        }
      },
      "execution_count": 34,
      "outputs": [
        {
          "output_type": "stream",
          "name": "stdout",
          "text": [
            "BZST2 ['non-NDBC' 'IOOS']\n",
            "EPTT2 ['non-NDBC' 'IOOS']\n",
            "MGPT2 ['non-NDBC' 'IOOS']\n",
            "TXPT2 ['non-NDBC' 'IOOS']\n",
            "FPST2 ['non-NDBC' 'IOOS']\n",
            "NUET2 ['non-NDBC' 'IOOS']\n"
          ]
        }
      ]
    },
    {
      "cell_type": "code",
      "source": [
        "nos.loc[nos['sponsor']=='NATIONAL OCEAN SERVICE'].source.unique()"
      ],
      "metadata": {
        "id": "r4lBO01PCZIH",
        "outputId": "3a0f58fc-3372-4124-c5c1-21c236dcd3b3",
        "colab": {
          "base_uri": "https://localhost:8080/"
        }
      },
      "execution_count": 35,
      "outputs": [
        {
          "output_type": "execute_result",
          "data": {
            "text/plain": [
              "array(['non-NDBC', 'IOOS'], dtype=object)"
            ]
          },
          "metadata": {},
          "execution_count": 35
        }
      ]
    },
    {
      "cell_type": "code",
      "source": [
        "len(nos.loc[nos['sponsor']=='NATIONAL ESTUARINE RESEARCH RESERVE SYSTEM'].locationID.unique())"
      ],
      "metadata": {
        "id": "WGlkvSiDBF--",
        "outputId": "a0c45321-316e-4b08-bda0-f9cfe62e4c8f",
        "colab": {
          "base_uri": "https://localhost:8080/"
        }
      },
      "execution_count": 36,
      "outputs": [
        {
          "output_type": "execute_result",
          "data": {
            "text/plain": [
              "35"
            ]
          },
          "metadata": {},
          "execution_count": 36
        }
      ]
    },
    {
      "cell_type": "code",
      "source": [
        "len(nos.loc[nos['sponsor']=='NATIONAL OCEAN SERVICE'].locationID.unique())"
      ],
      "metadata": {
        "id": "QW-uGmZvBLM1",
        "outputId": "90ca884b-31d3-4fef-c165-bf52e865eca7",
        "colab": {
          "base_uri": "https://localhost:8080/"
        }
      },
      "execution_count": 37,
      "outputs": [
        {
          "output_type": "execute_result",
          "data": {
            "text/plain": [
              "283"
            ]
          },
          "metadata": {},
          "execution_count": 37
        }
      ]
    },
    {
      "cell_type": "code",
      "source": [
        "len(nos.loc[nos['sponsor']=='NOAA NOS PHYSICAL OCEANOGRAPHIC RT SYSTEM PROGRAM'].locationID.unique())"
      ],
      "metadata": {
        "id": "o0__fXjwBqPk",
        "outputId": "6d847f9a-9a28-48b4-d152-d6467540f1fd",
        "colab": {
          "base_uri": "https://localhost:8080/"
        }
      },
      "execution_count": 38,
      "outputs": [
        {
          "output_type": "execute_result",
          "data": {
            "text/plain": [
              "83"
            ]
          },
          "metadata": {},
          "execution_count": 38
        }
      ]
    },
    {
      "cell_type": "code",
      "source": [
        "df.loc[df['source']=='non-NDBC'].sponsor.unique()"
      ],
      "metadata": {
        "id": "ZnC80pQPtPPJ",
        "outputId": "075d52b8-200b-4659-d86d-f86ced699057",
        "colab": {
          "base_uri": "https://localhost:8080/"
        }
      },
      "execution_count": 39,
      "outputs": [
        {
          "output_type": "execute_result",
          "data": {
            "text/plain": [
              "array([nan, 'BP INC.', 'EPA & MEXICAN GOVERNMENT COOPERATIVE PROGRAM',\n",
              "       'CHESAPEAKE BAY INTERPRETIVE BUOY SYSTEM',\n",
              "       'SCRIPPS WAVERIDER COASTAL DATA INFORMATION PROGRAM',\n",
              "       'EVERGLADES NATIONAL PARK', 'GREAT LAKES RESEARCH LABORATORY',\n",
              "       'INTEGRATED CORAL OBSERVING NETWORK',\n",
              "       'LOUISIANA OFFSHORE OIL PORT', 'MOSS LANDING MARINE LABORATORIES',\n",
              "       'NATIONAL ESTUARINE RESEARCH RESERVE SYSTEM',\n",
              "       'NATIONAL OCEAN SERVICE',\n",
              "       'NATIONAL PARK SERVICE - LAKE MEAD NATIONAL REC AREA',\n",
              "       'NATIONAL RENEWABLE ENERGY LABORATORY',\n",
              "       'NATIONAL WEATHER SERVICE, ALASKA REGION',\n",
              "       'NATIONAL WEATHER SERVICE, CENTRAL REGION',\n",
              "       'NATIONAL WEATHER SERVICE, EASTERN REGION',\n",
              "       'OCEAN OBSERVATORIES INITIATIVE', 'PETROBRAS', 'SHELL OIL',\n",
              "       'U.S. ARMY CORPS OF ENGINEERS',\n",
              "       'WOODS HOLE OCEANOGRAPHIC INSTITUTION', 'VERMONT EPSCOR',\n",
              "       'NATIONAL PARK SERVICES - SLEEPING BEAR DUNES',\n",
              "       'ALASKA OCEAN OBSERVING SYSTEM',\n",
              "       'SUNY PLATTSBURGH CEES / LAKE CHAMPLAIN RESEARCH INST.',\n",
              "       'UNIVERSITY OF ILLINOIS AT URBANA-CHAMPAGNE',\n",
              "       'MARINE EXCHANGE OF ALASKA',\n",
              "       'TEXAS COASTAL OCEAN OBSERVATION NETWORK', 'LIMNOTECH',\n",
              "       'USF COMPS MARINE NETWORK', 'MURPHY OIL CORP.',\n",
              "       'UNIVERSITY OF NEW HAMPSHIRE', 'STONY BROOK UNIVERSITY',\n",
              "       'NOAA NOS PHYSICAL OCEANOGRAPHIC RT SYSTEM PROGRAM',\n",
              "       'COASTAL OCEAN RESEARCH AND MONITORING PROGRAM', 'U.S. NAVY',\n",
              "       'UNIVERSITY OF NORTH CAROLINA COASTAL STUDIES',\n",
              "       'U. S. COAST GUARD',\n",
              "       'CARIBBEAN INTEGRATED COASTAL OCEAN OBSERVING SYSTEM',\n",
              "       'UNIVERSITY OF WISCONSIN AT MILWAUKEE',\n",
              "       'ILLINOIS-INDIANA SEA GRANT',\n",
              "       'COASTAL DATA INFORMATION PROGRAM/PMEL',\n",
              "       'GREAT LAKES WATER AUTHORITY', 'CLEVELAND WATER ALLIANCE',\n",
              "       'MICHIGAN TECHNICAL UNIVERSITY',\n",
              "       'COASTAL DATA INFORMATION PROGRAM/AOOS',\n",
              "       'UNIVERSITY OF MINNESOTA AT DULUTH', 'OREGON STATE',\n",
              "       'NATIONAL CENTERS FOR COASTAL OCEAN SCIENCE'], dtype=object)"
            ]
          },
          "metadata": {},
          "execution_count": 39
        }
      ]
    },
    {
      "cell_type": "code",
      "source": [
        "df_ioos = df.loc[(df['source']=='IOOS')]\n",
        "\n",
        "condition = (df_ioos['met'] ==0) & (df_ioos['wave']==0)\n",
        "\n",
        "len(df_ioos[~condition].locationID.unique())"
      ],
      "metadata": {
        "id": "FQKtGUQxufJJ",
        "outputId": "209383c4-fc60-4203-8d9e-2fefb65c299e",
        "colab": {
          "base_uri": "https://localhost:8080/"
        }
      },
      "execution_count": 40,
      "outputs": [
        {
          "output_type": "execute_result",
          "data": {
            "text/plain": [
              "237"
            ]
          },
          "metadata": {},
          "execution_count": 40
        }
      ]
    },
    {
      "cell_type": "code",
      "source": [
        "df.locationID.unique()\n",
        "\n",
        "condition = (df['met'] ==0) & (df['wave']==0)\n",
        "\n",
        "zero_obs = df[condition]\n",
        "\n",
        "no_obs_loc = []\n",
        "\n",
        "for loc in zero_obs['locationID'].unique():\n",
        "  if df.loc[(df['locationID'] == loc),'total'].any() == 0:\n",
        "    no_obs_loc.append(loc)\n",
        "    print(f'{loc} has no obs!')\n",
        "\n",
        "print(f'This many platforms do not have observations for the entire record: {len(no_obs_loc)}')"
      ],
      "metadata": {
        "id": "3PLbjUcN3mWe",
        "outputId": "f74f0b2a-056c-47fc-8a4b-dddedfccee34",
        "colab": {
          "base_uri": "https://localhost:8080/"
        }
      },
      "execution_count": 41,
      "outputs": [
        {
          "output_type": "stream",
          "name": "stdout",
          "text": [
            "41058 has no obs!\n",
            "IMGP4 has no obs!\n",
            "AUDP4 has no obs!\n",
            "FRDP4 has no obs!\n",
            "VQSP4 has no obs!\n",
            "YABP4 has no obs!\n",
            "CQUC1 has no obs!\n",
            "HBXC1 has no obs!\n",
            "MYXC1 has no obs!\n",
            "TDPC1 has no obs!\n",
            "MBXC1 has no obs!\n",
            "BDXC1 has no obs!\n",
            "FPXC1 has no obs!\n",
            "GRBL1 has no obs!\n",
            "42046 has no obs!\n",
            "LYBT2 has no obs!\n",
            "45179 has no obs!\n",
            "DMNO3 has no obs!\n",
            "46119 has no obs!\n",
            "51203 has no obs!\n",
            "51204 has no obs!\n",
            "46124 has no obs!\n",
            "PTAC1 has no obs!\n",
            "MBPA1 has no obs!\n",
            "42369 has no obs!\n",
            "42375 has no obs!\n",
            "42392 has no obs!\n",
            "42887 has no obs!\n",
            "SACV4 has no obs!\n",
            "VERV4 has no obs!\n",
            "41116 has no obs!\n",
            "44093 has no obs!\n",
            "LBRF1 has no obs!\n",
            "MUKF1 has no obs!\n",
            "42087 has no obs!\n",
            "42088 has no obs!\n",
            "42089 has no obs!\n",
            "42090 has no obs!\n",
            "BKTL1 has no obs!\n",
            "CARL1 has no obs!\n",
            "CPVM2 has no obs!\n",
            "DMSF1 has no obs!\n",
            "FRXM3 has no obs!\n",
            "GCVF1 has no obs!\n",
            "JXUF1 has no obs!\n",
            "LTJF1 has no obs!\n",
            "MCYF1 has no obs!\n",
            "OBXC1 has no obs!\n",
            "PMOA2 has no obs!\n",
            "PNLM6 has no obs!\n",
            "PRUR1 has no obs!\n",
            "PTOA1 has no obs!\n",
            "PXSC1 has no obs!\n",
            "RCYF1 has no obs!\n",
            "ULAM6 has no obs!\n",
            "WBYA1 has no obs!\n",
            "AGMW3 has no obs!\n",
            "SYWW3 has no obs!\n",
            "BARN6 has no obs!\n",
            "LMSS1 has no obs!\n",
            "GBRM6 has no obs!\n",
            "BBSF1 has no obs!\n",
            "BBNF1 has no obs!\n",
            "EFLA1 has no obs!\n",
            "This many platforms do not have observations for the entire record: 64\n"
          ]
        }
      ]
    },
    {
      "cell_type": "code",
      "source": [
        "df.loc[(df['locationID'] == 'TDPC1') & (df['total'] == 0)]"
      ],
      "metadata": {
        "id": "tGE1DivhP_yD",
        "outputId": "d1f36065-d400-417d-f22c-a6d9f00898d3",
        "colab": {
          "base_uri": "https://localhost:8080/",
          "height": 455
        }
      },
      "execution_count": 43,
      "outputs": [
        {
          "output_type": "execute_result",
          "data": {
            "text/plain": [
              "                           Year  Month locationID   region  \\\n",
              "time (UTC)                                                   \n",
              "2018-01-01 00:00:00+00:00  2018      1      TDPC1  CeNCOOS   \n",
              "2018-02-01 00:00:00+00:00  2018      2      TDPC1  CeNCOOS   \n",
              "2018-03-01 00:00:00+00:00  2018      3      TDPC1  CeNCOOS   \n",
              "2018-04-01 00:00:00+00:00  2018      4      TDPC1  CeNCOOS   \n",
              "2018-05-01 00:00:00+00:00  2018      5      TDPC1  CeNCOOS   \n",
              "...                         ...    ...        ...      ...   \n",
              "2024-12-01 00:00:00+00:00  2024     12      TDPC1  CeNCOOS   \n",
              "2025-01-01 00:00:00+00:00  2025      1      TDPC1  CeNCOOS   \n",
              "2025-02-01 00:00:00+00:00  2025      2      TDPC1  CeNCOOS   \n",
              "2025-03-01 00:00:00+00:00  2025      3      TDPC1  CeNCOOS   \n",
              "2025-04-01 00:00:00+00:00  2025      4      TDPC1  CeNCOOS   \n",
              "\n",
              "                                                                     sponsor  \\\n",
              "time (UTC)                                                                     \n",
              "2018-01-01 00:00:00+00:00  CENTRAL AND NORTHERN CALIFORNIA OCEAN OBSERVIN...   \n",
              "2018-02-01 00:00:00+00:00  CENTRAL AND NORTHERN CALIFORNIA OCEAN OBSERVIN...   \n",
              "2018-03-01 00:00:00+00:00  CENTRAL AND NORTHERN CALIFORNIA OCEAN OBSERVIN...   \n",
              "2018-04-01 00:00:00+00:00  CENTRAL AND NORTHERN CALIFORNIA OCEAN OBSERVIN...   \n",
              "2018-05-01 00:00:00+00:00  CENTRAL AND NORTHERN CALIFORNIA OCEAN OBSERVIN...   \n",
              "...                                                                      ...   \n",
              "2024-12-01 00:00:00+00:00  CENTRAL AND NORTHERN CALIFORNIA OCEAN OBSERVIN...   \n",
              "2025-01-01 00:00:00+00:00  CENTRAL AND NORTHERN CALIFORNIA OCEAN OBSERVIN...   \n",
              "2025-02-01 00:00:00+00:00  CENTRAL AND NORTHERN CALIFORNIA OCEAN OBSERVIN...   \n",
              "2025-03-01 00:00:00+00:00  CENTRAL AND NORTHERN CALIFORNIA OCEAN OBSERVIN...   \n",
              "2025-04-01 00:00:00+00:00  CENTRAL AND NORTHERN CALIFORNIA OCEAN OBSERVIN...   \n",
              "\n",
              "                           met  wave source  total  \n",
              "time (UTC)                                          \n",
              "2018-01-01 00:00:00+00:00    0     0   IOOS      0  \n",
              "2018-02-01 00:00:00+00:00    0     0   IOOS      0  \n",
              "2018-03-01 00:00:00+00:00    0     0   IOOS      0  \n",
              "2018-04-01 00:00:00+00:00    0     0   IOOS      0  \n",
              "2018-05-01 00:00:00+00:00    0     0   IOOS      0  \n",
              "...                        ...   ...    ...    ...  \n",
              "2024-12-01 00:00:00+00:00    0     0   IOOS      0  \n",
              "2025-01-01 00:00:00+00:00    0     0   IOOS      0  \n",
              "2025-02-01 00:00:00+00:00    0     0   IOOS      0  \n",
              "2025-03-01 00:00:00+00:00    0     0   IOOS      0  \n",
              "2025-04-01 00:00:00+00:00    0     0   IOOS      0  \n",
              "\n",
              "[88 rows x 9 columns]"
            ],
            "text/html": [
              "\n",
              "  <div id=\"df-90f39e7a-6d7e-44e5-9be1-4950cd0d369e\" class=\"colab-df-container\">\n",
              "    <div>\n",
              "<style scoped>\n",
              "    .dataframe tbody tr th:only-of-type {\n",
              "        vertical-align: middle;\n",
              "    }\n",
              "\n",
              "    .dataframe tbody tr th {\n",
              "        vertical-align: top;\n",
              "    }\n",
              "\n",
              "    .dataframe thead th {\n",
              "        text-align: right;\n",
              "    }\n",
              "</style>\n",
              "<table border=\"1\" class=\"dataframe\">\n",
              "  <thead>\n",
              "    <tr style=\"text-align: right;\">\n",
              "      <th></th>\n",
              "      <th>Year</th>\n",
              "      <th>Month</th>\n",
              "      <th>locationID</th>\n",
              "      <th>region</th>\n",
              "      <th>sponsor</th>\n",
              "      <th>met</th>\n",
              "      <th>wave</th>\n",
              "      <th>source</th>\n",
              "      <th>total</th>\n",
              "    </tr>\n",
              "    <tr>\n",
              "      <th>time (UTC)</th>\n",
              "      <th></th>\n",
              "      <th></th>\n",
              "      <th></th>\n",
              "      <th></th>\n",
              "      <th></th>\n",
              "      <th></th>\n",
              "      <th></th>\n",
              "      <th></th>\n",
              "      <th></th>\n",
              "    </tr>\n",
              "  </thead>\n",
              "  <tbody>\n",
              "    <tr>\n",
              "      <th>2018-01-01 00:00:00+00:00</th>\n",
              "      <td>2018</td>\n",
              "      <td>1</td>\n",
              "      <td>TDPC1</td>\n",
              "      <td>CeNCOOS</td>\n",
              "      <td>CENTRAL AND NORTHERN CALIFORNIA OCEAN OBSERVIN...</td>\n",
              "      <td>0</td>\n",
              "      <td>0</td>\n",
              "      <td>IOOS</td>\n",
              "      <td>0</td>\n",
              "    </tr>\n",
              "    <tr>\n",
              "      <th>2018-02-01 00:00:00+00:00</th>\n",
              "      <td>2018</td>\n",
              "      <td>2</td>\n",
              "      <td>TDPC1</td>\n",
              "      <td>CeNCOOS</td>\n",
              "      <td>CENTRAL AND NORTHERN CALIFORNIA OCEAN OBSERVIN...</td>\n",
              "      <td>0</td>\n",
              "      <td>0</td>\n",
              "      <td>IOOS</td>\n",
              "      <td>0</td>\n",
              "    </tr>\n",
              "    <tr>\n",
              "      <th>2018-03-01 00:00:00+00:00</th>\n",
              "      <td>2018</td>\n",
              "      <td>3</td>\n",
              "      <td>TDPC1</td>\n",
              "      <td>CeNCOOS</td>\n",
              "      <td>CENTRAL AND NORTHERN CALIFORNIA OCEAN OBSERVIN...</td>\n",
              "      <td>0</td>\n",
              "      <td>0</td>\n",
              "      <td>IOOS</td>\n",
              "      <td>0</td>\n",
              "    </tr>\n",
              "    <tr>\n",
              "      <th>2018-04-01 00:00:00+00:00</th>\n",
              "      <td>2018</td>\n",
              "      <td>4</td>\n",
              "      <td>TDPC1</td>\n",
              "      <td>CeNCOOS</td>\n",
              "      <td>CENTRAL AND NORTHERN CALIFORNIA OCEAN OBSERVIN...</td>\n",
              "      <td>0</td>\n",
              "      <td>0</td>\n",
              "      <td>IOOS</td>\n",
              "      <td>0</td>\n",
              "    </tr>\n",
              "    <tr>\n",
              "      <th>2018-05-01 00:00:00+00:00</th>\n",
              "      <td>2018</td>\n",
              "      <td>5</td>\n",
              "      <td>TDPC1</td>\n",
              "      <td>CeNCOOS</td>\n",
              "      <td>CENTRAL AND NORTHERN CALIFORNIA OCEAN OBSERVIN...</td>\n",
              "      <td>0</td>\n",
              "      <td>0</td>\n",
              "      <td>IOOS</td>\n",
              "      <td>0</td>\n",
              "    </tr>\n",
              "    <tr>\n",
              "      <th>...</th>\n",
              "      <td>...</td>\n",
              "      <td>...</td>\n",
              "      <td>...</td>\n",
              "      <td>...</td>\n",
              "      <td>...</td>\n",
              "      <td>...</td>\n",
              "      <td>...</td>\n",
              "      <td>...</td>\n",
              "      <td>...</td>\n",
              "    </tr>\n",
              "    <tr>\n",
              "      <th>2024-12-01 00:00:00+00:00</th>\n",
              "      <td>2024</td>\n",
              "      <td>12</td>\n",
              "      <td>TDPC1</td>\n",
              "      <td>CeNCOOS</td>\n",
              "      <td>CENTRAL AND NORTHERN CALIFORNIA OCEAN OBSERVIN...</td>\n",
              "      <td>0</td>\n",
              "      <td>0</td>\n",
              "      <td>IOOS</td>\n",
              "      <td>0</td>\n",
              "    </tr>\n",
              "    <tr>\n",
              "      <th>2025-01-01 00:00:00+00:00</th>\n",
              "      <td>2025</td>\n",
              "      <td>1</td>\n",
              "      <td>TDPC1</td>\n",
              "      <td>CeNCOOS</td>\n",
              "      <td>CENTRAL AND NORTHERN CALIFORNIA OCEAN OBSERVIN...</td>\n",
              "      <td>0</td>\n",
              "      <td>0</td>\n",
              "      <td>IOOS</td>\n",
              "      <td>0</td>\n",
              "    </tr>\n",
              "    <tr>\n",
              "      <th>2025-02-01 00:00:00+00:00</th>\n",
              "      <td>2025</td>\n",
              "      <td>2</td>\n",
              "      <td>TDPC1</td>\n",
              "      <td>CeNCOOS</td>\n",
              "      <td>CENTRAL AND NORTHERN CALIFORNIA OCEAN OBSERVIN...</td>\n",
              "      <td>0</td>\n",
              "      <td>0</td>\n",
              "      <td>IOOS</td>\n",
              "      <td>0</td>\n",
              "    </tr>\n",
              "    <tr>\n",
              "      <th>2025-03-01 00:00:00+00:00</th>\n",
              "      <td>2025</td>\n",
              "      <td>3</td>\n",
              "      <td>TDPC1</td>\n",
              "      <td>CeNCOOS</td>\n",
              "      <td>CENTRAL AND NORTHERN CALIFORNIA OCEAN OBSERVIN...</td>\n",
              "      <td>0</td>\n",
              "      <td>0</td>\n",
              "      <td>IOOS</td>\n",
              "      <td>0</td>\n",
              "    </tr>\n",
              "    <tr>\n",
              "      <th>2025-04-01 00:00:00+00:00</th>\n",
              "      <td>2025</td>\n",
              "      <td>4</td>\n",
              "      <td>TDPC1</td>\n",
              "      <td>CeNCOOS</td>\n",
              "      <td>CENTRAL AND NORTHERN CALIFORNIA OCEAN OBSERVIN...</td>\n",
              "      <td>0</td>\n",
              "      <td>0</td>\n",
              "      <td>IOOS</td>\n",
              "      <td>0</td>\n",
              "    </tr>\n",
              "  </tbody>\n",
              "</table>\n",
              "<p>88 rows × 9 columns</p>\n",
              "</div>\n",
              "    <div class=\"colab-df-buttons\">\n",
              "\n",
              "  <div class=\"colab-df-container\">\n",
              "    <button class=\"colab-df-convert\" onclick=\"convertToInteractive('df-90f39e7a-6d7e-44e5-9be1-4950cd0d369e')\"\n",
              "            title=\"Convert this dataframe to an interactive table.\"\n",
              "            style=\"display:none;\">\n",
              "\n",
              "  <svg xmlns=\"http://www.w3.org/2000/svg\" height=\"24px\" viewBox=\"0 -960 960 960\">\n",
              "    <path d=\"M120-120v-720h720v720H120Zm60-500h600v-160H180v160Zm220 220h160v-160H400v160Zm0 220h160v-160H400v160ZM180-400h160v-160H180v160Zm440 0h160v-160H620v160ZM180-180h160v-160H180v160Zm440 0h160v-160H620v160Z\"/>\n",
              "  </svg>\n",
              "    </button>\n",
              "\n",
              "  <style>\n",
              "    .colab-df-container {\n",
              "      display:flex;\n",
              "      gap: 12px;\n",
              "    }\n",
              "\n",
              "    .colab-df-convert {\n",
              "      background-color: #E8F0FE;\n",
              "      border: none;\n",
              "      border-radius: 50%;\n",
              "      cursor: pointer;\n",
              "      display: none;\n",
              "      fill: #1967D2;\n",
              "      height: 32px;\n",
              "      padding: 0 0 0 0;\n",
              "      width: 32px;\n",
              "    }\n",
              "\n",
              "    .colab-df-convert:hover {\n",
              "      background-color: #E2EBFA;\n",
              "      box-shadow: 0px 1px 2px rgba(60, 64, 67, 0.3), 0px 1px 3px 1px rgba(60, 64, 67, 0.15);\n",
              "      fill: #174EA6;\n",
              "    }\n",
              "\n",
              "    .colab-df-buttons div {\n",
              "      margin-bottom: 4px;\n",
              "    }\n",
              "\n",
              "    [theme=dark] .colab-df-convert {\n",
              "      background-color: #3B4455;\n",
              "      fill: #D2E3FC;\n",
              "    }\n",
              "\n",
              "    [theme=dark] .colab-df-convert:hover {\n",
              "      background-color: #434B5C;\n",
              "      box-shadow: 0px 1px 3px 1px rgba(0, 0, 0, 0.15);\n",
              "      filter: drop-shadow(0px 1px 2px rgba(0, 0, 0, 0.3));\n",
              "      fill: #FFFFFF;\n",
              "    }\n",
              "  </style>\n",
              "\n",
              "    <script>\n",
              "      const buttonEl =\n",
              "        document.querySelector('#df-90f39e7a-6d7e-44e5-9be1-4950cd0d369e button.colab-df-convert');\n",
              "      buttonEl.style.display =\n",
              "        google.colab.kernel.accessAllowed ? 'block' : 'none';\n",
              "\n",
              "      async function convertToInteractive(key) {\n",
              "        const element = document.querySelector('#df-90f39e7a-6d7e-44e5-9be1-4950cd0d369e');\n",
              "        const dataTable =\n",
              "          await google.colab.kernel.invokeFunction('convertToInteractive',\n",
              "                                                    [key], {});\n",
              "        if (!dataTable) return;\n",
              "\n",
              "        const docLinkHtml = 'Like what you see? Visit the ' +\n",
              "          '<a target=\"_blank\" href=https://colab.research.google.com/notebooks/data_table.ipynb>data table notebook</a>'\n",
              "          + ' to learn more about interactive tables.';\n",
              "        element.innerHTML = '';\n",
              "        dataTable['output_type'] = 'display_data';\n",
              "        await google.colab.output.renderOutput(dataTable, element);\n",
              "        const docLink = document.createElement('div');\n",
              "        docLink.innerHTML = docLinkHtml;\n",
              "        element.appendChild(docLink);\n",
              "      }\n",
              "    </script>\n",
              "  </div>\n",
              "\n",
              "\n",
              "    <div id=\"df-99ec8434-8e34-4aa6-9059-be771a7df043\">\n",
              "      <button class=\"colab-df-quickchart\" onclick=\"quickchart('df-99ec8434-8e34-4aa6-9059-be771a7df043')\"\n",
              "                title=\"Suggest charts\"\n",
              "                style=\"display:none;\">\n",
              "\n",
              "<svg xmlns=\"http://www.w3.org/2000/svg\" height=\"24px\"viewBox=\"0 0 24 24\"\n",
              "     width=\"24px\">\n",
              "    <g>\n",
              "        <path d=\"M19 3H5c-1.1 0-2 .9-2 2v14c0 1.1.9 2 2 2h14c1.1 0 2-.9 2-2V5c0-1.1-.9-2-2-2zM9 17H7v-7h2v7zm4 0h-2V7h2v10zm4 0h-2v-4h2v4z\"/>\n",
              "    </g>\n",
              "</svg>\n",
              "      </button>\n",
              "\n",
              "<style>\n",
              "  .colab-df-quickchart {\n",
              "      --bg-color: #E8F0FE;\n",
              "      --fill-color: #1967D2;\n",
              "      --hover-bg-color: #E2EBFA;\n",
              "      --hover-fill-color: #174EA6;\n",
              "      --disabled-fill-color: #AAA;\n",
              "      --disabled-bg-color: #DDD;\n",
              "  }\n",
              "\n",
              "  [theme=dark] .colab-df-quickchart {\n",
              "      --bg-color: #3B4455;\n",
              "      --fill-color: #D2E3FC;\n",
              "      --hover-bg-color: #434B5C;\n",
              "      --hover-fill-color: #FFFFFF;\n",
              "      --disabled-bg-color: #3B4455;\n",
              "      --disabled-fill-color: #666;\n",
              "  }\n",
              "\n",
              "  .colab-df-quickchart {\n",
              "    background-color: var(--bg-color);\n",
              "    border: none;\n",
              "    border-radius: 50%;\n",
              "    cursor: pointer;\n",
              "    display: none;\n",
              "    fill: var(--fill-color);\n",
              "    height: 32px;\n",
              "    padding: 0;\n",
              "    width: 32px;\n",
              "  }\n",
              "\n",
              "  .colab-df-quickchart:hover {\n",
              "    background-color: var(--hover-bg-color);\n",
              "    box-shadow: 0 1px 2px rgba(60, 64, 67, 0.3), 0 1px 3px 1px rgba(60, 64, 67, 0.15);\n",
              "    fill: var(--button-hover-fill-color);\n",
              "  }\n",
              "\n",
              "  .colab-df-quickchart-complete:disabled,\n",
              "  .colab-df-quickchart-complete:disabled:hover {\n",
              "    background-color: var(--disabled-bg-color);\n",
              "    fill: var(--disabled-fill-color);\n",
              "    box-shadow: none;\n",
              "  }\n",
              "\n",
              "  .colab-df-spinner {\n",
              "    border: 2px solid var(--fill-color);\n",
              "    border-color: transparent;\n",
              "    border-bottom-color: var(--fill-color);\n",
              "    animation:\n",
              "      spin 1s steps(1) infinite;\n",
              "  }\n",
              "\n",
              "  @keyframes spin {\n",
              "    0% {\n",
              "      border-color: transparent;\n",
              "      border-bottom-color: var(--fill-color);\n",
              "      border-left-color: var(--fill-color);\n",
              "    }\n",
              "    20% {\n",
              "      border-color: transparent;\n",
              "      border-left-color: var(--fill-color);\n",
              "      border-top-color: var(--fill-color);\n",
              "    }\n",
              "    30% {\n",
              "      border-color: transparent;\n",
              "      border-left-color: var(--fill-color);\n",
              "      border-top-color: var(--fill-color);\n",
              "      border-right-color: var(--fill-color);\n",
              "    }\n",
              "    40% {\n",
              "      border-color: transparent;\n",
              "      border-right-color: var(--fill-color);\n",
              "      border-top-color: var(--fill-color);\n",
              "    }\n",
              "    60% {\n",
              "      border-color: transparent;\n",
              "      border-right-color: var(--fill-color);\n",
              "    }\n",
              "    80% {\n",
              "      border-color: transparent;\n",
              "      border-right-color: var(--fill-color);\n",
              "      border-bottom-color: var(--fill-color);\n",
              "    }\n",
              "    90% {\n",
              "      border-color: transparent;\n",
              "      border-bottom-color: var(--fill-color);\n",
              "    }\n",
              "  }\n",
              "</style>\n",
              "\n",
              "      <script>\n",
              "        async function quickchart(key) {\n",
              "          const quickchartButtonEl =\n",
              "            document.querySelector('#' + key + ' button');\n",
              "          quickchartButtonEl.disabled = true;  // To prevent multiple clicks.\n",
              "          quickchartButtonEl.classList.add('colab-df-spinner');\n",
              "          try {\n",
              "            const charts = await google.colab.kernel.invokeFunction(\n",
              "                'suggestCharts', [key], {});\n",
              "          } catch (error) {\n",
              "            console.error('Error during call to suggestCharts:', error);\n",
              "          }\n",
              "          quickchartButtonEl.classList.remove('colab-df-spinner');\n",
              "          quickchartButtonEl.classList.add('colab-df-quickchart-complete');\n",
              "        }\n",
              "        (() => {\n",
              "          let quickchartButtonEl =\n",
              "            document.querySelector('#df-99ec8434-8e34-4aa6-9059-be771a7df043 button');\n",
              "          quickchartButtonEl.style.display =\n",
              "            google.colab.kernel.accessAllowed ? 'block' : 'none';\n",
              "        })();\n",
              "      </script>\n",
              "    </div>\n",
              "\n",
              "    </div>\n",
              "  </div>\n"
            ],
            "application/vnd.google.colaboratory.intrinsic+json": {
              "type": "dataframe",
              "summary": "{\n  \"name\": \"df\",\n  \"rows\": 88,\n  \"fields\": [\n    {\n      \"column\": \"time (UTC)\",\n      \"properties\": {\n        \"dtype\": \"date\",\n        \"min\": \"2018-01-01 00:00:00+00:00\",\n        \"max\": \"2025-04-01 00:00:00+00:00\",\n        \"num_unique_values\": 88,\n        \"samples\": [\n          \"2024-05-01 00:00:00+00:00\",\n          \"2018-01-01 00:00:00+00:00\",\n          \"2020-03-01 00:00:00+00:00\"\n        ],\n        \"semantic_type\": \"\",\n        \"description\": \"\"\n      }\n    },\n    {\n      \"column\": \"Year\",\n      \"properties\": {\n        \"dtype\": \"number\",\n        \"std\": 2,\n        \"min\": 2018,\n        \"max\": 2025,\n        \"num_unique_values\": 8,\n        \"samples\": [\n          2019,\n          2023,\n          2018\n        ],\n        \"semantic_type\": \"\",\n        \"description\": \"\"\n      }\n    },\n    {\n      \"column\": \"Month\",\n      \"properties\": {\n        \"dtype\": \"number\",\n        \"std\": 3,\n        \"min\": 1,\n        \"max\": 12,\n        \"num_unique_values\": 12,\n        \"samples\": [\n          11,\n          10,\n          1\n        ],\n        \"semantic_type\": \"\",\n        \"description\": \"\"\n      }\n    },\n    {\n      \"column\": \"locationID\",\n      \"properties\": {\n        \"dtype\": \"category\",\n        \"num_unique_values\": 1,\n        \"samples\": [\n          \"TDPC1\"\n        ],\n        \"semantic_type\": \"\",\n        \"description\": \"\"\n      }\n    },\n    {\n      \"column\": \"region\",\n      \"properties\": {\n        \"dtype\": \"category\",\n        \"num_unique_values\": 1,\n        \"samples\": [\n          \"CeNCOOS\"\n        ],\n        \"semantic_type\": \"\",\n        \"description\": \"\"\n      }\n    },\n    {\n      \"column\": \"sponsor\",\n      \"properties\": {\n        \"dtype\": \"category\",\n        \"num_unique_values\": 1,\n        \"samples\": [\n          \"CENTRAL AND NORTHERN CALIFORNIA OCEAN OBSERVING SYSTEM\"\n        ],\n        \"semantic_type\": \"\",\n        \"description\": \"\"\n      }\n    },\n    {\n      \"column\": \"met\",\n      \"properties\": {\n        \"dtype\": \"number\",\n        \"std\": 0,\n        \"min\": 0,\n        \"max\": 0,\n        \"num_unique_values\": 1,\n        \"samples\": [\n          0\n        ],\n        \"semantic_type\": \"\",\n        \"description\": \"\"\n      }\n    },\n    {\n      \"column\": \"wave\",\n      \"properties\": {\n        \"dtype\": \"number\",\n        \"std\": 0,\n        \"min\": 0,\n        \"max\": 0,\n        \"num_unique_values\": 1,\n        \"samples\": [\n          0\n        ],\n        \"semantic_type\": \"\",\n        \"description\": \"\"\n      }\n    },\n    {\n      \"column\": \"source\",\n      \"properties\": {\n        \"dtype\": \"category\",\n        \"num_unique_values\": 1,\n        \"samples\": [\n          \"IOOS\"\n        ],\n        \"semantic_type\": \"\",\n        \"description\": \"\"\n      }\n    },\n    {\n      \"column\": \"total\",\n      \"properties\": {\n        \"dtype\": \"number\",\n        \"std\": 0,\n        \"min\": 0,\n        \"max\": 0,\n        \"num_unique_values\": 1,\n        \"samples\": [\n          0\n        ],\n        \"semantic_type\": \"\",\n        \"description\": \"\"\n      }\n    }\n  ]\n}"
            }
          },
          "metadata": {},
          "execution_count": 43
        }
      ]
    },
    {
      "cell_type": "markdown",
      "source": [
        "To confirm that number, here we search for each of those platform IDs and calculate some statistics. If the statistics are all zero for `met`, `wave`, and `total`, then we don't have observations for all those platforms."
      ],
      "metadata": {
        "id": "IoW7xacdN1e3"
      }
    },
    {
      "cell_type": "code",
      "source": [
        "len(df.loc[(df['locationID'].isin(no_obs_loc)) & (df.index>='2024-01-01') & (df.index<='2024-12-31') & (df['source'] == 'IOOS')].locationID.unique())"
      ],
      "metadata": {
        "id": "Av5O0nIcMwqQ",
        "outputId": "b138ed97-2ff9-44c3-819c-e554742749d9",
        "colab": {
          "base_uri": "https://localhost:8080/"
        }
      },
      "execution_count": 44,
      "outputs": [
        {
          "output_type": "execute_result",
          "data": {
            "text/plain": [
              "15"
            ]
          },
          "metadata": {},
          "execution_count": 44
        }
      ]
    },
    {
      "cell_type": "code",
      "source": [
        "df.to_csv('gts_metrics.csv', index=False)"
      ],
      "metadata": {
        "id": "UjhfYofL7zzW"
      },
      "execution_count": 47,
      "outputs": []
    },
    {
      "cell_type": "markdown",
      "source": [
        "# From Gemini\n",
        "\n",
        "Prompt:\n",
        "1. ```Can you write a few statements about the importance of the data sourced from IOOS in relation to the entire dataset?```\n",
        "2. ``` What about framing it around the total number of messages sent to the GTS by each source? ```\n"
      ],
      "metadata": {
        "id": "bGiN-lp0P_U-"
      }
    },
    {
      "cell_type": "code",
      "source": [
        "# Create the 'total_messages' column\n",
        "df['total_messages'] = df['met'] + df['wave']\n",
        "\n",
        "# Group by source and sum 'total_messages'\n",
        "messages_by_source = df.groupby('source')['total_messages'].sum().reset_index()\n",
        "\n",
        "# Calculate the grand total of messages\n",
        "grand_total_messages = messages_by_source['total_messages'].sum()\n",
        "\n",
        "# Calculate the percentage for each source\n",
        "messages_by_source['percentage'] = (messages_by_source['total_messages'] / grand_total_messages) * 100\n",
        "\n",
        "# Sort by total messages descending for better presentation\n",
        "messages_by_source = messages_by_source.sort_values(by='total_messages', ascending=False)\n",
        "\n",
        "# Print the results\n",
        "print(\"Total Messages Sent to GTS (met + wave) by Source:\")\n",
        "print(messages_by_source.to_markdown(index=False, numalign=\"left\", stralign=\"left\", floatfmt=\".2f\"))\n",
        "\n",
        "# Store the IOOS percentage for easy reference in the text\n",
        "ioos_percentage = messages_by_source.loc[messages_by_source['source'] == 'IOOS', 'percentage'].iloc[0]\n",
        "ioos_total_messages = messages_by_source.loc[messages_by_source['source'] == 'IOOS', 'total_messages'].iloc[0]\n",
        "non_ndbc_total_messages = messages_by_source.loc[messages_by_source['source'] == 'non-NDBC', 'total_messages'].iloc[0]"
      ],
      "metadata": {
        "id": "b7s9L27lTfBb",
        "outputId": "723fe1e6-988e-4808-c3a4-089e28f23dcd",
        "colab": {
          "base_uri": "https://localhost:8080/"
        }
      },
      "execution_count": 48,
      "outputs": [
        {
          "output_type": "stream",
          "name": "stdout",
          "text": [
            "Total Messages Sent to GTS (met + wave) by Source:\n",
            "| source   | total_messages   | percentage   |\n",
            "|:---------|:-----------------|:-------------|\n",
            "| non-NDBC | 395274410        | 70.21        |\n",
            "| IOOS     | 94937364         | 16.86        |\n",
            "| NDBC     | 72744224         | 12.92        |\n"
          ]
        }
      ]
    },
    {
      "cell_type": "markdown",
      "source": [
        "3. ```Can you also frame it around source and platformID?```"
      ],
      "metadata": {
        "id": "K0Ki9aRdTj25"
      }
    },
    {
      "cell_type": "code",
      "source": [
        "# Assuming 'platformID' refers to the 'locationID' column as 'platformID' does not exist in the data.\n",
        "# Group by source and count unique locationIDs\n",
        "locations_per_source = df.groupby('source')['locationID'].nunique().reset_index()\n",
        "locations_per_source = locations_per_source.rename(columns={'locationID': 'unique_locations'})\n",
        "\n",
        "# Merge this with the previously calculated messages_by_source DataFrame\n",
        "# (Reload messages_by_source calculation for robustness in case kernel state changed)\n",
        "df['total_messages'] = df['met'] + df['wave']\n",
        "messages_by_source = df.groupby('source')['total_messages'].sum().reset_index()\n",
        "source_summary = pd.merge(messages_by_source, locations_per_source, on='source')\n",
        "\n",
        "# Calculate average messages per location for each source\n",
        "source_summary['avg_messages_per_location'] = source_summary['total_messages'] / source_summary['unique_locations']\n",
        "\n",
        "# Sort by total messages descending\n",
        "source_summary = source_summary.sort_values(by='total_messages', ascending=False)\n",
        "\n",
        "# Print the summary table\n",
        "print(\"Summary by Source (including LocationID count and Avg Messages):\")\n",
        "# Displaying integer values for messages for clarity\n",
        "print(source_summary.to_markdown(index=False, numalign=\"left\", stralign=\"left\", floatfmt=\",.0f\"))"
      ],
      "metadata": {
        "id": "mIJxL-mO1_bm",
        "outputId": "b8196244-e10a-4ea9-d50d-eb263209bb37",
        "colab": {
          "base_uri": "https://localhost:8080/"
        }
      },
      "execution_count": 49,
      "outputs": [
        {
          "output_type": "stream",
          "name": "stdout",
          "text": [
            "Summary by Source (including LocationID count and Avg Messages):\n",
            "| source   | total_messages   | unique_locations   | avg_messages_per_location   |\n",
            "|:---------|:-----------------|:-------------------|:----------------------------|\n",
            "| non-NDBC | 395274410        | 676                | 584,725                     |\n",
            "| IOOS     | 94937364         | 260                | 365,144                     |\n",
            "| NDBC     | 72744224         | 155                | 469,318                     |\n"
          ]
        }
      ]
    },
    {
      "cell_type": "code",
      "source": [],
      "metadata": {
        "id": "KU0in1ATP5Qj"
      },
      "execution_count": null,
      "outputs": []
    }
  ]
}