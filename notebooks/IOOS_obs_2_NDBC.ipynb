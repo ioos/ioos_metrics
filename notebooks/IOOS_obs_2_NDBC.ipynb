{
  "nbformat": 4,
  "nbformat_minor": 0,
  "metadata": {
    "colab": {
      "provenance": [],
      "authorship_tag": "ABX9TyOJra+CDDdwUZKVFWwS1gLv",
      "include_colab_link": true
    },
    "kernelspec": {
      "name": "python3",
      "display_name": "Python 3"
    },
    "language_info": {
      "name": "python"
    }
  },
  "cells": [
    {
      "cell_type": "markdown",
      "metadata": {
        "id": "view-in-github",
        "colab_type": "text"
      },
      "source": [
        "<a href=\"https://colab.research.google.com/github/MathewBiddle/ioos_metrics/blob/yearly_ra_gts/notebooks/IOOS_obs_2_NDBC.ipynb\" target=\"_parent\"><img src=\"https://colab.research.google.com/assets/colab-badge.svg\" alt=\"Open In Colab\"/></a>"
      ]
    },
    {
      "cell_type": "code",
      "source": [
        "!pip install erddapy"
      ],
      "metadata": {
        "colab": {
          "base_uri": "https://localhost:8080/"
        },
        "id": "TsqgKMtJ5rkP",
        "outputId": "de74cb27-0b91-438c-9463-c2d09e3b048c"
      },
      "execution_count": 1,
      "outputs": [
        {
          "output_type": "stream",
          "name": "stdout",
          "text": [
            "Collecting erddapy\n",
            "  Downloading erddapy-2.2.4-py3-none-any.whl.metadata (6.7 kB)\n",
            "Requirement already satisfied: httpx>=0.25.0 in /usr/local/lib/python3.11/dist-packages (from erddapy) (0.28.1)\n",
            "Requirement already satisfied: pandas<3,>=0.25.2 in /usr/local/lib/python3.11/dist-packages (from erddapy) (2.2.2)\n",
            "Requirement already satisfied: pytz in /usr/local/lib/python3.11/dist-packages (from erddapy) (2025.2)\n",
            "Requirement already satisfied: anyio in /usr/local/lib/python3.11/dist-packages (from httpx>=0.25.0->erddapy) (4.9.0)\n",
            "Requirement already satisfied: certifi in /usr/local/lib/python3.11/dist-packages (from httpx>=0.25.0->erddapy) (2025.1.31)\n",
            "Requirement already satisfied: httpcore==1.* in /usr/local/lib/python3.11/dist-packages (from httpx>=0.25.0->erddapy) (1.0.8)\n",
            "Requirement already satisfied: idna in /usr/local/lib/python3.11/dist-packages (from httpx>=0.25.0->erddapy) (3.10)\n",
            "Requirement already satisfied: h11<0.15,>=0.13 in /usr/local/lib/python3.11/dist-packages (from httpcore==1.*->httpx>=0.25.0->erddapy) (0.14.0)\n",
            "Requirement already satisfied: numpy>=1.23.2 in /usr/local/lib/python3.11/dist-packages (from pandas<3,>=0.25.2->erddapy) (2.0.2)\n",
            "Requirement already satisfied: python-dateutil>=2.8.2 in /usr/local/lib/python3.11/dist-packages (from pandas<3,>=0.25.2->erddapy) (2.8.2)\n",
            "Requirement already satisfied: tzdata>=2022.7 in /usr/local/lib/python3.11/dist-packages (from pandas<3,>=0.25.2->erddapy) (2025.2)\n",
            "Requirement already satisfied: six>=1.5 in /usr/local/lib/python3.11/dist-packages (from python-dateutil>=2.8.2->pandas<3,>=0.25.2->erddapy) (1.17.0)\n",
            "Requirement already satisfied: sniffio>=1.1 in /usr/local/lib/python3.11/dist-packages (from anyio->httpx>=0.25.0->erddapy) (1.3.1)\n",
            "Requirement already satisfied: typing_extensions>=4.5 in /usr/local/lib/python3.11/dist-packages (from anyio->httpx>=0.25.0->erddapy) (4.13.2)\n",
            "Downloading erddapy-2.2.4-py3-none-any.whl (24 kB)\n",
            "Installing collected packages: erddapy\n",
            "Successfully installed erddapy-2.2.4\n"
          ]
        }
      ]
    },
    {
      "cell_type": "code",
      "source": [
        "import pandas as pd\n",
        "from erddapy import ERDDAP"
      ],
      "metadata": {
        "id": "3afSRocv5ywD"
      },
      "execution_count": 2,
      "outputs": []
    },
    {
      "cell_type": "markdown",
      "source": [
        "# Function to grab the data."
      ],
      "metadata": {
        "id": "Nl3phwQ0-9CY"
      }
    },
    {
      "cell_type": "code",
      "source": [
        "def get_ndbc_full_stats():\n",
        "    e = ERDDAP(\n",
        "        server=\"https://erddap.ioos.us/erddap\",\n",
        "        protocol=\"tabledap\",\n",
        "    )\n",
        "    e.response = \"csv\"\n",
        "    dsets = {\"IOOS\": \"gts_regional_statistics\",\n",
        "             \"NDBC\": \"gts_ndbc_statistics\",\n",
        "             \"non-NDBC\": \"gts_non_ndbc_statistics\"}\n",
        "    df_out = pd.DataFrame()\n",
        "    for key, value in dsets.items():\n",
        "        e.dataset_id = value\n",
        "        df = e.to_pandas(\n",
        "            index_col=\"time (UTC)\",\n",
        "            parse_dates=True\n",
        "        )\n",
        "        df[\"source\"] = key\n",
        "        df_out = pd.concat([df_out,df])\n",
        "    return df_out"
      ],
      "metadata": {
        "id": "jdZ21kc15nnB"
      },
      "execution_count": 3,
      "outputs": []
    },
    {
      "cell_type": "markdown",
      "source": [
        "# Go get the data and return the dataframe"
      ],
      "metadata": {
        "id": "_nJORFlv-_5D"
      }
    },
    {
      "cell_type": "code",
      "source": [
        "df = get_ndbc_full_stats()\n",
        "\n",
        "df['total'] = df['met'] + df['wave']\n",
        "\n",
        "df"
      ],
      "metadata": {
        "colab": {
          "base_uri": "https://localhost:8080/",
          "height": 455
        },
        "id": "zHHsvGRi6Srv",
        "outputId": "ece068ab-3e07-4815-c362-da663ad75611"
      },
      "execution_count": 4,
      "outputs": [
        {
          "output_type": "execute_result",
          "data": {
            "text/plain": [
              "                           Year  Month locationID region  \\\n",
              "time (UTC)                                                 \n",
              "2018-01-01 00:00:00+00:00  2018      1      46108   AOOS   \n",
              "2018-01-01 00:00:00+00:00  2018      1      AJXA2   AOOS   \n",
              "2018-01-01 00:00:00+00:00  2018      1      CDXA2   AOOS   \n",
              "2018-01-01 00:00:00+00:00  2018      1      ERXA2   AOOS   \n",
              "2018-01-01 00:00:00+00:00  2018      1      GIXA2   AOOS   \n",
              "...                         ...    ...        ...    ...   \n",
              "2025-03-01 00:00:00+00:00  2025      3      OCSM2    NaN   \n",
              "2025-03-01 00:00:00+00:00  2025      3      44097    NaN   \n",
              "2025-03-01 00:00:00+00:00  2025      3      FRFN7    NaN   \n",
              "2025-03-01 00:00:00+00:00  2025      3      44100    NaN   \n",
              "2025-03-01 00:00:00+00:00  2025      3      32012    NaN   \n",
              "\n",
              "                                                        sponsor   met  wave  \\\n",
              "time (UTC)                                                                    \n",
              "2018-01-01 00:00:00+00:00         ALASKA OCEAN OBSERVING SYSTEM     0  2592   \n",
              "2018-01-01 00:00:00+00:00             MARINE EXCHANGE OF ALASKA  8796     0   \n",
              "2018-01-01 00:00:00+00:00             MARINE EXCHANGE OF ALASKA  4782     0   \n",
              "2018-01-01 00:00:00+00:00             MARINE EXCHANGE OF ALASKA  5634     0   \n",
              "2018-01-01 00:00:00+00:00             MARINE EXCHANGE OF ALASKA  8798     0   \n",
              "...                                                         ...   ...   ...   \n",
              "2025-03-01 00:00:00+00:00          U.S. ARMY CORPS OF ENGINEERS     0     0   \n",
              "2025-03-01 00:00:00+00:00          U.S. ARMY CORPS OF ENGINEERS     0  2976   \n",
              "2025-03-01 00:00:00+00:00          U.S. ARMY CORPS OF ENGINEERS     0     0   \n",
              "2025-03-01 00:00:00+00:00          U.S. ARMY CORPS OF ENGINEERS     0  2976   \n",
              "2025-03-01 00:00:00+00:00  WOODS HOLE OCEANOGRAPHIC INSTITUTION     0     0   \n",
              "\n",
              "                             source  total  \n",
              "time (UTC)                                  \n",
              "2018-01-01 00:00:00+00:00      IOOS   2592  \n",
              "2018-01-01 00:00:00+00:00      IOOS   8796  \n",
              "2018-01-01 00:00:00+00:00      IOOS   4782  \n",
              "2018-01-01 00:00:00+00:00      IOOS   5634  \n",
              "2018-01-01 00:00:00+00:00      IOOS   8798  \n",
              "...                             ...    ...  \n",
              "2025-03-01 00:00:00+00:00  non-NDBC      0  \n",
              "2025-03-01 00:00:00+00:00  non-NDBC   2976  \n",
              "2025-03-01 00:00:00+00:00  non-NDBC      0  \n",
              "2025-03-01 00:00:00+00:00  non-NDBC   2976  \n",
              "2025-03-01 00:00:00+00:00  non-NDBC      0  \n",
              "\n",
              "[74309 rows x 9 columns]"
            ],
            "text/html": [
              "\n",
              "  <div id=\"df-48f9f3bd-d1ba-4de4-a2bb-af9d78339681\" class=\"colab-df-container\">\n",
              "    <div>\n",
              "<style scoped>\n",
              "    .dataframe tbody tr th:only-of-type {\n",
              "        vertical-align: middle;\n",
              "    }\n",
              "\n",
              "    .dataframe tbody tr th {\n",
              "        vertical-align: top;\n",
              "    }\n",
              "\n",
              "    .dataframe thead th {\n",
              "        text-align: right;\n",
              "    }\n",
              "</style>\n",
              "<table border=\"1\" class=\"dataframe\">\n",
              "  <thead>\n",
              "    <tr style=\"text-align: right;\">\n",
              "      <th></th>\n",
              "      <th>Year</th>\n",
              "      <th>Month</th>\n",
              "      <th>locationID</th>\n",
              "      <th>region</th>\n",
              "      <th>sponsor</th>\n",
              "      <th>met</th>\n",
              "      <th>wave</th>\n",
              "      <th>source</th>\n",
              "      <th>total</th>\n",
              "    </tr>\n",
              "    <tr>\n",
              "      <th>time (UTC)</th>\n",
              "      <th></th>\n",
              "      <th></th>\n",
              "      <th></th>\n",
              "      <th></th>\n",
              "      <th></th>\n",
              "      <th></th>\n",
              "      <th></th>\n",
              "      <th></th>\n",
              "      <th></th>\n",
              "    </tr>\n",
              "  </thead>\n",
              "  <tbody>\n",
              "    <tr>\n",
              "      <th>2018-01-01 00:00:00+00:00</th>\n",
              "      <td>2018</td>\n",
              "      <td>1</td>\n",
              "      <td>46108</td>\n",
              "      <td>AOOS</td>\n",
              "      <td>ALASKA OCEAN OBSERVING SYSTEM</td>\n",
              "      <td>0</td>\n",
              "      <td>2592</td>\n",
              "      <td>IOOS</td>\n",
              "      <td>2592</td>\n",
              "    </tr>\n",
              "    <tr>\n",
              "      <th>2018-01-01 00:00:00+00:00</th>\n",
              "      <td>2018</td>\n",
              "      <td>1</td>\n",
              "      <td>AJXA2</td>\n",
              "      <td>AOOS</td>\n",
              "      <td>MARINE EXCHANGE OF ALASKA</td>\n",
              "      <td>8796</td>\n",
              "      <td>0</td>\n",
              "      <td>IOOS</td>\n",
              "      <td>8796</td>\n",
              "    </tr>\n",
              "    <tr>\n",
              "      <th>2018-01-01 00:00:00+00:00</th>\n",
              "      <td>2018</td>\n",
              "      <td>1</td>\n",
              "      <td>CDXA2</td>\n",
              "      <td>AOOS</td>\n",
              "      <td>MARINE EXCHANGE OF ALASKA</td>\n",
              "      <td>4782</td>\n",
              "      <td>0</td>\n",
              "      <td>IOOS</td>\n",
              "      <td>4782</td>\n",
              "    </tr>\n",
              "    <tr>\n",
              "      <th>2018-01-01 00:00:00+00:00</th>\n",
              "      <td>2018</td>\n",
              "      <td>1</td>\n",
              "      <td>ERXA2</td>\n",
              "      <td>AOOS</td>\n",
              "      <td>MARINE EXCHANGE OF ALASKA</td>\n",
              "      <td>5634</td>\n",
              "      <td>0</td>\n",
              "      <td>IOOS</td>\n",
              "      <td>5634</td>\n",
              "    </tr>\n",
              "    <tr>\n",
              "      <th>2018-01-01 00:00:00+00:00</th>\n",
              "      <td>2018</td>\n",
              "      <td>1</td>\n",
              "      <td>GIXA2</td>\n",
              "      <td>AOOS</td>\n",
              "      <td>MARINE EXCHANGE OF ALASKA</td>\n",
              "      <td>8798</td>\n",
              "      <td>0</td>\n",
              "      <td>IOOS</td>\n",
              "      <td>8798</td>\n",
              "    </tr>\n",
              "    <tr>\n",
              "      <th>...</th>\n",
              "      <td>...</td>\n",
              "      <td>...</td>\n",
              "      <td>...</td>\n",
              "      <td>...</td>\n",
              "      <td>...</td>\n",
              "      <td>...</td>\n",
              "      <td>...</td>\n",
              "      <td>...</td>\n",
              "      <td>...</td>\n",
              "    </tr>\n",
              "    <tr>\n",
              "      <th>2025-03-01 00:00:00+00:00</th>\n",
              "      <td>2025</td>\n",
              "      <td>3</td>\n",
              "      <td>OCSM2</td>\n",
              "      <td>NaN</td>\n",
              "      <td>U.S. ARMY CORPS OF ENGINEERS</td>\n",
              "      <td>0</td>\n",
              "      <td>0</td>\n",
              "      <td>non-NDBC</td>\n",
              "      <td>0</td>\n",
              "    </tr>\n",
              "    <tr>\n",
              "      <th>2025-03-01 00:00:00+00:00</th>\n",
              "      <td>2025</td>\n",
              "      <td>3</td>\n",
              "      <td>44097</td>\n",
              "      <td>NaN</td>\n",
              "      <td>U.S. ARMY CORPS OF ENGINEERS</td>\n",
              "      <td>0</td>\n",
              "      <td>2976</td>\n",
              "      <td>non-NDBC</td>\n",
              "      <td>2976</td>\n",
              "    </tr>\n",
              "    <tr>\n",
              "      <th>2025-03-01 00:00:00+00:00</th>\n",
              "      <td>2025</td>\n",
              "      <td>3</td>\n",
              "      <td>FRFN7</td>\n",
              "      <td>NaN</td>\n",
              "      <td>U.S. ARMY CORPS OF ENGINEERS</td>\n",
              "      <td>0</td>\n",
              "      <td>0</td>\n",
              "      <td>non-NDBC</td>\n",
              "      <td>0</td>\n",
              "    </tr>\n",
              "    <tr>\n",
              "      <th>2025-03-01 00:00:00+00:00</th>\n",
              "      <td>2025</td>\n",
              "      <td>3</td>\n",
              "      <td>44100</td>\n",
              "      <td>NaN</td>\n",
              "      <td>U.S. ARMY CORPS OF ENGINEERS</td>\n",
              "      <td>0</td>\n",
              "      <td>2976</td>\n",
              "      <td>non-NDBC</td>\n",
              "      <td>2976</td>\n",
              "    </tr>\n",
              "    <tr>\n",
              "      <th>2025-03-01 00:00:00+00:00</th>\n",
              "      <td>2025</td>\n",
              "      <td>3</td>\n",
              "      <td>32012</td>\n",
              "      <td>NaN</td>\n",
              "      <td>WOODS HOLE OCEANOGRAPHIC INSTITUTION</td>\n",
              "      <td>0</td>\n",
              "      <td>0</td>\n",
              "      <td>non-NDBC</td>\n",
              "      <td>0</td>\n",
              "    </tr>\n",
              "  </tbody>\n",
              "</table>\n",
              "<p>74309 rows × 9 columns</p>\n",
              "</div>\n",
              "    <div class=\"colab-df-buttons\">\n",
              "\n",
              "  <div class=\"colab-df-container\">\n",
              "    <button class=\"colab-df-convert\" onclick=\"convertToInteractive('df-48f9f3bd-d1ba-4de4-a2bb-af9d78339681')\"\n",
              "            title=\"Convert this dataframe to an interactive table.\"\n",
              "            style=\"display:none;\">\n",
              "\n",
              "  <svg xmlns=\"http://www.w3.org/2000/svg\" height=\"24px\" viewBox=\"0 -960 960 960\">\n",
              "    <path d=\"M120-120v-720h720v720H120Zm60-500h600v-160H180v160Zm220 220h160v-160H400v160Zm0 220h160v-160H400v160ZM180-400h160v-160H180v160Zm440 0h160v-160H620v160ZM180-180h160v-160H180v160Zm440 0h160v-160H620v160Z\"/>\n",
              "  </svg>\n",
              "    </button>\n",
              "\n",
              "  <style>\n",
              "    .colab-df-container {\n",
              "      display:flex;\n",
              "      gap: 12px;\n",
              "    }\n",
              "\n",
              "    .colab-df-convert {\n",
              "      background-color: #E8F0FE;\n",
              "      border: none;\n",
              "      border-radius: 50%;\n",
              "      cursor: pointer;\n",
              "      display: none;\n",
              "      fill: #1967D2;\n",
              "      height: 32px;\n",
              "      padding: 0 0 0 0;\n",
              "      width: 32px;\n",
              "    }\n",
              "\n",
              "    .colab-df-convert:hover {\n",
              "      background-color: #E2EBFA;\n",
              "      box-shadow: 0px 1px 2px rgba(60, 64, 67, 0.3), 0px 1px 3px 1px rgba(60, 64, 67, 0.15);\n",
              "      fill: #174EA6;\n",
              "    }\n",
              "\n",
              "    .colab-df-buttons div {\n",
              "      margin-bottom: 4px;\n",
              "    }\n",
              "\n",
              "    [theme=dark] .colab-df-convert {\n",
              "      background-color: #3B4455;\n",
              "      fill: #D2E3FC;\n",
              "    }\n",
              "\n",
              "    [theme=dark] .colab-df-convert:hover {\n",
              "      background-color: #434B5C;\n",
              "      box-shadow: 0px 1px 3px 1px rgba(0, 0, 0, 0.15);\n",
              "      filter: drop-shadow(0px 1px 2px rgba(0, 0, 0, 0.3));\n",
              "      fill: #FFFFFF;\n",
              "    }\n",
              "  </style>\n",
              "\n",
              "    <script>\n",
              "      const buttonEl =\n",
              "        document.querySelector('#df-48f9f3bd-d1ba-4de4-a2bb-af9d78339681 button.colab-df-convert');\n",
              "      buttonEl.style.display =\n",
              "        google.colab.kernel.accessAllowed ? 'block' : 'none';\n",
              "\n",
              "      async function convertToInteractive(key) {\n",
              "        const element = document.querySelector('#df-48f9f3bd-d1ba-4de4-a2bb-af9d78339681');\n",
              "        const dataTable =\n",
              "          await google.colab.kernel.invokeFunction('convertToInteractive',\n",
              "                                                    [key], {});\n",
              "        if (!dataTable) return;\n",
              "\n",
              "        const docLinkHtml = 'Like what you see? Visit the ' +\n",
              "          '<a target=\"_blank\" href=https://colab.research.google.com/notebooks/data_table.ipynb>data table notebook</a>'\n",
              "          + ' to learn more about interactive tables.';\n",
              "        element.innerHTML = '';\n",
              "        dataTable['output_type'] = 'display_data';\n",
              "        await google.colab.output.renderOutput(dataTable, element);\n",
              "        const docLink = document.createElement('div');\n",
              "        docLink.innerHTML = docLinkHtml;\n",
              "        element.appendChild(docLink);\n",
              "      }\n",
              "    </script>\n",
              "  </div>\n",
              "\n",
              "\n",
              "    <div id=\"df-b450cdde-db69-4bbd-9f96-b362d7b0a15e\">\n",
              "      <button class=\"colab-df-quickchart\" onclick=\"quickchart('df-b450cdde-db69-4bbd-9f96-b362d7b0a15e')\"\n",
              "                title=\"Suggest charts\"\n",
              "                style=\"display:none;\">\n",
              "\n",
              "<svg xmlns=\"http://www.w3.org/2000/svg\" height=\"24px\"viewBox=\"0 0 24 24\"\n",
              "     width=\"24px\">\n",
              "    <g>\n",
              "        <path d=\"M19 3H5c-1.1 0-2 .9-2 2v14c0 1.1.9 2 2 2h14c1.1 0 2-.9 2-2V5c0-1.1-.9-2-2-2zM9 17H7v-7h2v7zm4 0h-2V7h2v10zm4 0h-2v-4h2v4z\"/>\n",
              "    </g>\n",
              "</svg>\n",
              "      </button>\n",
              "\n",
              "<style>\n",
              "  .colab-df-quickchart {\n",
              "      --bg-color: #E8F0FE;\n",
              "      --fill-color: #1967D2;\n",
              "      --hover-bg-color: #E2EBFA;\n",
              "      --hover-fill-color: #174EA6;\n",
              "      --disabled-fill-color: #AAA;\n",
              "      --disabled-bg-color: #DDD;\n",
              "  }\n",
              "\n",
              "  [theme=dark] .colab-df-quickchart {\n",
              "      --bg-color: #3B4455;\n",
              "      --fill-color: #D2E3FC;\n",
              "      --hover-bg-color: #434B5C;\n",
              "      --hover-fill-color: #FFFFFF;\n",
              "      --disabled-bg-color: #3B4455;\n",
              "      --disabled-fill-color: #666;\n",
              "  }\n",
              "\n",
              "  .colab-df-quickchart {\n",
              "    background-color: var(--bg-color);\n",
              "    border: none;\n",
              "    border-radius: 50%;\n",
              "    cursor: pointer;\n",
              "    display: none;\n",
              "    fill: var(--fill-color);\n",
              "    height: 32px;\n",
              "    padding: 0;\n",
              "    width: 32px;\n",
              "  }\n",
              "\n",
              "  .colab-df-quickchart:hover {\n",
              "    background-color: var(--hover-bg-color);\n",
              "    box-shadow: 0 1px 2px rgba(60, 64, 67, 0.3), 0 1px 3px 1px rgba(60, 64, 67, 0.15);\n",
              "    fill: var(--button-hover-fill-color);\n",
              "  }\n",
              "\n",
              "  .colab-df-quickchart-complete:disabled,\n",
              "  .colab-df-quickchart-complete:disabled:hover {\n",
              "    background-color: var(--disabled-bg-color);\n",
              "    fill: var(--disabled-fill-color);\n",
              "    box-shadow: none;\n",
              "  }\n",
              "\n",
              "  .colab-df-spinner {\n",
              "    border: 2px solid var(--fill-color);\n",
              "    border-color: transparent;\n",
              "    border-bottom-color: var(--fill-color);\n",
              "    animation:\n",
              "      spin 1s steps(1) infinite;\n",
              "  }\n",
              "\n",
              "  @keyframes spin {\n",
              "    0% {\n",
              "      border-color: transparent;\n",
              "      border-bottom-color: var(--fill-color);\n",
              "      border-left-color: var(--fill-color);\n",
              "    }\n",
              "    20% {\n",
              "      border-color: transparent;\n",
              "      border-left-color: var(--fill-color);\n",
              "      border-top-color: var(--fill-color);\n",
              "    }\n",
              "    30% {\n",
              "      border-color: transparent;\n",
              "      border-left-color: var(--fill-color);\n",
              "      border-top-color: var(--fill-color);\n",
              "      border-right-color: var(--fill-color);\n",
              "    }\n",
              "    40% {\n",
              "      border-color: transparent;\n",
              "      border-right-color: var(--fill-color);\n",
              "      border-top-color: var(--fill-color);\n",
              "    }\n",
              "    60% {\n",
              "      border-color: transparent;\n",
              "      border-right-color: var(--fill-color);\n",
              "    }\n",
              "    80% {\n",
              "      border-color: transparent;\n",
              "      border-right-color: var(--fill-color);\n",
              "      border-bottom-color: var(--fill-color);\n",
              "    }\n",
              "    90% {\n",
              "      border-color: transparent;\n",
              "      border-bottom-color: var(--fill-color);\n",
              "    }\n",
              "  }\n",
              "</style>\n",
              "\n",
              "      <script>\n",
              "        async function quickchart(key) {\n",
              "          const quickchartButtonEl =\n",
              "            document.querySelector('#' + key + ' button');\n",
              "          quickchartButtonEl.disabled = true;  // To prevent multiple clicks.\n",
              "          quickchartButtonEl.classList.add('colab-df-spinner');\n",
              "          try {\n",
              "            const charts = await google.colab.kernel.invokeFunction(\n",
              "                'suggestCharts', [key], {});\n",
              "          } catch (error) {\n",
              "            console.error('Error during call to suggestCharts:', error);\n",
              "          }\n",
              "          quickchartButtonEl.classList.remove('colab-df-spinner');\n",
              "          quickchartButtonEl.classList.add('colab-df-quickchart-complete');\n",
              "        }\n",
              "        (() => {\n",
              "          let quickchartButtonEl =\n",
              "            document.querySelector('#df-b450cdde-db69-4bbd-9f96-b362d7b0a15e button');\n",
              "          quickchartButtonEl.style.display =\n",
              "            google.colab.kernel.accessAllowed ? 'block' : 'none';\n",
              "        })();\n",
              "      </script>\n",
              "    </div>\n",
              "\n",
              "  <div id=\"id_d01da8b6-87ff-4794-8392-0ab89cc95615\">\n",
              "    <style>\n",
              "      .colab-df-generate {\n",
              "        background-color: #E8F0FE;\n",
              "        border: none;\n",
              "        border-radius: 50%;\n",
              "        cursor: pointer;\n",
              "        display: none;\n",
              "        fill: #1967D2;\n",
              "        height: 32px;\n",
              "        padding: 0 0 0 0;\n",
              "        width: 32px;\n",
              "      }\n",
              "\n",
              "      .colab-df-generate:hover {\n",
              "        background-color: #E2EBFA;\n",
              "        box-shadow: 0px 1px 2px rgba(60, 64, 67, 0.3), 0px 1px 3px 1px rgba(60, 64, 67, 0.15);\n",
              "        fill: #174EA6;\n",
              "      }\n",
              "\n",
              "      [theme=dark] .colab-df-generate {\n",
              "        background-color: #3B4455;\n",
              "        fill: #D2E3FC;\n",
              "      }\n",
              "\n",
              "      [theme=dark] .colab-df-generate:hover {\n",
              "        background-color: #434B5C;\n",
              "        box-shadow: 0px 1px 3px 1px rgba(0, 0, 0, 0.15);\n",
              "        filter: drop-shadow(0px 1px 2px rgba(0, 0, 0, 0.3));\n",
              "        fill: #FFFFFF;\n",
              "      }\n",
              "    </style>\n",
              "    <button class=\"colab-df-generate\" onclick=\"generateWithVariable('df')\"\n",
              "            title=\"Generate code using this dataframe.\"\n",
              "            style=\"display:none;\">\n",
              "\n",
              "  <svg xmlns=\"http://www.w3.org/2000/svg\" height=\"24px\"viewBox=\"0 0 24 24\"\n",
              "       width=\"24px\">\n",
              "    <path d=\"M7,19H8.4L18.45,9,17,7.55,7,17.6ZM5,21V16.75L18.45,3.32a2,2,0,0,1,2.83,0l1.4,1.43a1.91,1.91,0,0,1,.58,1.4,1.91,1.91,0,0,1-.58,1.4L9.25,21ZM18.45,9,17,7.55Zm-12,3A5.31,5.31,0,0,0,4.9,8.1,5.31,5.31,0,0,0,1,6.5,5.31,5.31,0,0,0,4.9,4.9,5.31,5.31,0,0,0,6.5,1,5.31,5.31,0,0,0,8.1,4.9,5.31,5.31,0,0,0,12,6.5,5.46,5.46,0,0,0,6.5,12Z\"/>\n",
              "  </svg>\n",
              "    </button>\n",
              "    <script>\n",
              "      (() => {\n",
              "      const buttonEl =\n",
              "        document.querySelector('#id_d01da8b6-87ff-4794-8392-0ab89cc95615 button.colab-df-generate');\n",
              "      buttonEl.style.display =\n",
              "        google.colab.kernel.accessAllowed ? 'block' : 'none';\n",
              "\n",
              "      buttonEl.onclick = () => {\n",
              "        google.colab.notebook.generateWithVariable('df');\n",
              "      }\n",
              "      })();\n",
              "    </script>\n",
              "  </div>\n",
              "\n",
              "    </div>\n",
              "  </div>\n"
            ],
            "application/vnd.google.colaboratory.intrinsic+json": {
              "type": "dataframe",
              "variable_name": "df",
              "summary": "{\n  \"name\": \"df\",\n  \"rows\": 74309,\n  \"fields\": [\n    {\n      \"column\": \"time (UTC)\",\n      \"properties\": {\n        \"dtype\": \"date\",\n        \"min\": \"2018-01-01 00:00:00+00:00\",\n        \"max\": \"2025-03-01 00:00:00+00:00\",\n        \"num_unique_values\": 87,\n        \"samples\": [\n          \"2024-05-01 00:00:00+00:00\",\n          \"2018-01-01 00:00:00+00:00\",\n          \"2020-03-01 00:00:00+00:00\"\n        ],\n        \"semantic_type\": \"\",\n        \"description\": \"\"\n      }\n    },\n    {\n      \"column\": \"Year\",\n      \"properties\": {\n        \"dtype\": \"number\",\n        \"std\": 2,\n        \"min\": 2018,\n        \"max\": 2025,\n        \"num_unique_values\": 8,\n        \"samples\": [\n          2019,\n          2023,\n          2018\n        ],\n        \"semantic_type\": \"\",\n        \"description\": \"\"\n      }\n    },\n    {\n      \"column\": \"Month\",\n      \"properties\": {\n        \"dtype\": \"number\",\n        \"std\": 3,\n        \"min\": 1,\n        \"max\": 12,\n        \"num_unique_values\": 12,\n        \"samples\": [\n          11,\n          10,\n          1\n        ],\n        \"semantic_type\": \"\",\n        \"description\": \"\"\n      }\n    },\n    {\n      \"column\": \"locationID\",\n      \"properties\": {\n        \"dtype\": \"category\",\n        \"num_unique_values\": 1039,\n        \"samples\": [\n          \"46011\",\n          \"ULAM6\",\n          \"46006\"\n        ],\n        \"semantic_type\": \"\",\n        \"description\": \"\"\n      }\n    },\n    {\n      \"column\": \"region\",\n      \"properties\": {\n        \"dtype\": \"category\",\n        \"num_unique_values\": 10,\n        \"samples\": [\n          \"SCCOOS\",\n          \"CARICOOS\",\n          \"NANOOS\"\n        ],\n        \"semantic_type\": \"\",\n        \"description\": \"\"\n      }\n    },\n    {\n      \"column\": \"sponsor\",\n      \"properties\": {\n        \"dtype\": \"category\",\n        \"num_unique_values\": 82,\n        \"samples\": [\n          \"LIMNOTECH\",\n          \"ALASKA OCEAN OBSERVING SYSTEM\",\n          \"NORTHEASTERN REGIONAL ASSN OF COASTAL OCEAN OBS SYSTEMS\"\n        ],\n        \"semantic_type\": \"\",\n        \"description\": \"\"\n      }\n    },\n    {\n      \"column\": \"met\",\n      \"properties\": {\n        \"dtype\": \"number\",\n        \"std\": 5988,\n        \"min\": 0,\n        \"max\": 86536,\n        \"num_unique_values\": 6004,\n        \"samples\": [\n          1600,\n          13848,\n          5934\n        ],\n        \"semantic_type\": \"\",\n        \"description\": \"\"\n      }\n    },\n    {\n      \"column\": \"wave\",\n      \"properties\": {\n        \"dtype\": \"number\",\n        \"std\": 1400,\n        \"min\": 0,\n        \"max\": 17838,\n        \"num_unique_values\": 2376,\n        \"samples\": [\n          12862,\n          198,\n          2802\n        ],\n        \"semantic_type\": \"\",\n        \"description\": \"\"\n      }\n    },\n    {\n      \"column\": \"source\",\n      \"properties\": {\n        \"dtype\": \"category\",\n        \"num_unique_values\": 3,\n        \"samples\": [\n          \"IOOS\",\n          \"NDBC\",\n          \"non-NDBC\"\n        ],\n        \"semantic_type\": \"\",\n        \"description\": \"\"\n      }\n    },\n    {\n      \"column\": \"total\",\n      \"properties\": {\n        \"dtype\": \"number\",\n        \"std\": 5918,\n        \"min\": 0,\n        \"max\": 86536,\n        \"num_unique_values\": 6942,\n        \"samples\": [\n          8036,\n          5186,\n          24526\n        ],\n        \"semantic_type\": \"\",\n        \"description\": \"\"\n      }\n    }\n  ]\n}"
            }
          },
          "metadata": {},
          "execution_count": 4
        }
      ]
    },
    {
      "cell_type": "markdown",
      "source": [
        "# Compute yearly totals of number of IOOS messages sent to the GTS."
      ],
      "metadata": {
        "id": "pDrG-jPh948I"
      }
    },
    {
      "cell_type": "code",
      "source": [
        "df.groupby(by=[\"source\"])[['met','wave','total']].sum()"
      ],
      "metadata": {
        "colab": {
          "base_uri": "https://localhost:8080/",
          "height": 175
        },
        "id": "p3IvljZzsswm",
        "outputId": "0d4b3c50-60d3-49db-cba3-184b1ca3fb23"
      },
      "execution_count": 5,
      "outputs": [
        {
          "output_type": "execute_result",
          "data": {
            "text/plain": [
              "                met      wave      total\n",
              "source                                  \n",
              "IOOS       82005740  11767770   93773510\n",
              "NDBC       58524762  13386048   71910810\n",
              "non-NDBC  371637998  19140012  390778010"
            ],
            "text/html": [
              "\n",
              "  <div id=\"df-f4a8800e-de0e-4006-ba84-d2f485ca9009\" class=\"colab-df-container\">\n",
              "    <div>\n",
              "<style scoped>\n",
              "    .dataframe tbody tr th:only-of-type {\n",
              "        vertical-align: middle;\n",
              "    }\n",
              "\n",
              "    .dataframe tbody tr th {\n",
              "        vertical-align: top;\n",
              "    }\n",
              "\n",
              "    .dataframe thead th {\n",
              "        text-align: right;\n",
              "    }\n",
              "</style>\n",
              "<table border=\"1\" class=\"dataframe\">\n",
              "  <thead>\n",
              "    <tr style=\"text-align: right;\">\n",
              "      <th></th>\n",
              "      <th>met</th>\n",
              "      <th>wave</th>\n",
              "      <th>total</th>\n",
              "    </tr>\n",
              "    <tr>\n",
              "      <th>source</th>\n",
              "      <th></th>\n",
              "      <th></th>\n",
              "      <th></th>\n",
              "    </tr>\n",
              "  </thead>\n",
              "  <tbody>\n",
              "    <tr>\n",
              "      <th>IOOS</th>\n",
              "      <td>82005740</td>\n",
              "      <td>11767770</td>\n",
              "      <td>93773510</td>\n",
              "    </tr>\n",
              "    <tr>\n",
              "      <th>NDBC</th>\n",
              "      <td>58524762</td>\n",
              "      <td>13386048</td>\n",
              "      <td>71910810</td>\n",
              "    </tr>\n",
              "    <tr>\n",
              "      <th>non-NDBC</th>\n",
              "      <td>371637998</td>\n",
              "      <td>19140012</td>\n",
              "      <td>390778010</td>\n",
              "    </tr>\n",
              "  </tbody>\n",
              "</table>\n",
              "</div>\n",
              "    <div class=\"colab-df-buttons\">\n",
              "\n",
              "  <div class=\"colab-df-container\">\n",
              "    <button class=\"colab-df-convert\" onclick=\"convertToInteractive('df-f4a8800e-de0e-4006-ba84-d2f485ca9009')\"\n",
              "            title=\"Convert this dataframe to an interactive table.\"\n",
              "            style=\"display:none;\">\n",
              "\n",
              "  <svg xmlns=\"http://www.w3.org/2000/svg\" height=\"24px\" viewBox=\"0 -960 960 960\">\n",
              "    <path d=\"M120-120v-720h720v720H120Zm60-500h600v-160H180v160Zm220 220h160v-160H400v160Zm0 220h160v-160H400v160ZM180-400h160v-160H180v160Zm440 0h160v-160H620v160ZM180-180h160v-160H180v160Zm440 0h160v-160H620v160Z\"/>\n",
              "  </svg>\n",
              "    </button>\n",
              "\n",
              "  <style>\n",
              "    .colab-df-container {\n",
              "      display:flex;\n",
              "      gap: 12px;\n",
              "    }\n",
              "\n",
              "    .colab-df-convert {\n",
              "      background-color: #E8F0FE;\n",
              "      border: none;\n",
              "      border-radius: 50%;\n",
              "      cursor: pointer;\n",
              "      display: none;\n",
              "      fill: #1967D2;\n",
              "      height: 32px;\n",
              "      padding: 0 0 0 0;\n",
              "      width: 32px;\n",
              "    }\n",
              "\n",
              "    .colab-df-convert:hover {\n",
              "      background-color: #E2EBFA;\n",
              "      box-shadow: 0px 1px 2px rgba(60, 64, 67, 0.3), 0px 1px 3px 1px rgba(60, 64, 67, 0.15);\n",
              "      fill: #174EA6;\n",
              "    }\n",
              "\n",
              "    .colab-df-buttons div {\n",
              "      margin-bottom: 4px;\n",
              "    }\n",
              "\n",
              "    [theme=dark] .colab-df-convert {\n",
              "      background-color: #3B4455;\n",
              "      fill: #D2E3FC;\n",
              "    }\n",
              "\n",
              "    [theme=dark] .colab-df-convert:hover {\n",
              "      background-color: #434B5C;\n",
              "      box-shadow: 0px 1px 3px 1px rgba(0, 0, 0, 0.15);\n",
              "      filter: drop-shadow(0px 1px 2px rgba(0, 0, 0, 0.3));\n",
              "      fill: #FFFFFF;\n",
              "    }\n",
              "  </style>\n",
              "\n",
              "    <script>\n",
              "      const buttonEl =\n",
              "        document.querySelector('#df-f4a8800e-de0e-4006-ba84-d2f485ca9009 button.colab-df-convert');\n",
              "      buttonEl.style.display =\n",
              "        google.colab.kernel.accessAllowed ? 'block' : 'none';\n",
              "\n",
              "      async function convertToInteractive(key) {\n",
              "        const element = document.querySelector('#df-f4a8800e-de0e-4006-ba84-d2f485ca9009');\n",
              "        const dataTable =\n",
              "          await google.colab.kernel.invokeFunction('convertToInteractive',\n",
              "                                                    [key], {});\n",
              "        if (!dataTable) return;\n",
              "\n",
              "        const docLinkHtml = 'Like what you see? Visit the ' +\n",
              "          '<a target=\"_blank\" href=https://colab.research.google.com/notebooks/data_table.ipynb>data table notebook</a>'\n",
              "          + ' to learn more about interactive tables.';\n",
              "        element.innerHTML = '';\n",
              "        dataTable['output_type'] = 'display_data';\n",
              "        await google.colab.output.renderOutput(dataTable, element);\n",
              "        const docLink = document.createElement('div');\n",
              "        docLink.innerHTML = docLinkHtml;\n",
              "        element.appendChild(docLink);\n",
              "      }\n",
              "    </script>\n",
              "  </div>\n",
              "\n",
              "\n",
              "    <div id=\"df-325590c7-f066-4b4b-b2e1-3872570c6a1c\">\n",
              "      <button class=\"colab-df-quickchart\" onclick=\"quickchart('df-325590c7-f066-4b4b-b2e1-3872570c6a1c')\"\n",
              "                title=\"Suggest charts\"\n",
              "                style=\"display:none;\">\n",
              "\n",
              "<svg xmlns=\"http://www.w3.org/2000/svg\" height=\"24px\"viewBox=\"0 0 24 24\"\n",
              "     width=\"24px\">\n",
              "    <g>\n",
              "        <path d=\"M19 3H5c-1.1 0-2 .9-2 2v14c0 1.1.9 2 2 2h14c1.1 0 2-.9 2-2V5c0-1.1-.9-2-2-2zM9 17H7v-7h2v7zm4 0h-2V7h2v10zm4 0h-2v-4h2v4z\"/>\n",
              "    </g>\n",
              "</svg>\n",
              "      </button>\n",
              "\n",
              "<style>\n",
              "  .colab-df-quickchart {\n",
              "      --bg-color: #E8F0FE;\n",
              "      --fill-color: #1967D2;\n",
              "      --hover-bg-color: #E2EBFA;\n",
              "      --hover-fill-color: #174EA6;\n",
              "      --disabled-fill-color: #AAA;\n",
              "      --disabled-bg-color: #DDD;\n",
              "  }\n",
              "\n",
              "  [theme=dark] .colab-df-quickchart {\n",
              "      --bg-color: #3B4455;\n",
              "      --fill-color: #D2E3FC;\n",
              "      --hover-bg-color: #434B5C;\n",
              "      --hover-fill-color: #FFFFFF;\n",
              "      --disabled-bg-color: #3B4455;\n",
              "      --disabled-fill-color: #666;\n",
              "  }\n",
              "\n",
              "  .colab-df-quickchart {\n",
              "    background-color: var(--bg-color);\n",
              "    border: none;\n",
              "    border-radius: 50%;\n",
              "    cursor: pointer;\n",
              "    display: none;\n",
              "    fill: var(--fill-color);\n",
              "    height: 32px;\n",
              "    padding: 0;\n",
              "    width: 32px;\n",
              "  }\n",
              "\n",
              "  .colab-df-quickchart:hover {\n",
              "    background-color: var(--hover-bg-color);\n",
              "    box-shadow: 0 1px 2px rgba(60, 64, 67, 0.3), 0 1px 3px 1px rgba(60, 64, 67, 0.15);\n",
              "    fill: var(--button-hover-fill-color);\n",
              "  }\n",
              "\n",
              "  .colab-df-quickchart-complete:disabled,\n",
              "  .colab-df-quickchart-complete:disabled:hover {\n",
              "    background-color: var(--disabled-bg-color);\n",
              "    fill: var(--disabled-fill-color);\n",
              "    box-shadow: none;\n",
              "  }\n",
              "\n",
              "  .colab-df-spinner {\n",
              "    border: 2px solid var(--fill-color);\n",
              "    border-color: transparent;\n",
              "    border-bottom-color: var(--fill-color);\n",
              "    animation:\n",
              "      spin 1s steps(1) infinite;\n",
              "  }\n",
              "\n",
              "  @keyframes spin {\n",
              "    0% {\n",
              "      border-color: transparent;\n",
              "      border-bottom-color: var(--fill-color);\n",
              "      border-left-color: var(--fill-color);\n",
              "    }\n",
              "    20% {\n",
              "      border-color: transparent;\n",
              "      border-left-color: var(--fill-color);\n",
              "      border-top-color: var(--fill-color);\n",
              "    }\n",
              "    30% {\n",
              "      border-color: transparent;\n",
              "      border-left-color: var(--fill-color);\n",
              "      border-top-color: var(--fill-color);\n",
              "      border-right-color: var(--fill-color);\n",
              "    }\n",
              "    40% {\n",
              "      border-color: transparent;\n",
              "      border-right-color: var(--fill-color);\n",
              "      border-top-color: var(--fill-color);\n",
              "    }\n",
              "    60% {\n",
              "      border-color: transparent;\n",
              "      border-right-color: var(--fill-color);\n",
              "    }\n",
              "    80% {\n",
              "      border-color: transparent;\n",
              "      border-right-color: var(--fill-color);\n",
              "      border-bottom-color: var(--fill-color);\n",
              "    }\n",
              "    90% {\n",
              "      border-color: transparent;\n",
              "      border-bottom-color: var(--fill-color);\n",
              "    }\n",
              "  }\n",
              "</style>\n",
              "\n",
              "      <script>\n",
              "        async function quickchart(key) {\n",
              "          const quickchartButtonEl =\n",
              "            document.querySelector('#' + key + ' button');\n",
              "          quickchartButtonEl.disabled = true;  // To prevent multiple clicks.\n",
              "          quickchartButtonEl.classList.add('colab-df-spinner');\n",
              "          try {\n",
              "            const charts = await google.colab.kernel.invokeFunction(\n",
              "                'suggestCharts', [key], {});\n",
              "          } catch (error) {\n",
              "            console.error('Error during call to suggestCharts:', error);\n",
              "          }\n",
              "          quickchartButtonEl.classList.remove('colab-df-spinner');\n",
              "          quickchartButtonEl.classList.add('colab-df-quickchart-complete');\n",
              "        }\n",
              "        (() => {\n",
              "          let quickchartButtonEl =\n",
              "            document.querySelector('#df-325590c7-f066-4b4b-b2e1-3872570c6a1c button');\n",
              "          quickchartButtonEl.style.display =\n",
              "            google.colab.kernel.accessAllowed ? 'block' : 'none';\n",
              "        })();\n",
              "      </script>\n",
              "    </div>\n",
              "\n",
              "    </div>\n",
              "  </div>\n"
            ],
            "application/vnd.google.colaboratory.intrinsic+json": {
              "type": "dataframe",
              "summary": "{\n  \"name\": \"df\",\n  \"rows\": 3,\n  \"fields\": [\n    {\n      \"column\": \"source\",\n      \"properties\": {\n        \"dtype\": \"string\",\n        \"num_unique_values\": 3,\n        \"samples\": [\n          \"IOOS\",\n          \"NDBC\",\n          \"non-NDBC\"\n        ],\n        \"semantic_type\": \"\",\n        \"description\": \"\"\n      }\n    },\n    {\n      \"column\": \"met\",\n      \"properties\": {\n        \"dtype\": \"number\",\n        \"std\": 174393281,\n        \"min\": 58524762,\n        \"max\": 371637998,\n        \"num_unique_values\": 3,\n        \"samples\": [\n          82005740,\n          58524762,\n          371637998\n        ],\n        \"semantic_type\": \"\",\n        \"description\": \"\"\n      }\n    },\n    {\n      \"column\": \"wave\",\n      \"properties\": {\n        \"dtype\": \"number\",\n        \"std\": 3874637,\n        \"min\": 11767770,\n        \"max\": 19140012,\n        \"num_unique_values\": 3,\n        \"samples\": [\n          11767770,\n          13386048,\n          19140012\n        ],\n        \"semantic_type\": \"\",\n        \"description\": \"\"\n      }\n    },\n    {\n      \"column\": \"total\",\n      \"properties\": {\n        \"dtype\": \"number\",\n        \"std\": 178122589,\n        \"min\": 71910810,\n        \"max\": 390778010,\n        \"num_unique_values\": 3,\n        \"samples\": [\n          93773510,\n          71910810,\n          390778010\n        ],\n        \"semantic_type\": \"\",\n        \"description\": \"\"\n      }\n    }\n  ]\n}"
            }
          },
          "metadata": {},
          "execution_count": 5
        }
      ]
    },
    {
      "cell_type": "code",
      "source": [
        "df.index.min().strftime('%Y')"
      ],
      "metadata": {
        "colab": {
          "base_uri": "https://localhost:8080/",
          "height": 35
        },
        "id": "YzTZ_3P2tNLF",
        "outputId": "0c5fe152-148f-4efa-ed7d-d9f9ead68ed0"
      },
      "execution_count": 6,
      "outputs": [
        {
          "output_type": "execute_result",
          "data": {
            "text/plain": [
              "'2018'"
            ],
            "application/vnd.google.colaboratory.intrinsic+json": {
              "type": "string"
            }
          },
          "metadata": {},
          "execution_count": 6
        }
      ]
    },
    {
      "cell_type": "code",
      "source": [
        "first_year = df.index.min().strftime('%Y')\n",
        "\n",
        "ioos_total = df.loc[df['source']=='IOOS','total'].sum()\n",
        "\n",
        "ioos_pcnt = ioos_total / df['total'].sum()\n",
        "\n",
        "total = df['total'].sum()\n",
        "\n",
        "print(f'Since {first_year} IOOS has contributed {ioos_total} messages to the GTS, which composes {(ioos_pcnt)*100:.2f} % of the total messages ({total}) reported by NDBC to the GTS')"
      ],
      "metadata": {
        "colab": {
          "base_uri": "https://localhost:8080/"
        },
        "id": "rQl8epoetC4Q",
        "outputId": "a9964a19-00ba-49bf-96d8-6b0bdce61c67"
      },
      "execution_count": 10,
      "outputs": [
        {
          "output_type": "stream",
          "name": "stdout",
          "text": [
            "Since 2018 IOOS has contributed 93773510 messages to the GTS, which composes 16.85 % of the total messages (556462330) reported by NDBC to the GTS\n"
          ]
        }
      ]
    },
    {
      "cell_type": "code",
      "source": [
        "yearly_totals = df.groupby(by=[\"source\", pd.Grouper(freq=\"YE\")])[['met','wave']].sum()\n",
        "\n",
        "yearly_totals['total'] = yearly_totals['met'] + yearly_totals['wave']\n",
        "\n",
        "print(yearly_totals.loc['IOOS'].to_markdown(floatfmt=''))"
      ],
      "metadata": {
        "colab": {
          "base_uri": "https://localhost:8080/"
        },
        "id": "UtBVMmEx6VZ6",
        "outputId": "ca5709a6-8cb1-487c-b696-12e293661123"
      },
      "execution_count": 11,
      "outputs": [
        {
          "output_type": "stream",
          "name": "stdout",
          "text": [
            "| time (UTC)                |        met |      wave |      total |\n",
            "|:--------------------------|-----------:|----------:|-----------:|\n",
            "| 2018-12-31 00:00:00+00:00 | 10250188.0 | 1586648.0 | 11836836.0 |\n",
            "| 2019-12-31 00:00:00+00:00 | 11344260.0 | 1682754.0 | 13027014.0 |\n",
            "| 2020-12-31 00:00:00+00:00 | 10501536.0 | 1410472.0 | 11912008.0 |\n",
            "| 2021-12-31 00:00:00+00:00 | 10189996.0 | 1610856.0 | 11800852.0 |\n",
            "| 2022-12-31 00:00:00+00:00 | 11295426.0 | 1616542.0 | 12911968.0 |\n",
            "| 2023-12-31 00:00:00+00:00 | 12719038.0 | 1796258.0 | 14515296.0 |\n",
            "| 2024-12-31 00:00:00+00:00 | 12794686.0 | 1726010.0 | 14520696.0 |\n",
            "| 2025-12-31 00:00:00+00:00 |  2910610.0 |  338230.0 |  3248840.0 |\n"
          ]
        }
      ]
    },
    {
      "cell_type": "code",
      "source": [
        "ioos_year = yearly_totals.loc['IOOS','2024']['total'].iloc[0]\n",
        "\n",
        "ioos_year"
      ],
      "metadata": {
        "colab": {
          "base_uri": "https://localhost:8080/"
        },
        "id": "rcIANX3Gu2TZ",
        "outputId": "6726aa8c-0df5-448b-c282-9c14745bd3d2"
      },
      "execution_count": 12,
      "outputs": [
        {
          "output_type": "execute_result",
          "data": {
            "text/plain": [
              "np.int64(14520696)"
            ]
          },
          "metadata": {},
          "execution_count": 12
        }
      ]
    },
    {
      "cell_type": "code",
      "source": [
        "year = '2024'\n",
        "\n",
        "all_year = yearly_totals.loc['NDBC',year]['total'] + yearly_totals.loc['non-NDBC',year]['total'] + yearly_totals.loc['IOOS',year]['total']\n",
        "\n",
        "ioos_year = yearly_totals.loc['IOOS','2024']['total'].iloc[0]\n",
        "\n",
        "pcnt_year = ioos_year / all_year.iloc[0]\n",
        "\n",
        "platforms = len(df.loc[(df.index >= '2024-01-01') & (df.index <= '2024-12-31') & (df['source']=='IOOS')].locationID.unique())\n",
        "\n",
        "print(f'In {year}, the IOOS regions have submitted {ioos_year} messages to the GTS (from {platforms} unique platforms). Which comprises {pcnt_year*100:.2f} % of the total messages sent to the GTS via NDBC.')"
      ],
      "metadata": {
        "colab": {
          "base_uri": "https://localhost:8080/"
        },
        "id": "KtALHdJbwPv2",
        "outputId": "3d6a2a3a-14a5-425e-a92d-db0e29f316fd"
      },
      "execution_count": 42,
      "outputs": [
        {
          "output_type": "stream",
          "name": "stdout",
          "text": [
            "In 2024, the IOOS regions have submitted 14520696 messages to the GTS (from 229 unique platforms). Which comprises 17.20 % of the total messages sent to the GTS via NDBC.\n"
          ]
        }
      ]
    },
    {
      "cell_type": "markdown",
      "source": [
        "# Compute yearly totals of IOOS messages sent to the GTS by region."
      ],
      "metadata": {
        "id": "7tNTvF0h9wdP"
      }
    },
    {
      "cell_type": "code",
      "source": [
        "yearly_region_totals = df.groupby(by=[\"source\", \"region\", pd.Grouper(freq=\"YE\")])[['met','wave']].sum()\n",
        "\n",
        "yearly_region_totals['total'] = yearly_region_totals['met'] + yearly_region_totals['wave']\n",
        "\n",
        "yearly_region_totals.reset_index('region',inplace=True)\n",
        "\n",
        "print(yearly_region_totals.loc['IOOS'].to_markdown(floatfmt=''))"
      ],
      "metadata": {
        "id": "QpVMZYvn7asZ"
      },
      "execution_count": null,
      "outputs": []
    },
    {
      "cell_type": "markdown",
      "source": [
        "# Calculate the percentage of IOOS OBS per year"
      ],
      "metadata": {
        "id": "15MgOsVj_LVc"
      }
    },
    {
      "cell_type": "code",
      "source": [
        "yearly_totals = df.groupby(by=[\"source\", pd.Grouper(freq=\"YE\")])[['met','wave']].sum()\n",
        "\n",
        "yearly_totals['total'] = yearly_totals['met'] + yearly_totals['wave']\n",
        "\n",
        "pcnt_obs_year = yearly_totals.loc['IOOS'] / (yearly_totals.loc['IOOS'] + yearly_totals.loc['NDBC'] + yearly_totals.loc['non-NDBC'])\n",
        "\n",
        "# pcnt_obs_year['total'] =\n",
        "\n",
        "print(pcnt_obs_year.to_markdown())"
      ],
      "metadata": {
        "id": "r7GA5FW28ZZc"
      },
      "execution_count": null,
      "outputs": []
    },
    {
      "cell_type": "code",
      "source": [
        "yearly_totals.loc['IOOS'] + yearly_totals.loc['NDBC'] + yearly_totals.loc['non-NDBC']\n",
        "\n",
        "# totals['total'] = totals['met']+totals['wave']\n",
        "\n",
        "# totals['total'].sum()\n",
        "\n",
        "#totals"
      ],
      "metadata": {
        "id": "GipR9igpg6U4"
      },
      "execution_count": null,
      "outputs": []
    },
    {
      "cell_type": "code",
      "source": [
        "yearly_totals.loc['IOOS','total'].sum()"
      ],
      "metadata": {
        "id": "uL8slBQKYkao"
      },
      "execution_count": null,
      "outputs": []
    },
    {
      "cell_type": "markdown",
      "source": [
        "# Total number of unique platforms submitting data to the GTS from the IOOS regions"
      ],
      "metadata": {
        "id": "jRwVnhAHA8Ma"
      }
    },
    {
      "cell_type": "markdown",
      "source": [
        "IOOS location IDs"
      ],
      "metadata": {
        "id": "5xUmgzD8r4mV"
      }
    },
    {
      "cell_type": "code",
      "source": [
        "df.loc[df['source']=='IOOS'].locationID"
      ],
      "metadata": {
        "id": "lww9_FP1B0KG"
      },
      "execution_count": null,
      "outputs": []
    },
    {
      "cell_type": "code",
      "source": [
        "n_ioos_stn = len(df.loc[df['source']=='IOOS'].locationID.unique())"
      ],
      "metadata": {
        "id": "YNrKeq-__R4E"
      },
      "execution_count": null,
      "outputs": []
    },
    {
      "cell_type": "markdown",
      "source": [
        "All location ID's"
      ],
      "metadata": {
        "id": "bqvUnfHQqknn"
      }
    },
    {
      "cell_type": "code",
      "source": [
        "n_all_stn = len(df.locationID.unique())\n",
        "\n",
        "n_all_stn"
      ],
      "metadata": {
        "id": "2X_r8Fz5qhjd"
      },
      "execution_count": null,
      "outputs": []
    },
    {
      "cell_type": "markdown",
      "source": [
        "IOOS stations represent this of the total # stations whose data are delivered by NDBC to the GTS"
      ],
      "metadata": {
        "id": "dZ59MLVgquzJ"
      }
    },
    {
      "cell_type": "code",
      "source": [
        "station_pcnt = n_ioos_stn / n_all_stn\n",
        "\n",
        "print(f'Since {first_year} IOOS regions have sent {n_ioos_stn} unique stations\\' data to the GTS through NDBC. This comprises nearly {station_pcnt*100:.2f}% of all the stations reported ({n_all_stn}) and more than one third of the NOS stations')"
      ],
      "metadata": {
        "id": "Q4_sZfpYqok5"
      },
      "execution_count": null,
      "outputs": []
    },
    {
      "cell_type": "markdown",
      "source": [
        "Focusing on station platform counts (260, I believe) - Can you compute what % that is of the total delivered by NDBC to the GTS? (I didn't notice if you identify the total # stations anywhere).\n",
        "\n",
        "So, we can say \"IOOS stations represent x% of the total # stations whose data are delivered by NDBC to the GTS\""
      ],
      "metadata": {
        "id": "bOoSIKzamDkd"
      }
    },
    {
      "cell_type": "code",
      "source": [
        "ioos_ndbc_non_NDBC = yearly_totals.loc['IOOS'] + yearly_totals.loc['NDBC'] + yearly_totals.loc['non-NDBC']\n",
        "\n",
        "yearly_totals.loc['IOOS','total'].sum() / ioos_ndbc_non_NDBC['total'].sum()"
      ],
      "metadata": {
        "id": "O0lPp2EfmaTC"
      },
      "execution_count": null,
      "outputs": []
    },
    {
      "cell_type": "markdown",
      "source": [
        "# Total number of sponsors submitting data to the GTS via IOOS Regions"
      ],
      "metadata": {
        "id": "aLqg-WfXA9pM"
      }
    },
    {
      "cell_type": "code",
      "source": [
        "df.loc[df['source']=='IOOS'].sponsor"
      ],
      "metadata": {
        "id": "DmFEKp6lBxKQ"
      },
      "execution_count": null,
      "outputs": []
    },
    {
      "cell_type": "code",
      "source": [
        "len(df.loc[df['source']=='IOOS'].sponsor.unique())"
      ],
      "metadata": {
        "id": "NzHz6NWwASjd"
      },
      "execution_count": null,
      "outputs": []
    },
    {
      "cell_type": "markdown",
      "source": [
        "# Average number of messages (met+wave) per year\n",
        "\n",
        "For all the years, including 2025"
      ],
      "metadata": {
        "id": "zIS5yD1mb5XV"
      }
    },
    {
      "cell_type": "code",
      "source": [
        "print(df.groupby(by=[\"source\", pd.Grouper(freq=\"YE\")])[['met','wave']].sum().loc['IOOS'].mean().to_markdown(floatfmt=''))\n",
        "print(df.groupby(by=[\"source\", pd.Grouper(freq=\"YE\")])[['met','wave']].sum().loc['IOOS'].mean().sum())"
      ],
      "metadata": {
        "id": "HWRbvzvQBNHa"
      },
      "execution_count": null,
      "outputs": []
    },
    {
      "cell_type": "markdown",
      "source": [
        "for 2018-2024, since 2025 is only through March."
      ],
      "metadata": {
        "id": "04boOmYDe-rj"
      }
    },
    {
      "cell_type": "code",
      "source": [
        "print(df.groupby(by=[\"source\", pd.Grouper(freq=\"YE\")])[['met','wave']].sum().loc['IOOS'].loc[:\"2024\"].mean().to_markdown(floatfmt=''))\n",
        "print(df.groupby(by=[\"source\", pd.Grouper(freq=\"YE\")])[['met','wave']].sum().loc['IOOS'].loc[:\"2024\"].mean().sum())\n",
        "avg = df.groupby(by=[\"source\", pd.Grouper(freq=\"YE\")])[['met','wave']].sum().loc['IOOS'].loc[:\"2024\"].mean().sum()\n",
        "\n",
        "print(f'On average, IOOS regions submit a total of {avg:.2f} (~13 million!) messages per year to the GTS.')"
      ],
      "metadata": {
        "id": "Y5DbGOIId2ED"
      },
      "execution_count": null,
      "outputs": []
    },
    {
      "cell_type": "markdown",
      "source": [
        "## Total number of stations"
      ],
      "metadata": {
        "id": "Le56eL8LpEZV"
      }
    },
    {
      "cell_type": "code",
      "source": [
        "print(len(df.locationID.unique()))\n",
        "\n",
        "print(df.locationID.unique())"
      ],
      "metadata": {
        "id": "Vg2-Pn9NdW56"
      },
      "execution_count": null,
      "outputs": []
    },
    {
      "cell_type": "code",
      "source": [
        "260/1039"
      ],
      "metadata": {
        "id": "2CBSmqNJpLP1"
      },
      "execution_count": null,
      "outputs": []
    },
    {
      "cell_type": "code",
      "source": [
        "df.locationID"
      ],
      "metadata": {
        "id": "m-oa1lgwpr-E"
      },
      "execution_count": null,
      "outputs": []
    },
    {
      "cell_type": "markdown",
      "source": [
        "\"IOOS contributes the largest number of NOS platforms to the GTS.\" For the latter, we'd need to identify \"NOS\" (not to confuse with an earlier comment in a different issue about defining NOS, in which case I was equating NOS with CO-OPS based on the non-NDBC report labels). In this case,\n",
        "1. NOS = IOOS-regional (all) + non-NDBC (National ocean service, NOAA NOS PORTS, CBIBS, and NERRS.)\n",
        "\n",
        "2. Perhaps add another condition where if there are 0s for stations, then omit from the station count?\n",
        "\n",
        "3. And constrain the station count to only the Calendar Year 2024."
      ],
      "metadata": {
        "id": "OULOJE6QswLN"
      }
    },
    {
      "cell_type": "code",
      "source": [
        "non_ndbc_nos_list = ['CHESAPEAKE BAY INTERPRETIVE BUOY SYSTEM',\n",
        "'NATIONAL ESTUARINE RESEARCH RESERVE SYSTEM',\n",
        "'NATIONAL OCEAN SERVICE',\n",
        "'NOAA NOS PHYSICAL OCEANOGRAPHIC RT SYSTEM PROGRAM']\n",
        "\n",
        "df_non_ndbc = df.loc[df['source']=='non-NDBC']\n",
        "\n",
        "nos = df_non_ndbc[df_non_ndbc['sponsor'].isin(non_ndbc_nos_list)]\n",
        "print('total NOS:',len(nos))\n",
        "condition = (nos['met'] ==0) & (nos['wave']==0)\n",
        "print('NOS empty',len(condition.loc[condition]))\n",
        "nos = nos[~condition]\n",
        "print('total NOS-empty:',len(nos))\n",
        "\n",
        "\n",
        "ioos = df.loc[df['source']=='IOOS']\n",
        "print('total IOOS:',len(ioos))\n",
        "condition = (ioos['met'] ==0) & (ioos['wave']==0)\n",
        "print('IOOS empty',len(condition.loc[condition]))\n",
        "ioos = ioos[~condition]\n",
        "print('total IOOS-empty:',len(ioos))\n",
        "\n",
        "ioos_platform_count = len(ioos.locationID.unique())\n",
        "nos_platform_count = len(nos.locationID.unique())\n",
        "\n",
        "print(f'{ioos_platform_count} / {nos_platform_count + ioos_platform_count} = **{(ioos_platform_count/(nos_platform_count+ioos_platform_count))*100:.2f}%**')"
      ],
      "metadata": {
        "id": "pvC6itDgqQ5r"
      },
      "execution_count": null,
      "outputs": []
    },
    {
      "cell_type": "code",
      "source": [
        "ioos = df.loc[df['source']=='IOOS']\n",
        "ioos.loc[condition]['locationID'].unique()"
      ],
      "metadata": {
        "id": "bQ2VrBZtuIUD"
      },
      "execution_count": null,
      "outputs": []
    },
    {
      "cell_type": "code",
      "source": [
        "ioos = df.loc[df['source']=='IOOS']\n",
        "len(ioos.loc[(ioos['total_messages']!=0)].locationID.unique())"
      ],
      "metadata": {
        "id": "fk69rGIX0oip"
      },
      "execution_count": null,
      "outputs": []
    },
    {
      "cell_type": "code",
      "source": [
        "for loc in nos.locationID.unique():\n",
        "  if len(nos.loc[nos['locationID']==loc].source.unique()) >1:\n",
        "    print(loc,nos.loc[nos['locationID']==loc].source.unique())"
      ],
      "metadata": {
        "id": "6XATPDIQhZLq"
      },
      "execution_count": null,
      "outputs": []
    },
    {
      "cell_type": "code",
      "source": [
        "count = 0\n",
        "for sponsor in non_ndbc_nos_list:\n",
        "  length = len(nos.loc[nos['sponsor']==sponsor].locationID.unique())\n",
        "  print(f'{sponsor}: {length}')\n",
        "  count = count + length\n",
        "\n",
        "print(f'Total = {count}')\n",
        "print(f'Total w/ IOOS = {count+ioos_platform_count}')\n",
        "#len(nos.loc[nos['sponsor']=='CHESAPEAKE BAY INTERPRETIVE BUOY SYSTEM'].locationID.unique())"
      ],
      "metadata": {
        "id": "aVOgWJS78_CC"
      },
      "execution_count": null,
      "outputs": []
    },
    {
      "cell_type": "code",
      "source": [
        "non_ndbc_nos_list = ['CHESAPEAKE BAY INTERPRETIVE BUOY SYSTEM',\n",
        "'NATIONAL ESTUARINE RESEARCH RESERVE SYSTEM',\n",
        "'NATIONAL OCEAN SERVICE',\n",
        "'NOAA NOS PHYSICAL OCEANOGRAPHIC RT SYSTEM PROGRAM']\n",
        "\n",
        "df_non_ndbc = df.loc[df['source']=='non-NDBC']\n",
        "#print(len(df_non_ndbc))\n",
        "\n",
        "\n",
        "filtered = df_non_ndbc[df_non_ndbc['sponsor'].isin(non_ndbc_nos_list)]\n",
        "print('total NOS:',len(filtered))\n",
        "\n",
        "nos = pd.concat([filtered,df.loc[df['source']=='IOOS']])\n",
        "print('total IOOS:',len(nos.loc[nos['source']=='IOOS']))\n",
        "\n",
        "\n",
        "# drop empty met and wave rows\n",
        "condition = (nos['met'] ==0) & (nos['wave']==0)\n",
        "\n",
        "nos = nos[~condition]\n",
        "print('total IOOS-empty:',len(nos.loc[nos['source']=='IOOS']))\n",
        "print('total NOS-empty:',len(nos.loc[nos['source']!='IOOS']))\n",
        "\n",
        "ioos_platform_count = len(nos.loc[nos['source']=='IOOS'].locationID.unique())\n",
        "nos_platform_count = len(nos.locationID.unique())\n",
        "\n",
        "print(f'{ioos_platform_count} / {nos_platform_count} = **{(ioos_platform_count/nos_platform_count)*100:.2f}%**')"
      ],
      "metadata": {
        "id": "YCJwvcXhYB0Z"
      },
      "execution_count": null,
      "outputs": []
    },
    {
      "cell_type": "code",
      "source": [
        "for loc in nos.locationID.unique():\n",
        "  if len(nos.loc[nos['locationID']==loc].source.unique()) >1:\n",
        "    print(loc,nos.loc[nos['locationID']==loc].source.unique())"
      ],
      "metadata": {
        "id": "krssnibzdfBc"
      },
      "execution_count": null,
      "outputs": []
    },
    {
      "cell_type": "code",
      "source": [
        "nos.loc[nos['sponsor']=='NATIONAL OCEAN SERVICE'].source.unique()"
      ],
      "metadata": {
        "id": "r4lBO01PCZIH"
      },
      "execution_count": null,
      "outputs": []
    },
    {
      "cell_type": "code",
      "source": [
        "len(nos.loc[nos['sponsor']=='NATIONAL ESTUARINE RESEARCH RESERVE SYSTEM'].locationID.unique())"
      ],
      "metadata": {
        "id": "WGlkvSiDBF--"
      },
      "execution_count": null,
      "outputs": []
    },
    {
      "cell_type": "code",
      "source": [
        "len(nos.loc[nos['sponsor']=='NATIONAL OCEAN SERVICE'].locationID.unique())"
      ],
      "metadata": {
        "id": "QW-uGmZvBLM1"
      },
      "execution_count": null,
      "outputs": []
    },
    {
      "cell_type": "code",
      "source": [
        "len(nos.loc[nos['sponsor']=='NOAA NOS PHYSICAL OCEANOGRAPHIC RT SYSTEM PROGRAM'].locationID.unique())"
      ],
      "metadata": {
        "id": "o0__fXjwBqPk"
      },
      "execution_count": null,
      "outputs": []
    },
    {
      "cell_type": "code",
      "source": [
        "df.loc[df['source']=='non-NDBC'].sponsor.unique()"
      ],
      "metadata": {
        "id": "ZnC80pQPtPPJ"
      },
      "execution_count": null,
      "outputs": []
    },
    {
      "cell_type": "code",
      "source": [
        "df_ioos = df.loc[(df['source']=='IOOS')]\n",
        "\n",
        "condition = (df_ioos['met'] ==0) & (df_ioos['wave']==0)\n",
        "\n",
        "len(df_ioos[~condition].locationID.unique())"
      ],
      "metadata": {
        "id": "FQKtGUQxufJJ",
        "outputId": "9b32e4a2-0edd-4fdc-8b17-9d7672154a61",
        "colab": {
          "base_uri": "https://localhost:8080/"
        }
      },
      "execution_count": 70,
      "outputs": [
        {
          "output_type": "execute_result",
          "data": {
            "text/plain": [
              "237"
            ]
          },
          "metadata": {},
          "execution_count": 70
        }
      ]
    },
    {
      "cell_type": "code",
      "source": [
        "df.locationID.unique()\n",
        "\n",
        "condition = (df['met'] ==0) & (df['wave']==0)\n",
        "\n",
        "zero_obs = df[condition]\n",
        "\n",
        "no_obs_loc = []\n",
        "\n",
        "for loc in zero_obs['locationID'].unique():\n",
        "  if df.loc[(df['locationID'] == loc),'total'].any() == 0:\n",
        "    no_obs_loc.append(loc)\n",
        "    print(f'{loc} has no obs!')\n",
        "\n",
        "print(f'This many platforms do not have observations for the entire record: {len(no_obs_loc)}')"
      ],
      "metadata": {
        "id": "3PLbjUcN3mWe",
        "outputId": "49763832-537e-4fa8-d285-10fb923c16cb",
        "colab": {
          "base_uri": "https://localhost:8080/"
        }
      },
      "execution_count": 81,
      "outputs": [
        {
          "output_type": "stream",
          "name": "stdout",
          "text": [
            "41058 has no obs!\n",
            "IMGP4 has no obs!\n",
            "AUDP4 has no obs!\n",
            "FRDP4 has no obs!\n",
            "VQSP4 has no obs!\n",
            "YABP4 has no obs!\n",
            "CQUC1 has no obs!\n",
            "HBXC1 has no obs!\n",
            "MYXC1 has no obs!\n",
            "TDPC1 has no obs!\n",
            "MBXC1 has no obs!\n",
            "BDXC1 has no obs!\n",
            "FPXC1 has no obs!\n",
            "GRBL1 has no obs!\n",
            "42046 has no obs!\n",
            "LYBT2 has no obs!\n",
            "45179 has no obs!\n",
            "DMNO3 has no obs!\n",
            "46119 has no obs!\n",
            "51203 has no obs!\n",
            "51204 has no obs!\n",
            "46124 has no obs!\n",
            "PTAC1 has no obs!\n",
            "MBPA1 has no obs!\n",
            "42369 has no obs!\n",
            "42375 has no obs!\n",
            "42392 has no obs!\n",
            "42887 has no obs!\n",
            "SACV4 has no obs!\n",
            "VERV4 has no obs!\n",
            "41116 has no obs!\n",
            "44093 has no obs!\n",
            "LBRF1 has no obs!\n",
            "MUKF1 has no obs!\n",
            "42087 has no obs!\n",
            "42088 has no obs!\n",
            "42089 has no obs!\n",
            "42090 has no obs!\n",
            "BKTL1 has no obs!\n",
            "CARL1 has no obs!\n",
            "CPVM2 has no obs!\n",
            "DMSF1 has no obs!\n",
            "FRXM3 has no obs!\n",
            "GCVF1 has no obs!\n",
            "JXUF1 has no obs!\n",
            "LTJF1 has no obs!\n",
            "MCYF1 has no obs!\n",
            "OBXC1 has no obs!\n",
            "PMOA2 has no obs!\n",
            "PNLM6 has no obs!\n",
            "PRUR1 has no obs!\n",
            "PTOA1 has no obs!\n",
            "PXSC1 has no obs!\n",
            "RCYF1 has no obs!\n",
            "ULAM6 has no obs!\n",
            "WBYA1 has no obs!\n",
            "AGMW3 has no obs!\n",
            "SYWW3 has no obs!\n",
            "BARN6 has no obs!\n",
            "LMSS1 has no obs!\n",
            "GBRM6 has no obs!\n",
            "BBSF1 has no obs!\n",
            "BBNF1 has no obs!\n",
            "EFLA1 has no obs!\n",
            "This many platforms do not have observations for the entire record: 64\n"
          ]
        }
      ]
    },
    {
      "cell_type": "code",
      "source": [
        "df.loc[(df['locationID'] == 'TDPC1') & (df['total'] = 0)]"
      ],
      "metadata": {
        "id": "tGE1DivhP_yD",
        "outputId": "30292a04-70f6-46c4-e0ea-55ff56cc5d57",
        "colab": {
          "base_uri": "https://localhost:8080/",
          "height": 455
        }
      },
      "execution_count": 78,
      "outputs": [
        {
          "output_type": "execute_result",
          "data": {
            "text/plain": [
              "                           Year  Month locationID   region  \\\n",
              "time (UTC)                                                   \n",
              "2018-01-01 00:00:00+00:00  2018      1      TDPC1  CeNCOOS   \n",
              "2018-02-01 00:00:00+00:00  2018      2      TDPC1  CeNCOOS   \n",
              "2018-03-01 00:00:00+00:00  2018      3      TDPC1  CeNCOOS   \n",
              "2018-04-01 00:00:00+00:00  2018      4      TDPC1  CeNCOOS   \n",
              "2018-05-01 00:00:00+00:00  2018      5      TDPC1  CeNCOOS   \n",
              "...                         ...    ...        ...      ...   \n",
              "2024-11-01 00:00:00+00:00  2024     11      TDPC1  CeNCOOS   \n",
              "2024-12-01 00:00:00+00:00  2024     12      TDPC1  CeNCOOS   \n",
              "2025-01-01 00:00:00+00:00  2025      1      TDPC1  CeNCOOS   \n",
              "2025-02-01 00:00:00+00:00  2025      2      TDPC1  CeNCOOS   \n",
              "2025-03-01 00:00:00+00:00  2025      3      TDPC1  CeNCOOS   \n",
              "\n",
              "                                                                     sponsor  \\\n",
              "time (UTC)                                                                     \n",
              "2018-01-01 00:00:00+00:00  CENTRAL AND NORTHERN CALIFORNIA OCEAN OBSERVIN...   \n",
              "2018-02-01 00:00:00+00:00  CENTRAL AND NORTHERN CALIFORNIA OCEAN OBSERVIN...   \n",
              "2018-03-01 00:00:00+00:00  CENTRAL AND NORTHERN CALIFORNIA OCEAN OBSERVIN...   \n",
              "2018-04-01 00:00:00+00:00  CENTRAL AND NORTHERN CALIFORNIA OCEAN OBSERVIN...   \n",
              "2018-05-01 00:00:00+00:00  CENTRAL AND NORTHERN CALIFORNIA OCEAN OBSERVIN...   \n",
              "...                                                                      ...   \n",
              "2024-11-01 00:00:00+00:00  CENTRAL AND NORTHERN CALIFORNIA OCEAN OBSERVIN...   \n",
              "2024-12-01 00:00:00+00:00  CENTRAL AND NORTHERN CALIFORNIA OCEAN OBSERVIN...   \n",
              "2025-01-01 00:00:00+00:00  CENTRAL AND NORTHERN CALIFORNIA OCEAN OBSERVIN...   \n",
              "2025-02-01 00:00:00+00:00  CENTRAL AND NORTHERN CALIFORNIA OCEAN OBSERVIN...   \n",
              "2025-03-01 00:00:00+00:00  CENTRAL AND NORTHERN CALIFORNIA OCEAN OBSERVIN...   \n",
              "\n",
              "                           met  wave source  total  \n",
              "time (UTC)                                          \n",
              "2018-01-01 00:00:00+00:00    0     0   IOOS      0  \n",
              "2018-02-01 00:00:00+00:00    0     0   IOOS      0  \n",
              "2018-03-01 00:00:00+00:00    0     0   IOOS      0  \n",
              "2018-04-01 00:00:00+00:00    0     0   IOOS      0  \n",
              "2018-05-01 00:00:00+00:00    0     0   IOOS      0  \n",
              "...                        ...   ...    ...    ...  \n",
              "2024-11-01 00:00:00+00:00    0     0   IOOS      0  \n",
              "2024-12-01 00:00:00+00:00    0     0   IOOS      0  \n",
              "2025-01-01 00:00:00+00:00    0     0   IOOS      0  \n",
              "2025-02-01 00:00:00+00:00    0     0   IOOS      0  \n",
              "2025-03-01 00:00:00+00:00    0     0   IOOS      0  \n",
              "\n",
              "[87 rows x 9 columns]"
            ],
            "text/html": [
              "\n",
              "  <div id=\"df-73a8be9a-f582-420d-a85e-173e33186ffb\" class=\"colab-df-container\">\n",
              "    <div>\n",
              "<style scoped>\n",
              "    .dataframe tbody tr th:only-of-type {\n",
              "        vertical-align: middle;\n",
              "    }\n",
              "\n",
              "    .dataframe tbody tr th {\n",
              "        vertical-align: top;\n",
              "    }\n",
              "\n",
              "    .dataframe thead th {\n",
              "        text-align: right;\n",
              "    }\n",
              "</style>\n",
              "<table border=\"1\" class=\"dataframe\">\n",
              "  <thead>\n",
              "    <tr style=\"text-align: right;\">\n",
              "      <th></th>\n",
              "      <th>Year</th>\n",
              "      <th>Month</th>\n",
              "      <th>locationID</th>\n",
              "      <th>region</th>\n",
              "      <th>sponsor</th>\n",
              "      <th>met</th>\n",
              "      <th>wave</th>\n",
              "      <th>source</th>\n",
              "      <th>total</th>\n",
              "    </tr>\n",
              "    <tr>\n",
              "      <th>time (UTC)</th>\n",
              "      <th></th>\n",
              "      <th></th>\n",
              "      <th></th>\n",
              "      <th></th>\n",
              "      <th></th>\n",
              "      <th></th>\n",
              "      <th></th>\n",
              "      <th></th>\n",
              "      <th></th>\n",
              "    </tr>\n",
              "  </thead>\n",
              "  <tbody>\n",
              "    <tr>\n",
              "      <th>2018-01-01 00:00:00+00:00</th>\n",
              "      <td>2018</td>\n",
              "      <td>1</td>\n",
              "      <td>TDPC1</td>\n",
              "      <td>CeNCOOS</td>\n",
              "      <td>CENTRAL AND NORTHERN CALIFORNIA OCEAN OBSERVIN...</td>\n",
              "      <td>0</td>\n",
              "      <td>0</td>\n",
              "      <td>IOOS</td>\n",
              "      <td>0</td>\n",
              "    </tr>\n",
              "    <tr>\n",
              "      <th>2018-02-01 00:00:00+00:00</th>\n",
              "      <td>2018</td>\n",
              "      <td>2</td>\n",
              "      <td>TDPC1</td>\n",
              "      <td>CeNCOOS</td>\n",
              "      <td>CENTRAL AND NORTHERN CALIFORNIA OCEAN OBSERVIN...</td>\n",
              "      <td>0</td>\n",
              "      <td>0</td>\n",
              "      <td>IOOS</td>\n",
              "      <td>0</td>\n",
              "    </tr>\n",
              "    <tr>\n",
              "      <th>2018-03-01 00:00:00+00:00</th>\n",
              "      <td>2018</td>\n",
              "      <td>3</td>\n",
              "      <td>TDPC1</td>\n",
              "      <td>CeNCOOS</td>\n",
              "      <td>CENTRAL AND NORTHERN CALIFORNIA OCEAN OBSERVIN...</td>\n",
              "      <td>0</td>\n",
              "      <td>0</td>\n",
              "      <td>IOOS</td>\n",
              "      <td>0</td>\n",
              "    </tr>\n",
              "    <tr>\n",
              "      <th>2018-04-01 00:00:00+00:00</th>\n",
              "      <td>2018</td>\n",
              "      <td>4</td>\n",
              "      <td>TDPC1</td>\n",
              "      <td>CeNCOOS</td>\n",
              "      <td>CENTRAL AND NORTHERN CALIFORNIA OCEAN OBSERVIN...</td>\n",
              "      <td>0</td>\n",
              "      <td>0</td>\n",
              "      <td>IOOS</td>\n",
              "      <td>0</td>\n",
              "    </tr>\n",
              "    <tr>\n",
              "      <th>2018-05-01 00:00:00+00:00</th>\n",
              "      <td>2018</td>\n",
              "      <td>5</td>\n",
              "      <td>TDPC1</td>\n",
              "      <td>CeNCOOS</td>\n",
              "      <td>CENTRAL AND NORTHERN CALIFORNIA OCEAN OBSERVIN...</td>\n",
              "      <td>0</td>\n",
              "      <td>0</td>\n",
              "      <td>IOOS</td>\n",
              "      <td>0</td>\n",
              "    </tr>\n",
              "    <tr>\n",
              "      <th>...</th>\n",
              "      <td>...</td>\n",
              "      <td>...</td>\n",
              "      <td>...</td>\n",
              "      <td>...</td>\n",
              "      <td>...</td>\n",
              "      <td>...</td>\n",
              "      <td>...</td>\n",
              "      <td>...</td>\n",
              "      <td>...</td>\n",
              "    </tr>\n",
              "    <tr>\n",
              "      <th>2024-11-01 00:00:00+00:00</th>\n",
              "      <td>2024</td>\n",
              "      <td>11</td>\n",
              "      <td>TDPC1</td>\n",
              "      <td>CeNCOOS</td>\n",
              "      <td>CENTRAL AND NORTHERN CALIFORNIA OCEAN OBSERVIN...</td>\n",
              "      <td>0</td>\n",
              "      <td>0</td>\n",
              "      <td>IOOS</td>\n",
              "      <td>0</td>\n",
              "    </tr>\n",
              "    <tr>\n",
              "      <th>2024-12-01 00:00:00+00:00</th>\n",
              "      <td>2024</td>\n",
              "      <td>12</td>\n",
              "      <td>TDPC1</td>\n",
              "      <td>CeNCOOS</td>\n",
              "      <td>CENTRAL AND NORTHERN CALIFORNIA OCEAN OBSERVIN...</td>\n",
              "      <td>0</td>\n",
              "      <td>0</td>\n",
              "      <td>IOOS</td>\n",
              "      <td>0</td>\n",
              "    </tr>\n",
              "    <tr>\n",
              "      <th>2025-01-01 00:00:00+00:00</th>\n",
              "      <td>2025</td>\n",
              "      <td>1</td>\n",
              "      <td>TDPC1</td>\n",
              "      <td>CeNCOOS</td>\n",
              "      <td>CENTRAL AND NORTHERN CALIFORNIA OCEAN OBSERVIN...</td>\n",
              "      <td>0</td>\n",
              "      <td>0</td>\n",
              "      <td>IOOS</td>\n",
              "      <td>0</td>\n",
              "    </tr>\n",
              "    <tr>\n",
              "      <th>2025-02-01 00:00:00+00:00</th>\n",
              "      <td>2025</td>\n",
              "      <td>2</td>\n",
              "      <td>TDPC1</td>\n",
              "      <td>CeNCOOS</td>\n",
              "      <td>CENTRAL AND NORTHERN CALIFORNIA OCEAN OBSERVIN...</td>\n",
              "      <td>0</td>\n",
              "      <td>0</td>\n",
              "      <td>IOOS</td>\n",
              "      <td>0</td>\n",
              "    </tr>\n",
              "    <tr>\n",
              "      <th>2025-03-01 00:00:00+00:00</th>\n",
              "      <td>2025</td>\n",
              "      <td>3</td>\n",
              "      <td>TDPC1</td>\n",
              "      <td>CeNCOOS</td>\n",
              "      <td>CENTRAL AND NORTHERN CALIFORNIA OCEAN OBSERVIN...</td>\n",
              "      <td>0</td>\n",
              "      <td>0</td>\n",
              "      <td>IOOS</td>\n",
              "      <td>0</td>\n",
              "    </tr>\n",
              "  </tbody>\n",
              "</table>\n",
              "<p>87 rows × 9 columns</p>\n",
              "</div>\n",
              "    <div class=\"colab-df-buttons\">\n",
              "\n",
              "  <div class=\"colab-df-container\">\n",
              "    <button class=\"colab-df-convert\" onclick=\"convertToInteractive('df-73a8be9a-f582-420d-a85e-173e33186ffb')\"\n",
              "            title=\"Convert this dataframe to an interactive table.\"\n",
              "            style=\"display:none;\">\n",
              "\n",
              "  <svg xmlns=\"http://www.w3.org/2000/svg\" height=\"24px\" viewBox=\"0 -960 960 960\">\n",
              "    <path d=\"M120-120v-720h720v720H120Zm60-500h600v-160H180v160Zm220 220h160v-160H400v160Zm0 220h160v-160H400v160ZM180-400h160v-160H180v160Zm440 0h160v-160H620v160ZM180-180h160v-160H180v160Zm440 0h160v-160H620v160Z\"/>\n",
              "  </svg>\n",
              "    </button>\n",
              "\n",
              "  <style>\n",
              "    .colab-df-container {\n",
              "      display:flex;\n",
              "      gap: 12px;\n",
              "    }\n",
              "\n",
              "    .colab-df-convert {\n",
              "      background-color: #E8F0FE;\n",
              "      border: none;\n",
              "      border-radius: 50%;\n",
              "      cursor: pointer;\n",
              "      display: none;\n",
              "      fill: #1967D2;\n",
              "      height: 32px;\n",
              "      padding: 0 0 0 0;\n",
              "      width: 32px;\n",
              "    }\n",
              "\n",
              "    .colab-df-convert:hover {\n",
              "      background-color: #E2EBFA;\n",
              "      box-shadow: 0px 1px 2px rgba(60, 64, 67, 0.3), 0px 1px 3px 1px rgba(60, 64, 67, 0.15);\n",
              "      fill: #174EA6;\n",
              "    }\n",
              "\n",
              "    .colab-df-buttons div {\n",
              "      margin-bottom: 4px;\n",
              "    }\n",
              "\n",
              "    [theme=dark] .colab-df-convert {\n",
              "      background-color: #3B4455;\n",
              "      fill: #D2E3FC;\n",
              "    }\n",
              "\n",
              "    [theme=dark] .colab-df-convert:hover {\n",
              "      background-color: #434B5C;\n",
              "      box-shadow: 0px 1px 3px 1px rgba(0, 0, 0, 0.15);\n",
              "      filter: drop-shadow(0px 1px 2px rgba(0, 0, 0, 0.3));\n",
              "      fill: #FFFFFF;\n",
              "    }\n",
              "  </style>\n",
              "\n",
              "    <script>\n",
              "      const buttonEl =\n",
              "        document.querySelector('#df-73a8be9a-f582-420d-a85e-173e33186ffb button.colab-df-convert');\n",
              "      buttonEl.style.display =\n",
              "        google.colab.kernel.accessAllowed ? 'block' : 'none';\n",
              "\n",
              "      async function convertToInteractive(key) {\n",
              "        const element = document.querySelector('#df-73a8be9a-f582-420d-a85e-173e33186ffb');\n",
              "        const dataTable =\n",
              "          await google.colab.kernel.invokeFunction('convertToInteractive',\n",
              "                                                    [key], {});\n",
              "        if (!dataTable) return;\n",
              "\n",
              "        const docLinkHtml = 'Like what you see? Visit the ' +\n",
              "          '<a target=\"_blank\" href=https://colab.research.google.com/notebooks/data_table.ipynb>data table notebook</a>'\n",
              "          + ' to learn more about interactive tables.';\n",
              "        element.innerHTML = '';\n",
              "        dataTable['output_type'] = 'display_data';\n",
              "        await google.colab.output.renderOutput(dataTable, element);\n",
              "        const docLink = document.createElement('div');\n",
              "        docLink.innerHTML = docLinkHtml;\n",
              "        element.appendChild(docLink);\n",
              "      }\n",
              "    </script>\n",
              "  </div>\n",
              "\n",
              "\n",
              "    <div id=\"df-3d58e262-4e6b-42e3-b293-e7486dae05b9\">\n",
              "      <button class=\"colab-df-quickchart\" onclick=\"quickchart('df-3d58e262-4e6b-42e3-b293-e7486dae05b9')\"\n",
              "                title=\"Suggest charts\"\n",
              "                style=\"display:none;\">\n",
              "\n",
              "<svg xmlns=\"http://www.w3.org/2000/svg\" height=\"24px\"viewBox=\"0 0 24 24\"\n",
              "     width=\"24px\">\n",
              "    <g>\n",
              "        <path d=\"M19 3H5c-1.1 0-2 .9-2 2v14c0 1.1.9 2 2 2h14c1.1 0 2-.9 2-2V5c0-1.1-.9-2-2-2zM9 17H7v-7h2v7zm4 0h-2V7h2v10zm4 0h-2v-4h2v4z\"/>\n",
              "    </g>\n",
              "</svg>\n",
              "      </button>\n",
              "\n",
              "<style>\n",
              "  .colab-df-quickchart {\n",
              "      --bg-color: #E8F0FE;\n",
              "      --fill-color: #1967D2;\n",
              "      --hover-bg-color: #E2EBFA;\n",
              "      --hover-fill-color: #174EA6;\n",
              "      --disabled-fill-color: #AAA;\n",
              "      --disabled-bg-color: #DDD;\n",
              "  }\n",
              "\n",
              "  [theme=dark] .colab-df-quickchart {\n",
              "      --bg-color: #3B4455;\n",
              "      --fill-color: #D2E3FC;\n",
              "      --hover-bg-color: #434B5C;\n",
              "      --hover-fill-color: #FFFFFF;\n",
              "      --disabled-bg-color: #3B4455;\n",
              "      --disabled-fill-color: #666;\n",
              "  }\n",
              "\n",
              "  .colab-df-quickchart {\n",
              "    background-color: var(--bg-color);\n",
              "    border: none;\n",
              "    border-radius: 50%;\n",
              "    cursor: pointer;\n",
              "    display: none;\n",
              "    fill: var(--fill-color);\n",
              "    height: 32px;\n",
              "    padding: 0;\n",
              "    width: 32px;\n",
              "  }\n",
              "\n",
              "  .colab-df-quickchart:hover {\n",
              "    background-color: var(--hover-bg-color);\n",
              "    box-shadow: 0 1px 2px rgba(60, 64, 67, 0.3), 0 1px 3px 1px rgba(60, 64, 67, 0.15);\n",
              "    fill: var(--button-hover-fill-color);\n",
              "  }\n",
              "\n",
              "  .colab-df-quickchart-complete:disabled,\n",
              "  .colab-df-quickchart-complete:disabled:hover {\n",
              "    background-color: var(--disabled-bg-color);\n",
              "    fill: var(--disabled-fill-color);\n",
              "    box-shadow: none;\n",
              "  }\n",
              "\n",
              "  .colab-df-spinner {\n",
              "    border: 2px solid var(--fill-color);\n",
              "    border-color: transparent;\n",
              "    border-bottom-color: var(--fill-color);\n",
              "    animation:\n",
              "      spin 1s steps(1) infinite;\n",
              "  }\n",
              "\n",
              "  @keyframes spin {\n",
              "    0% {\n",
              "      border-color: transparent;\n",
              "      border-bottom-color: var(--fill-color);\n",
              "      border-left-color: var(--fill-color);\n",
              "    }\n",
              "    20% {\n",
              "      border-color: transparent;\n",
              "      border-left-color: var(--fill-color);\n",
              "      border-top-color: var(--fill-color);\n",
              "    }\n",
              "    30% {\n",
              "      border-color: transparent;\n",
              "      border-left-color: var(--fill-color);\n",
              "      border-top-color: var(--fill-color);\n",
              "      border-right-color: var(--fill-color);\n",
              "    }\n",
              "    40% {\n",
              "      border-color: transparent;\n",
              "      border-right-color: var(--fill-color);\n",
              "      border-top-color: var(--fill-color);\n",
              "    }\n",
              "    60% {\n",
              "      border-color: transparent;\n",
              "      border-right-color: var(--fill-color);\n",
              "    }\n",
              "    80% {\n",
              "      border-color: transparent;\n",
              "      border-right-color: var(--fill-color);\n",
              "      border-bottom-color: var(--fill-color);\n",
              "    }\n",
              "    90% {\n",
              "      border-color: transparent;\n",
              "      border-bottom-color: var(--fill-color);\n",
              "    }\n",
              "  }\n",
              "</style>\n",
              "\n",
              "      <script>\n",
              "        async function quickchart(key) {\n",
              "          const quickchartButtonEl =\n",
              "            document.querySelector('#' + key + ' button');\n",
              "          quickchartButtonEl.disabled = true;  // To prevent multiple clicks.\n",
              "          quickchartButtonEl.classList.add('colab-df-spinner');\n",
              "          try {\n",
              "            const charts = await google.colab.kernel.invokeFunction(\n",
              "                'suggestCharts', [key], {});\n",
              "          } catch (error) {\n",
              "            console.error('Error during call to suggestCharts:', error);\n",
              "          }\n",
              "          quickchartButtonEl.classList.remove('colab-df-spinner');\n",
              "          quickchartButtonEl.classList.add('colab-df-quickchart-complete');\n",
              "        }\n",
              "        (() => {\n",
              "          let quickchartButtonEl =\n",
              "            document.querySelector('#df-3d58e262-4e6b-42e3-b293-e7486dae05b9 button');\n",
              "          quickchartButtonEl.style.display =\n",
              "            google.colab.kernel.accessAllowed ? 'block' : 'none';\n",
              "        })();\n",
              "      </script>\n",
              "    </div>\n",
              "\n",
              "    </div>\n",
              "  </div>\n"
            ],
            "application/vnd.google.colaboratory.intrinsic+json": {
              "type": "dataframe",
              "summary": "{\n  \"name\": \"df\",\n  \"rows\": 87,\n  \"fields\": [\n    {\n      \"column\": \"time (UTC)\",\n      \"properties\": {\n        \"dtype\": \"date\",\n        \"min\": \"2018-01-01 00:00:00+00:00\",\n        \"max\": \"2025-03-01 00:00:00+00:00\",\n        \"num_unique_values\": 87,\n        \"samples\": [\n          \"2024-05-01 00:00:00+00:00\",\n          \"2018-01-01 00:00:00+00:00\",\n          \"2020-03-01 00:00:00+00:00\"\n        ],\n        \"semantic_type\": \"\",\n        \"description\": \"\"\n      }\n    },\n    {\n      \"column\": \"Year\",\n      \"properties\": {\n        \"dtype\": \"number\",\n        \"std\": 2,\n        \"min\": 2018,\n        \"max\": 2025,\n        \"num_unique_values\": 8,\n        \"samples\": [\n          2019,\n          2023,\n          2018\n        ],\n        \"semantic_type\": \"\",\n        \"description\": \"\"\n      }\n    },\n    {\n      \"column\": \"Month\",\n      \"properties\": {\n        \"dtype\": \"number\",\n        \"std\": 3,\n        \"min\": 1,\n        \"max\": 12,\n        \"num_unique_values\": 12,\n        \"samples\": [\n          11,\n          10,\n          1\n        ],\n        \"semantic_type\": \"\",\n        \"description\": \"\"\n      }\n    },\n    {\n      \"column\": \"locationID\",\n      \"properties\": {\n        \"dtype\": \"category\",\n        \"num_unique_values\": 1,\n        \"samples\": [\n          \"TDPC1\"\n        ],\n        \"semantic_type\": \"\",\n        \"description\": \"\"\n      }\n    },\n    {\n      \"column\": \"region\",\n      \"properties\": {\n        \"dtype\": \"category\",\n        \"num_unique_values\": 1,\n        \"samples\": [\n          \"CeNCOOS\"\n        ],\n        \"semantic_type\": \"\",\n        \"description\": \"\"\n      }\n    },\n    {\n      \"column\": \"sponsor\",\n      \"properties\": {\n        \"dtype\": \"category\",\n        \"num_unique_values\": 1,\n        \"samples\": [\n          \"CENTRAL AND NORTHERN CALIFORNIA OCEAN OBSERVING SYSTEM\"\n        ],\n        \"semantic_type\": \"\",\n        \"description\": \"\"\n      }\n    },\n    {\n      \"column\": \"met\",\n      \"properties\": {\n        \"dtype\": \"number\",\n        \"std\": 0,\n        \"min\": 0,\n        \"max\": 0,\n        \"num_unique_values\": 1,\n        \"samples\": [\n          0\n        ],\n        \"semantic_type\": \"\",\n        \"description\": \"\"\n      }\n    },\n    {\n      \"column\": \"wave\",\n      \"properties\": {\n        \"dtype\": \"number\",\n        \"std\": 0,\n        \"min\": 0,\n        \"max\": 0,\n        \"num_unique_values\": 1,\n        \"samples\": [\n          0\n        ],\n        \"semantic_type\": \"\",\n        \"description\": \"\"\n      }\n    },\n    {\n      \"column\": \"source\",\n      \"properties\": {\n        \"dtype\": \"category\",\n        \"num_unique_values\": 1,\n        \"samples\": [\n          \"IOOS\"\n        ],\n        \"semantic_type\": \"\",\n        \"description\": \"\"\n      }\n    },\n    {\n      \"column\": \"total\",\n      \"properties\": {\n        \"dtype\": \"number\",\n        \"std\": 0,\n        \"min\": 0,\n        \"max\": 0,\n        \"num_unique_values\": 1,\n        \"samples\": [\n          0\n        ],\n        \"semantic_type\": \"\",\n        \"description\": \"\"\n      }\n    }\n  ]\n}"
            }
          },
          "metadata": {},
          "execution_count": 78
        }
      ]
    },
    {
      "cell_type": "markdown",
      "source": [
        "To confirm that number, here we search for each of those platform IDs and calculate some statistics. If the statistics are all zero for `met`, `wave`, and `total`, then we don't have observations for all those platforms."
      ],
      "metadata": {
        "id": "IoW7xacdN1e3"
      }
    },
    {
      "cell_type": "code",
      "source": [
        "len(df.loc[(df['locationID'].isin(no_obs_loc)) & (df.index>='2024-01-01') & (df.index<='2024-12-31') & (df['source'] == 'IOOS')].locationID.unique())"
      ],
      "metadata": {
        "id": "Av5O0nIcMwqQ",
        "outputId": "24640dd0-5df0-45a2-eda5-ab40845c13bf",
        "colab": {
          "base_uri": "https://localhost:8080/"
        }
      },
      "execution_count": 68,
      "outputs": [
        {
          "output_type": "execute_result",
          "data": {
            "text/plain": [
              "15"
            ]
          },
          "metadata": {},
          "execution_count": 68
        }
      ]
    },
    {
      "cell_type": "code",
      "source": [
        "260-15"
      ],
      "metadata": {
        "id": "i296r1w1PLPr",
        "outputId": "802409db-c247-4faf-b514-a1ecebad5f4a",
        "colab": {
          "base_uri": "https://localhost:8080/"
        }
      },
      "execution_count": 69,
      "outputs": [
        {
          "output_type": "execute_result",
          "data": {
            "text/plain": [
              "245"
            ]
          },
          "metadata": {},
          "execution_count": 69
        }
      ]
    },
    {
      "cell_type": "code",
      "source": [
        "(237/975) * 100"
      ],
      "metadata": {
        "id": "fvFBqVrE6t02"
      },
      "execution_count": null,
      "outputs": []
    },
    {
      "cell_type": "code",
      "source": [
        "df.to_csv('gts_metrics.csv', index=False)"
      ],
      "metadata": {
        "id": "UjhfYofL7zzW"
      },
      "execution_count": null,
      "outputs": []
    },
    {
      "cell_type": "markdown",
      "source": [
        "# From Gemini\n",
        "\n",
        "Prompt:\n",
        "1. ```Can you write a few statements about the importance of the data sourced from IOOS in relation to the entire dataset?```\n",
        "2. ``` What about framing it around the total number of messages sent to the GTS by each source? ```\n"
      ],
      "metadata": {
        "id": "bGiN-lp0P_U-"
      }
    },
    {
      "cell_type": "code",
      "source": [
        "# Create the 'total_messages' column\n",
        "df['total_messages'] = df['met'] + df['wave']\n",
        "\n",
        "# Group by source and sum 'total_messages'\n",
        "messages_by_source = df.groupby('source')['total_messages'].sum().reset_index()\n",
        "\n",
        "# Calculate the grand total of messages\n",
        "grand_total_messages = messages_by_source['total_messages'].sum()\n",
        "\n",
        "# Calculate the percentage for each source\n",
        "messages_by_source['percentage'] = (messages_by_source['total_messages'] / grand_total_messages) * 100\n",
        "\n",
        "# Sort by total messages descending for better presentation\n",
        "messages_by_source = messages_by_source.sort_values(by='total_messages', ascending=False)\n",
        "\n",
        "# Print the results\n",
        "print(\"Total Messages Sent to GTS (met + wave) by Source:\")\n",
        "print(messages_by_source.to_markdown(index=False, numalign=\"left\", stralign=\"left\", floatfmt=\".2f\"))\n",
        "\n",
        "# Store the IOOS percentage for easy reference in the text\n",
        "ioos_percentage = messages_by_source.loc[messages_by_source['source'] == 'IOOS', 'percentage'].iloc[0]\n",
        "ioos_total_messages = messages_by_source.loc[messages_by_source['source'] == 'IOOS', 'total_messages'].iloc[0]\n",
        "non_ndbc_total_messages = messages_by_source.loc[messages_by_source['source'] == 'non-NDBC', 'total_messages'].iloc[0]"
      ],
      "metadata": {
        "id": "b7s9L27lTfBb"
      },
      "execution_count": null,
      "outputs": []
    },
    {
      "cell_type": "markdown",
      "source": [
        "3. ```Can you also frame it around source and platformID?```"
      ],
      "metadata": {
        "id": "K0Ki9aRdTj25"
      }
    },
    {
      "cell_type": "code",
      "source": [
        "# Assuming 'platformID' refers to the 'locationID' column as 'platformID' does not exist in the data.\n",
        "# Group by source and count unique locationIDs\n",
        "locations_per_source = df.groupby('source')['locationID'].nunique().reset_index()\n",
        "locations_per_source = locations_per_source.rename(columns={'locationID': 'unique_locations'})\n",
        "\n",
        "# Merge this with the previously calculated messages_by_source DataFrame\n",
        "# (Reload messages_by_source calculation for robustness in case kernel state changed)\n",
        "df['total_messages'] = df['met'] + df['wave']\n",
        "messages_by_source = df.groupby('source')['total_messages'].sum().reset_index()\n",
        "source_summary = pd.merge(messages_by_source, locations_per_source, on='source')\n",
        "\n",
        "# Calculate average messages per location for each source\n",
        "source_summary['avg_messages_per_location'] = source_summary['total_messages'] / source_summary['unique_locations']\n",
        "\n",
        "# Sort by total messages descending\n",
        "source_summary = source_summary.sort_values(by='total_messages', ascending=False)\n",
        "\n",
        "# Print the summary table\n",
        "print(\"Summary by Source (including LocationID count and Avg Messages):\")\n",
        "# Displaying integer values for messages for clarity\n",
        "print(source_summary.to_markdown(index=False, numalign=\"left\", stralign=\"left\", floatfmt=\",.0f\"))"
      ],
      "metadata": {
        "id": "mIJxL-mO1_bm"
      },
      "execution_count": null,
      "outputs": []
    },
    {
      "cell_type": "code",
      "source": [],
      "metadata": {
        "id": "KU0in1ATP5Qj"
      },
      "execution_count": null,
      "outputs": []
    }
  ]
}