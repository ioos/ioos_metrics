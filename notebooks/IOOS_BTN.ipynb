{
 "cells": [
  {
   "cell_type": "markdown",
   "id": "703913af",
   "metadata": {},
   "source": [
    "# Creating the IOOS By The Numbers\n",
    "\n",
    "[Website](https://ioos.noaa.gov/about/ioos-by-the-numbers/)\n",
    "\n",
    "[Spreadsheet](https://docs.google.com/spreadsheets/d/1AUfXmc3OwxpVdeMNjZyTGWjyR4ku3kRD5eexNrMORnI/edit#gid=516871794)"
   ]
  },
  {
   "cell_type": "code",
   "execution_count": null,
   "id": "2e1ac2bd",
   "metadata": {},
   "outputs": [],
   "source": [
    "%%time\n",
    "from ioos_metrics.ioos_metrics import update_metrics\n",
    "\n",
    "ioos_btn_df = update_metrics()\n",
    "ioos_btn_df.tail()"
   ]
  },
  {
   "cell_type": "markdown",
   "id": "96f4afd3",
   "metadata": {},
   "source": [
    "## Analysis\n",
    "\n",
    "Now we have the opportunity to do some analysis on the metrics we've captured.\n",
    "\n",
    "Below is an attempt to draw some comparisons between the metrics in the previous iteration and subsequent runs."
   ]
  },
  {
   "cell_type": "code",
   "execution_count": null,
   "id": "b9248cf3",
   "metadata": {},
   "outputs": [],
   "source": [
    "import matplotlib.pyplot as plt\n",
    "import numpy as np\n",
    "import pandas as pd\n",
    "\n",
    "pd.set_option(\"future.no_silent_downcasting\", True)\n",
    "\n",
    "ioos_btn_df[\"date_UTC\"] = pd.to_datetime(ioos_btn_df[\"date_UTC\"])\n",
    "ioos_btn_df = ioos_btn_df.fillna(np.nan)\n",
    "\n",
    "labels = ioos_btn_df.drop(columns=[\"date_UTC\"]).columns.tolist()\n",
    "\n",
    "x = np.arange(len(labels))\n",
    "width = 0.35\n",
    "\n",
    "fig, ax = plt.subplots()\n",
    "\n",
    "for _, row in ioos_btn_df.iterrows():\n",
    "    means = row.drop(index=[\"date_UTC\"]).to_numpy()\n",
    "    rects = ax.bar(\n",
    "        x - width / 2,\n",
    "        means,\n",
    "        width,\n",
    "        label=row[\"date_UTC\"].strftime(\"%Y-%m-%d\"),\n",
    "    )\n",
    "    width = width * -1\n",
    "\n",
    "# Add some text for labels, title and custom x-axis tick labels, etc.\n",
    "ax.set_ylabel(\"Count\")\n",
    "ax.set_title(\"Metric by year and type\")\n",
    "ax.set_xticks(x, labels)\n",
    "ax.legend()\n",
    "\n",
    "ax.xaxis.set_ticklabels(labels, rotation=90)\n",
    "fig.tight_layout()"
   ]
  },
  {
   "cell_type": "code",
   "execution_count": null,
   "id": "2a27e08d",
   "metadata": {},
   "outputs": [],
   "source": [
    "inc_df = ioos_btn_df.drop(columns=[\"date_UTC\"])\n",
    "\n",
    "increase = inc_df.iloc[-1] - inc_df.iloc[-2]\n",
    "pcnt_increase = (increase / inc_df.iloc[-2]) * 100\n",
    "\n",
    "fig, ax = plt.subplots(figsize=(12, 8))\n",
    "width = 0.35\n",
    "pcnt_increase.plot(kind=\"bar\", ax=ax, ylabel=\"% change\")\n",
    "\n",
    "plt.grid(visible=True, linestyle=\":\")\n",
    "ax.set_ylim(-100, 100)\n",
    "ax.set_title(\n",
    "    f\"% change of IOOS BTN metrics between {ioos_btn_df['date_UTC'].iloc[-2]} and {ioos_btn_df['date_UTC'].iloc[-1]}.\",\n",
    ")\n",
    "plt.hlines(0, xmin=0, xmax=len(pcnt_increase), linestyles=\"solid\")"
   ]
  }
 ],
 "metadata": {
  "kernelspec": {
   "display_name": "Python 3 (ipykernel)",
   "language": "python",
   "name": "python3"
  },
  "language_info": {
   "codemirror_mode": {
    "name": "ipython",
    "version": 3
   },
   "file_extension": ".py",
   "mimetype": "text/x-python",
   "name": "python",
   "nbconvert_exporter": "python",
   "pygments_lexer": "ipython3",
   "version": "3.12.1"
  }
 },
 "nbformat": 4,
 "nbformat_minor": 5
}
