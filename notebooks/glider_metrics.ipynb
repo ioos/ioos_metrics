{
 "cells": [
  {
   "cell_type": "code",
   "execution_count": null,
   "id": "00c5965b",
   "metadata": {},
   "outputs": [],
   "source": [
    "import subprocess\n",
    "import sys\n",
    "\n",
    "COLAB = \"google.colab\" in sys.modules\n",
    "\n",
    "\n",
    "def _install(package):\n",
    "    if COLAB:\n",
    "        answer = input(f\"Install {package}? [y/n]:\")\n",
    "        if answer.lower() in [\"y\", \"yes\"]:\n",
    "            subprocess.check_call(\n",
    "                [sys.executable, \"-m\", \"pip\", \"install\", \"--upgrade--quiet\", package],\n",
    "            )\n",
    "            print(f\"{package} installed!\")\n",
    "\n",
    "\n",
    "def _colab_install_missing_deps(deps):\n",
    "    import importlib\n",
    "\n",
    "    for dep in deps:\n",
    "        if importlib.util.find_spec(dep) is None:\n",
    "            _install(dep)\n",
    "\n",
    "\n",
    "deps = [\"ioos-metrics\"]\n",
    "_colab_install_missing_deps(deps)"
   ]
  },
  {
   "cell_type": "code",
   "execution_count": null,
   "id": "b66676ab",
   "metadata": {},
   "outputs": [],
   "source": [
    "from ioos_metrics.ioos_metrics import _ngdac_gliders as ngdac_gliders\n",
    "\n",
    "# The date format is YYYY-MM-DDTHH:mm:ss\n",
    "query = {\n",
    "    \"min_time\": \"2025-01-01T00:00:00\",\n",
    "    \"max_time\": \"2025-02-28T23:59:59\",\n",
    "    \"min_lat\": 10,\n",
    "    \"max_lat\": 42,\n",
    "    \"min_lon\": -99,\n",
    "    \"max_lon\": -50,\n",
    "}"
   ]
  },
  {
   "cell_type": "code",
   "execution_count": null,
   "id": "1c1bd78f",
   "metadata": {
    "scrolled": false
   },
   "outputs": [],
   "source": [
    "%%time\n",
    "\n",
    "import pandas as pd\n",
    "\n",
    "metadata_metrics = ngdac_gliders(**query)\n",
    "metadata_metrics[\"time_coverage_start\"] = pd.to_datetime(\n",
    "    metadata_metrics[\"time_coverage_start\"],\n",
    ")\n",
    "metadata_metrics[\"time_coverage_end\"] = pd.to_datetime(\n",
    "    metadata_metrics[\"time_coverage_end\"],\n",
    ")"
   ]
  },
  {
   "cell_type": "markdown",
   "id": "7d7f594e",
   "metadata": {},
   "source": [
    "We could save after the clean-ups below but let's keep it closer to gdutils for now and save as-is."
   ]
  },
  {
   "cell_type": "code",
   "execution_count": null,
   "id": "2599884b",
   "metadata": {
    "scrolled": false
   },
   "outputs": [],
   "source": [
    "_save_df = (\n",
    "    metadata_metrics[\n",
    "        [\n",
    "            \"glider\",\n",
    "            \"wmo_id\",\n",
    "            \"sea_name\",\n",
    "            \"time_coverage_start\",\n",
    "            \"time_coverage_end\",\n",
    "            \"days\",\n",
    "            \"num_profiles\",\n",
    "            \"institution\",\n",
    "            \"acknowledgment\",\n",
    "        ]\n",
    "    ]\n",
    "    .reset_index(\n",
    "        names=[\"dataset_id\"],\n",
    "    )\n",
    "    .sort_values(\n",
    "        by=\"dataset_id\",\n",
    "        key=lambda x: x.str.lower(),\n",
    "    )\n",
    "    .rename(\n",
    "        columns={\n",
    "            \"time_coverage_start\": \"start_date\",\n",
    "            \"time_coverage_end\": \"end_date\",\n",
    "            \"sea_name\": \"deployment_area\",\n",
    "        },\n",
    "    )\n",
    ")\n",
    "\n",
    "_save_df[\"start_date\"] = _save_df[\"start_date\"].dt.strftime(\"%m-%d-%Y\")\n",
    "_save_df[\"end_date\"] = _save_df[\"end_date\"].dt.strftime(\"%m-%d-%Y\")\n",
    "_save_df[\"days\"] = [d.days for d in _save_df[\"days\"]]\n",
    "\n",
    "_save_df.to_csv(\n",
    "    path_or_buf=\"glider_metadata_metrics.csv\",\n",
    "    index=False,\n",
    ")"
   ]
  },
  {
   "cell_type": "markdown",
   "id": "93755d4e",
   "metadata": {},
   "source": [
    "Everything below this cell is experimental and just for fun."
   ]
  },
  {
   "cell_type": "code",
   "execution_count": null,
   "id": "98c0482d",
   "metadata": {},
   "outputs": [],
   "source": [
    "gdf = metadata_metrics.copy()"
   ]
  },
  {
   "cell_type": "code",
   "execution_count": null,
   "id": "8e1e3478",
   "metadata": {},
   "outputs": [],
   "source": [
    "import geopandas\n",
    "\n",
    "colors = {\n",
    "    1: [\"#E6E6FA\", \"Jan\"],\n",
    "    2: [\"#D2691E\", \"Feb\"],\n",
    "    3: [\"#DC143C\", \"Mar\"],\n",
    "    4: [\"#7FFFD4\", \"Apr\"],\n",
    "    5: [\"#006400\", \"May\"],\n",
    "    6: [\"#FF8C00\", \"Jun\"],\n",
    "    7: [\"#2F4F4F\", \"Jul\"],\n",
    "    8: [\"#FF1493\", \"Aug\"],\n",
    "    9: [\"#FF69B4\", \"Sep\"],\n",
    "    10: [\"#7FFF00\", \"Oct\"],\n",
    "    11: [\"#BA55D3\", \"Nov\"],\n",
    "    12: [\"#EE82EE\", \"Dec\"],\n",
    "}\n",
    "\n",
    "\n",
    "gdf = gdf.reset_index(names=\"glider deployment\")\n",
    "gdf = gdf.rename({\"track\": \"geometry\"}, axis=1)\n",
    "style = [\n",
    "    {\n",
    "        \"lineColor\": colors[date.month][0],\n",
    "        \"fillColor\": colors[date.month][0],\n",
    "        \"weight\": 4,\n",
    "        \"color\": colors[date.month][0],\n",
    "    }\n",
    "    for date in gdf[\"time_coverage_start\"]\n",
    "]\n",
    "gdf[\"style\"] = style\n",
    "\n",
    "gdf = geopandas.GeoDataFrame(gdf)\n",
    "gdf = gdf.set_crs(epsg=4326)"
   ]
  },
  {
   "cell_type": "markdown",
   "id": "c88be7a6",
   "metadata": {},
   "source": [
    "The `metadata_metrics` is DataFrame with some basic metadata from all gliders in the query.\n",
    "Normalize `sea_names` column."
   ]
  },
  {
   "cell_type": "code",
   "execution_count": null,
   "id": "224b3ad8",
   "metadata": {},
   "outputs": [],
   "source": [
    "fix_names = {\n",
    "    \"mid atlantic bight\": \"mid-atlantic bight\",\n",
    "    \"north atlantic ocean\": \"north atlantic\",\n",
    "    \"northwest atlantic ocean\": \"northwest atlantic\",\n",
    "}\n",
    "\n",
    "metadata_metrics[\"sea_name\"] = metadata_metrics[\"sea_name\"].str.lower().str.strip().replace(fix_names)\n",
    "metadata_metrics[\"sea_name\"].value_counts().plot.barh();"
   ]
  },
  {
   "cell_type": "code",
   "execution_count": null,
   "id": "d73ab5eb",
   "metadata": {},
   "outputs": [],
   "source": [
    "short_names = {\n",
    "    \"bermuda institute of ocean sciences\": \"Bermuda IOS\",\n",
    "    \"ensenada center for scientific research and higher education and gulf of mexico ocean observing system (gcoos)\": \"GCOOS\",  # noqa: E501\n",
    "    \"mote marine laboratory\": \"MML\",\n",
    "    \"national oceanic and atmospheric administration (noaa) / atlantic oceanographic and meteorological laboratory (aoml), integrated ocean observing system (ioos), and gulf coast ocean observing system (gcoos)\": \"GCOOS\",  # noqa: E501\n",
    "    \"national oceanic and atmospheric administration (noaa) / atlantic oceanographic and meteorological laboratory (aoml), and integrated ocean observing system (ioos) / caribbean regional association for coastal ocean observing (caricoos)\": \"CARICOOS\",  # noqa: E501\n",
    "    \"naval oceanographic office\": \"NOO\",\n",
    "    \"rutgers university\": \"RU\",\n",
    "    \"skidaway institute of oceanography\": \"SIO\",\n",
    "    \"stony brook university\": \"SBO\",\n",
    "    \"texas a&m university\": \"Texas A&M\",\n",
    "    \"united states naval research laboratory\": \"NRL\",\n",
    "    \"university of connecticut\": \"UC\",\n",
    "    \"university of delaware\": \"UD\",\n",
    "    \"university of louisiana at lafayette\": \"ULL\",\n",
    "    \"university of south florida\": \"USF\",\n",
    "    \"university of south florida college of marine science ocean technology group\": \"USF\",\n",
    "    \"university of southern mississippi\": \"USM\",\n",
    "    \"university of the virgin islands, rutgers university\": \"UVI\",\n",
    "    \"virginia institute of marine science\": \"VIMS\",\n",
    "    \"virginia institute of marine science - the college of william & mary\": \"VIMS\",\n",
    "    \"woods hole oceanographic institution\": \"WHOI\",\n",
    "}\n",
    "\n",
    "metadata_metrics[\"institution\"] = metadata_metrics[\"institution\"].str.lower().str.strip().replace(short_names)\n",
    "metadata_metrics[\"institution\"].value_counts().plot.barh();"
   ]
  },
  {
   "cell_type": "code",
   "execution_count": null,
   "id": "437fbd5a",
   "metadata": {},
   "outputs": [],
   "source": [
    "import folium\n",
    "\n",
    "m = folium.Map()\n",
    "for _, glider in gdf.iterrows():\n",
    "    folium.GeoJson(\n",
    "        data=glider[\"geometry\"],\n",
    "        tooltip=glider[\"glider deployment\"],\n",
    "        popup=f\"{glider['time_coverage_start']} -- {glider['time_coverage_end']}\",\n",
    "    ).add_to(m)\n",
    "\n",
    "\n",
    "folium.Rectangle(\n",
    "    bounds=[\n",
    "        (query[\"min_lat\"], query[\"min_lon\"]),\n",
    "        (query[\"max_lat\"], query[\"max_lon\"]),\n",
    "    ],\n",
    ").add_to(m)\n",
    "m.fit_bounds(m.get_bounds())\n",
    "\n",
    "\n",
    "m"
   ]
  },
  {
   "cell_type": "markdown",
   "id": "fce4d6f9",
   "metadata": {},
   "source": [
    "Using `metadata_metrics` we can compute the glider days, number of profiles, deployments, and more."
   ]
  },
  {
   "cell_type": "code",
   "execution_count": null,
   "id": "c35d6584",
   "metadata": {},
   "outputs": [],
   "source": [
    "n_days = metadata_metrics[\"days\"].sum().days\n",
    "n_profiles = metadata_metrics[\"num_profiles\"].sum()\n",
    "n_deployments = len(metadata_metrics)"
   ]
  },
  {
   "cell_type": "code",
   "execution_count": null,
   "id": "3c8a9359",
   "metadata": {},
   "outputs": [],
   "source": [
    "import json\n",
    "\n",
    "print(\n",
    "    f\"\"\"\\\n",
    "Using the query params:\n",
    "{json.dumps(query, indent=4)}\n",
    "\n",
    "we got\\n\n",
    "{n_days=}\n",
    "{n_profiles=}\n",
    "{n_deployments=}\n",
    "\"\"\",\n",
    ")"
   ]
  }
 ],
 "metadata": {
  "kernelspec": {
   "display_name": "Python 3 (ipykernel)",
   "language": "python",
   "name": "python3"
  },
  "language_info": {
   "codemirror_mode": {
    "name": "ipython",
    "version": 3
   },
   "file_extension": ".py",
   "mimetype": "text/x-python",
   "name": "python",
   "nbconvert_exporter": "python",
   "pygments_lexer": "ipython3",
   "version": "3.13.3"
  }
 },
 "nbformat": 4,
 "nbformat_minor": 5
}
